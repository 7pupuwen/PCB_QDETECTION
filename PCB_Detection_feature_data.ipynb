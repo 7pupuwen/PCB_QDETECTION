{
 "cells": [
  {
   "cell_type": "markdown",
   "metadata": {},
   "source": [
    "# Installation"
   ]
  },
  {
   "cell_type": "code",
   "execution_count": 1,
   "metadata": {
    "colab": {
     "base_uri": "https://localhost:8080/"
    },
    "executionInfo": {
     "elapsed": 10036,
     "status": "ok",
     "timestamp": 1742726559636,
     "user": {
      "displayName": "Wendy",
      "userId": "14920560844896828867"
     },
     "user_tz": -480
    },
    "id": "obM8w9kTsVMW",
    "outputId": "0ae198fc-6db1-4166-c374-0f59807d9995"
   },
   "outputs": [],
   "source": [
    "! pip install pennylane -q"
   ]
  },
  {
   "cell_type": "code",
   "execution_count": 18,
   "metadata": {},
   "outputs": [
    {
     "name": "stdout",
     "output_type": "stream",
     "text": [
      "Collecting opencv-python\n",
      "  Downloading opencv_python-4.11.0.86-cp37-abi3-win_amd64.whl.metadata (20 kB)\n",
      "Requirement already satisfied: numpy>=1.21.2 in c:\\users\\wenwe\\anaconda3\\lib\\site-packages (from opencv-python) (1.26.4)\n",
      "Downloading opencv_python-4.11.0.86-cp37-abi3-win_amd64.whl (39.5 MB)\n",
      "   ---------------------------------------- 0.0/39.5 MB ? eta -:--:--\n",
      "   -- ------------------------------------- 2.1/39.5 MB 14.7 MB/s eta 0:00:03\n",
      "   ------ --------------------------------- 6.0/39.5 MB 16.1 MB/s eta 0:00:03\n",
      "   --------- ------------------------------ 9.7/39.5 MB 17.3 MB/s eta 0:00:02\n",
      "   ------------- -------------------------- 13.6/39.5 MB 16.8 MB/s eta 0:00:02\n",
      "   ------------------ --------------------- 18.6/39.5 MB 18.4 MB/s eta 0:00:02\n",
      "   ----------------------- ---------------- 23.1/39.5 MB 18.7 MB/s eta 0:00:01\n",
      "   ---------------------------- ----------- 28.0/39.5 MB 19.5 MB/s eta 0:00:01\n",
      "   ---------------------------------- ----- 33.8/39.5 MB 20.4 MB/s eta 0:00:01\n",
      "   ---------------------------------------  39.3/39.5 MB 21.2 MB/s eta 0:00:01\n",
      "   ---------------------------------------- 39.5/39.5 MB 20.1 MB/s eta 0:00:00\n",
      "Installing collected packages: opencv-python\n",
      "Successfully installed opencv-python-4.11.0.86\n"
     ]
    }
   ],
   "source": [
    "! pip install opencv-python"
   ]
  },
  {
   "cell_type": "code",
   "execution_count": 28,
   "metadata": {
    "colab": {
     "base_uri": "https://localhost:8080/"
    },
    "executionInfo": {
     "elapsed": 1546,
     "status": "ok",
     "timestamp": 1742726602214,
     "user": {
      "displayName": "Wendy",
      "userId": "14920560844896828867"
     },
     "user_tz": -480
    },
    "id": "_Q70o3GnsXKh",
    "outputId": "2460a47d-ad40-44d4-c97a-650b281b2bf6"
   },
   "outputs": [
    {
     "name": "stdout",
     "output_type": "stream",
     "text": [
      "train_labels.csv convert finish！\n",
      "                           image_name  class_id  x_center  y_center   width  \\\n",
      "0  light_01_missing_hole_01_1_256.jpg         2    0.4350    0.7008  0.0700   \n",
      "1  light_01_missing_hole_01_2_256.jpg         2    0.6367    0.0508  0.0667   \n",
      "2  light_01_missing_hole_01_2_256.jpg         2    0.7575    0.5333  0.0717   \n",
      "3  light_01_missing_hole_02_1_256.jpg         2    0.5633    0.2783  0.0667   \n",
      "4  light_01_missing_hole_02_1_256.jpg         2    0.3208    0.8733  0.0383   \n",
      "5  light_01_missing_hole_03_1_256.jpg         2    0.6258    0.5350  0.0483   \n",
      "6  light_01_missing_hole_03_1_256.jpg         2    0.0292    0.6317  0.0517   \n",
      "7  light_01_missing_hole_04_1_256.jpg         2    0.3808    0.8242  0.0483   \n",
      "8  light_01_missing_hole_04_2_256.jpg         2    0.3808    0.1575  0.0483   \n",
      "9  light_01_missing_hole_04_2_256.jpg         2    0.2600    0.4242  0.0600   \n",
      "\n",
      "   height  \n",
      "0  0.0550  \n",
      "1  0.0617  \n",
      "2  0.0600  \n",
      "3  0.0667  \n",
      "4  0.0567  \n",
      "5  0.0433  \n",
      "6  0.0367  \n",
      "7  0.0583  \n",
      "8  0.0583  \n",
      "9  0.0583  \n",
      "val_labels.csv convert finish！\n",
      "                           image_name  class_id  x_center  y_center   width  \\\n",
      "0  light_01_missing_hole_02_2_256.jpg         2    0.3208    0.2067  0.0383   \n",
      "1  light_01_missing_hole_03_2_256.jpg         2    0.3433    0.4783  0.0500   \n",
      "2  light_01_missing_hole_05_1_256.jpg         2    0.8742    0.3483  0.0550   \n",
      "3  light_01_missing_hole_05_1_256.jpg         2    0.3325    0.3517  0.0750   \n",
      "4  light_01_missing_hole_07_2_256.jpg         2    0.7617    0.0533  0.0567   \n",
      "5  light_01_missing_hole_07_2_256.jpg         2    0.4100    0.8042  0.0800   \n",
      "6  light_01_missing_hole_09_1_256.jpg         2    0.2017    0.5383  0.0600   \n",
      "7  light_01_missing_hole_10_3_256.jpg         2    0.6392    0.1167  0.0483   \n",
      "8  light_01_missing_hole_18_3_256.jpg         2    0.1575    0.9567  0.0583   \n",
      "9  light_01_missing_hole_18_3_256.jpg         2    0.7575    0.9042  0.0583   \n",
      "\n",
      "   height  \n",
      "0  0.0567  \n",
      "1  0.0467  \n",
      "2  0.0667  \n",
      "3  0.0800  \n",
      "4  0.0533  \n",
      "5  0.0817  \n",
      "6  0.0600  \n",
      "7  0.0500  \n",
      "8  0.0533  \n",
      "9  0.0517  \n",
      "test_labels.csv convert finish！\n",
      "                           image_name  class_id  x_center  y_center   width  \\\n",
      "0  light_01_missing_hole_02_3_256.jpg         2    0.5175    0.5383  0.0517   \n",
      "1  light_01_missing_hole_05_2_256.jpg         2    0.0517    0.8008  0.0400   \n",
      "2  light_01_missing_hole_05_2_256.jpg         2    0.6358    0.1142  0.0650   \n",
      "3  light_01_missing_hole_06_3_256.jpg         2    0.4567    0.2042  0.0567   \n",
      "4  light_01_missing_hole_06_3_256.jpg         2    0.3317    0.9658  0.0600   \n",
      "5  light_01_missing_hole_07_1_256.jpg         2    0.5608    0.2800  0.0683   \n",
      "6  light_01_missing_hole_08_2_256.jpg         2    0.7417    0.7708  0.0600   \n",
      "7  light_01_missing_hole_10_1_256.jpg         2    0.3783    0.8242  0.0567   \n",
      "8  light_01_missing_hole_10_1_256.jpg         2    0.9358    0.6858  0.0483   \n",
      "9  light_01_missing_hole_11_5_256.jpg         2    0.5142    0.4742  0.0583   \n",
      "\n",
      "   height  \n",
      "0  0.0533  \n",
      "1  0.0550  \n",
      "2  0.0683  \n",
      "3  0.0617  \n",
      "4  0.0650  \n",
      "5  0.0567  \n",
      "6  0.0683  \n",
      "7  0.0650  \n",
      "8  0.0583  \n",
      "9  0.0650  \n"
     ]
    }
   ],
   "source": [
    "import os\n",
    "import pandas as pd\n",
    "\n",
    "# Set the label files\n",
    "train_labels_path = \"C:/Users/wenwe/Desktop/Lab_QC/Wendy/pcb-defect-dataset/train/labels\"\n",
    "val_labels_path = \"C:/Users/wenwe/Desktop/Lab_QC/Wendy/pcb-defect-dataset/val/labels\"\n",
    "test_labels_path = \"C:/Users/wenwe/Desktop/Lab_QC/Wendy/pcb-defect-dataset/test/labels\"\n",
    "\n",
    "# Definition of convert label to csv\n",
    "def convert_labels_to_csv(labels_path, output_csv):\n",
    "    data = []\n",
    "\n",
    "    # read every .txt file\n",
    "    for file in os.listdir(labels_path):\n",
    "        if file.endswith(\".txt\"):\n",
    "            file_path = os.path.join(labels_path, file)\n",
    "            image_name = file.replace(\".txt\", \".jpg\")  # The file name corresponding to the image\n",
    "            with open(file_path, \"r\") as f:\n",
    "                lines = f.readlines()  #A .txt may have multiple lines of tags\n",
    "\n",
    "                for line in lines:\n",
    "                    values = line.strip().split()\n",
    "                    class_id = int(values[0])  # Defect category\n",
    "                    x_center, y_center, width, height = map(float, values[1:])  # Analyze numerical values\n",
    "\n",
    "                    # Save to DataFrame\n",
    "                    data.append([image_name, class_id, x_center, y_center, width, height])\n",
    "\n",
    "    # create DataFrame\n",
    "    df = pd.DataFrame(data, columns=[\"image_name\", \"class_id\", \"x_center\", \"y_center\", \"width\", \"height\"])\n",
    "\n",
    "    # Save as CSV\n",
    "    df.to_csv(output_csv, index=False)\n",
    "\n",
    "    print(f\"{output_csv} convert finish！\")\n",
    "    print(df.head(10))  # show the first 10 data\n",
    "\n",
    "# covert `train`、`val`、`test` labels\n",
    "convert_labels_to_csv(train_labels_path, \"train_labels.csv\")\n",
    "convert_labels_to_csv(val_labels_path, \"val_labels.csv\")\n",
    "convert_labels_to_csv(test_labels_path, \"test_labels.csv\")"
   ]
  },
  {
   "cell_type": "code",
   "execution_count": 1,
   "metadata": {
    "colab": {
     "base_uri": "https://localhost:8080/"
    },
    "executionInfo": {
     "elapsed": 32699,
     "status": "ok",
     "timestamp": 1742737595017,
     "user": {
      "displayName": "Wendy",
      "userId": "14920560844896828867"
     },
     "user_tz": -480
    },
    "id": "-gA_Gh4asuF_",
    "outputId": "8d6640d8-b8c4-4907-ab92-b442fa889acf"
   },
   "outputs": [
    {
     "name": "stdout",
     "output_type": "stream",
     "text": [
      "train_labels.csv processed, image data size: (6370, 64, 64), label data size: (6370,)\n",
      "val_labels.csv processed, image data size: (802, 64, 64), label data size: (802,)\n",
      "test_labels.csv processed, image data size: (829, 64, 64), label data size: (829,)\n"
     ]
    }
   ],
   "source": [
    "import os\n",
    "import cv2\n",
    "import numpy as np\n",
    "import pandas as pd\n",
    "\n",
    "#Set up image folder\n",
    "train_images_path = \"C:/Users/wenwe/Desktop/Lab_QC/Wendy/pcb-defect-dataset/train/images\"\n",
    "val_images_path = \"C:/Users/wenwe/Desktop/Lab_QC/Wendy/pcb-defect-dataset/val/images\"\n",
    "test_images_path = \"C:/Users/wenwe/Desktop/Lab_QC/Wendy/pcb-defect-dataset/test/images\"\n",
    "\n",
    "# Read tag CSV\n",
    "train_labels_csv = \"train_labels.csv\"\n",
    "val_labels_csv = \"val_labels.csv\"\n",
    "test_labels_csv = \"test_labels.csv\"\n",
    "\n",
    "# Define functions to read images and match tags\n",
    "def load_images_and_labels(images_path, labels_csv):\n",
    "    df = pd.read_csv(labels_csv)  # 讀取 CSV 標籤\n",
    "\n",
    "    # 合併相同 image_name，取出最常出現的 class_id（單一標籤）\n",
    "    df = df.groupby(\"image_name\")[\"class_id\"].agg(lambda x: x.value_counts().index[0]).reset_index()\n",
    "\n",
    "    X, y = [], []\n",
    "\n",
    "    for _, row in df.iterrows():\n",
    "        img_path = os.path.join(images_path, row[\"image_name\"])\n",
    "\n",
    "        if os.path.exists(img_path):\n",
    "            img = cv2.imread(img_path, cv2.IMREAD_GRAYSCALE)   # 灰階\n",
    "            img = cv2.resize(img, (64, 64)) / 255.0             # Resize + normalize\n",
    "            X.append(img)\n",
    "            y.append(row[\"class_id\"])  # 注意這裡只剩下唯一 class_id\n",
    "\n",
    "    # 轉成 NumPy\n",
    "    X = np.array(X)\n",
    "    y = np.array(y)\n",
    "\n",
    "    print(f\"{labels_csv} processed, image data size: {X.shape}, label data size: {y.shape}\")\n",
    "    return X, y\n",
    "\n",
    "# read `train`、`val`、`test` data\n",
    "X_train, y_train = load_images_and_labels(train_images_path, train_labels_csv)\n",
    "X_val, y_val = load_images_and_labels(val_images_path, val_labels_csv)\n",
    "X_test, y_test = load_images_and_labels(test_images_path, test_labels_csv)"
   ]
  },
  {
   "cell_type": "code",
   "execution_count": 32,
   "metadata": {},
   "outputs": [
    {
     "name": "stdout",
     "output_type": "stream",
     "text": [
      "取樣後的影像數據 (Train): (2000, 64, 64)\n",
      "取樣後的標籤數據 (Train): (2000,)\n"
     ]
    }
   ],
   "source": [
    "from sklearn.model_selection import train_test_split\n",
    "import numpy as np\n",
    "\n",
    "X_train, _, y_train, _ = train_test_split(X_train, y_train, train_size=2000, random_state=42, stratify=y_train)\n",
    "\n",
    "print(\"取樣後的影像數據 (Train):\", X_train.shape)  # (2000, 64, 64)\n",
    "print(\"取樣後的標籤數據 (Train):\", y_train.shape)  # (2000,)"
   ]
  },
  {
   "cell_type": "code",
   "execution_count": 34,
   "metadata": {
    "colab": {
     "base_uri": "https://localhost:8080/"
    },
    "executionInfo": {
     "elapsed": 139,
     "status": "ok",
     "timestamp": 1742737595158,
     "user": {
      "displayName": "Wendy",
      "userId": "14920560844896828867"
     },
     "user_tz": -480
    },
    "id": "gdAmEmfJKFkC",
    "outputId": "e890a91c-a35a-4c90-c60b-cb503cb7a4bc"
   },
   "outputs": [
    {
     "name": "stdout",
     "output_type": "stream",
     "text": [
      "label=0 訓練數據數量: (351, 64, 64)\n",
      "label=0 訓練數據數量: (140, 64, 64)\n",
      "label=0 訓練數據數量: (131, 64, 64)\n",
      "訓練資料 label=1 數量: (328, 64, 64)\n",
      "驗證資料 label=1 數量: (130, 64, 64)\n",
      "測試資料 label=1 數量: (138, 64, 64)\n"
     ]
    }
   ],
   "source": [
    "# Choose label=0&1\n",
    "X_train_0 = X_train[y_train == 0]\n",
    "y_train_0 = y_train[y_train == 0]\n",
    "\n",
    "X_train_1 = X_train[y_train == 1]\n",
    "y_train_1 = y_train[y_train == 1]\n",
    "\n",
    "X_val_0 = X_val[y_val == 0]\n",
    "y_val_0 = y_val[y_val == 0]\n",
    "\n",
    "X_val_1 = X_val[y_val == 1]\n",
    "y_val_1 = y_val[y_val == 1]\n",
    "\n",
    "X_test_0 = X_test[y_test == 0]\n",
    "y_test_0 = y_test[y_test == 0]\n",
    "\n",
    "X_test_1 = X_test[y_test == 1]\n",
    "y_test_1 = y_test[y_test == 1]\n",
    "\n",
    "print(f\"label=0 訓練數據數量: {X_train_0.shape}\")\n",
    "print(f\"label=0 訓練數據數量: {X_val_0.shape}\")\n",
    "print(f\"label=0 訓練數據數量: {X_test_0.shape}\")\n",
    "\n",
    "print(f\"訓練資料 label=1 數量: {X_train_1.shape}\")\n",
    "print(f\"驗證資料 label=1 數量: {X_val_1.shape}\")\n",
    "print(f\"測試資料 label=1 數量: {X_test_1.shape}\")\n"
   ]
  },
  {
   "cell_type": "code",
   "execution_count": 36,
   "metadata": {
    "colab": {
     "base_uri": "https://localhost:8080/",
     "height": 553
    },
    "executionInfo": {
     "elapsed": 227,
     "status": "ok",
     "timestamp": 1742737595386,
     "user": {
      "displayName": "Wendy",
      "userId": "14920560844896828867"
     },
     "user_tz": -480
    },
    "id": "7wxBGd0YwrXY",
    "outputId": "852e0138-97be-4180-b5d4-a608443c251c"
   },
   "outputs": [
    {
     "data": {
      "text/plain": [
       "(<Figure size 800x500 with 1 Axes>, <Axes: >)"
      ]
     },
     "execution_count": 36,
     "metadata": {},
     "output_type": "execute_result"
    },
    {
     "data": {
      "image/png": "[encoded data removed]",
      "text/plain": [
       "<Figure size 800x500 with 1 Axes>"
      ]
     },
     "metadata": {},
     "output_type": "display_data"
    }
   ],
   "source": [
    "import pennylane as qml\n",
    "import numpy as np\n",
    "\n",
    "n_qubits = 4\n",
    "dev = qml.device(\"default.qubit\", wires=n_qubits, shots=1000)  # 多次測量以模擬現實\n",
    "\n",
    "@qml.qnode(dev)\n",
    "def quantum_kernel(x):\n",
    "    \"\"\"\n",
    "    接收一個 2x2 patch（flatten 後長度為 4），\n",
    "    回傳每個 qubit 在 Z、X 軸的期望值（共 8 維特徵）\n",
    "    \"\"\"\n",
    "    # 資料嵌入\n",
    "    for i in range(n_qubits):\n",
    "        qml.RY(x[i] * np.pi, wires=i)  # 用 RY 輸入影像像素\n",
    "        qml.Hadamard(wires=i)\n",
    "\n",
    "    # 加入糾纏（局部 entanglement）\n",
    "    for i in range(n_qubits - 1):\n",
    "        qml.CNOT(wires=[i, i + 1])\n",
    "\n",
    "    # 測量 Pauli Z + X 軸的期望值\n",
    "    z_expectations = [qml.expval(qml.PauliZ(i)) for i in range(n_qubits)]\n",
    "    x_expectations = [qml.expval(qml.PauliX(i)) for i in range(n_qubits)]\n",
    "\n",
    "    return z_expectations + x_expectations  # 共 8 維特徵向量\n",
    "\n",
    "x_test = np.random.rand(4)  # 產生 4 個隨機數\n",
    "qml.draw_mpl(quantum_kernel)(x_test)"
   ]
  },
  {
   "cell_type": "code",
   "execution_count": 38,
   "metadata": {
    "executionInfo": {
     "elapsed": 7,
     "status": "ok",
     "timestamp": 1742737595394,
     "user": {
      "displayName": "Wendy",
      "userId": "14920560844896828867"
     },
     "user_tz": -480
    },
    "id": "HUgTzit7wxCB"
   },
   "outputs": [],
   "source": [
    "def quanvolution(image):\n",
    "    \"\"\"\n",
    "    對影像套用量子卷積，提取每個 2x2 patch 的 Z+X 特徵（共 8 維）\n",
    "    最後輸出 flatten 的特徵向量。\n",
    "    \"\"\"\n",
    "    output_shape = (image.shape[0] // 2, image.shape[1] // 2, 8)  # 每個 patch 會對應 8 維特徵\n",
    "    q_image = np.zeros(output_shape)\n",
    "\n",
    "    for i in range(0, image.shape[0], 2):\n",
    "        for j in range(0, image.shape[1], 2):\n",
    "            patch = image[i:i+2, j:j+2].flatten()\n",
    "            q_features = quantum_kernel(patch)\n",
    "            q_image[i // 2, j // 2] = q_features\n",
    "\n",
    "    return q_image.flatten()  # 回傳 flatten 過後的特徵向量（可接分類器）"
   ]
  },
  {
   "cell_type": "code",
   "execution_count": 40,
   "metadata": {
    "colab": {
     "base_uri": "https://localhost:8080/"
    },
    "executionInfo": {
     "elapsed": 9057564,
     "status": "ok",
     "timestamp": 1742746652960,
     "user": {
      "displayName": "Wendy",
      "userId": "14920560844896828867"
     },
     "user_tz": -480
    },
    "id": "CSJERG6FPdwr",
    "outputId": "cc20b632-9777-40c1-85bd-d231c399936b"
   },
   "outputs": [
    {
     "name": "stdout",
     "output_type": "stream",
     "text": [
      " X_train_0 shape: (351, 8192)\n",
      " X_val_0 shape: (140, 8192)\n",
      "X_test_0 shape: (131, 8192)\n"
     ]
    }
   ],
   "source": [
    "X_train_0 = np.array([quanvolution(img) for img in X_train_0])\n",
    "X_val_0 = np.array([quanvolution(img) for img in X_val_0])\n",
    "X_test_0 = np.array([quanvolution(img) for img in X_test_0])\n",
    "\n",
    "print(\" X_train_0 shape:\", X_train_0.shape)  # (84, 特徵數)\n",
    "print(\" X_val_0 shape:\", X_val_0.shape)      # (88, 特徵數)\n",
    "print(\"X_test_0 shape:\", X_test_0.shape)    # (79, 特徵數)"
   ]
  },
  {
   "cell_type": "code",
   "execution_count": 41,
   "metadata": {
    "colab": {
     "base_uri": "https://localhost:8080/"
    },
    "executionInfo": {
     "elapsed": 8465226,
     "status": "ok",
     "timestamp": 1742755118194,
     "user": {
      "displayName": "Wendy",
      "userId": "14920560844896828867"
     },
     "user_tz": -480
    },
    "id": "Er6zzd8gLKDd",
    "outputId": "da83f23b-3670-43af-b242-0b50465f747b"
   },
   "outputs": [
    {
     "name": "stdout",
     "output_type": "stream",
     "text": [
      " X_train_1 shape: (328, 8192)\n",
      " X_val_1 shape: (130, 8192)\n",
      "X_test_1 shape: (138, 8192)\n"
     ]
    }
   ],
   "source": [
    "X_train_1 = np.array([quanvolution(img) for img in X_train_1])\n",
    "X_val_1 = np.array([quanvolution(img) for img in X_val_1])\n",
    "X_test_1 = np.array([quanvolution(img) for img in X_test_1])\n",
    "\n",
    "print(\" X_train_1 shape:\", X_train_1.shape)  # (84, 特徵數)\n",
    "print(\" X_val_1 shape:\", X_val_1.shape)      # (82, 特徵數)\n",
    "print(\"X_test_1 shape:\", X_test_1.shape)    # (84, 特徵數)"
   ]
  },
  {
   "cell_type": "code",
   "execution_count": 42,
   "metadata": {
    "colab": {
     "base_uri": "https://localhost:8080/"
    },
    "executionInfo": {
     "elapsed": 430,
     "status": "ok",
     "timestamp": 1742755118622,
     "user": {
      "displayName": "Wendy",
      "userId": "14920560844896828867"
     },
     "user_tz": -480
    },
    "id": "Mmyc2JbFU8i-",
    "outputId": "edc49e79-be87-435f-a999-e0898df17738"
   },
   "outputs": [
    {
     "name": "stdout",
     "output_type": "stream",
     "text": [
      "合併後的訓練數據: (679, 8192)\n",
      "合併後的標籤數據: (679,)\n",
      "合併後的訓練數據: (270, 8192)\n",
      "合併後的標籤數據: (270,)\n",
      "合併後的訓練數據: (269, 8192)\n",
      "合併後的標籤數據: (269,)\n"
     ]
    }
   ],
   "source": [
    "# 合併 label=0 和 label=1 的量子特徵數據\n",
    "X_train_01 = np.vstack([X_train_0, X_train_1])\n",
    "y_train_01 = np.hstack([y_train_0, y_train_1])\n",
    "\n",
    "print(f\"合併後的訓練數據: {X_train_01.shape}\")\n",
    "print(f\"合併後的標籤數據: {y_train_01.shape}\")\n",
    "\n",
    "X_val_01 = np.vstack([X_val_0, X_val_1])\n",
    "y_val_01 = np.hstack([y_val_0, y_val_1])\n",
    "\n",
    "print(f\"合併後的訓練數據: {X_val_01.shape}\")\n",
    "print(f\"合併後的標籤數據: {y_val_01.shape}\")\n",
    "\n",
    "X_test_01 = np.vstack([X_test_0, X_test_1])\n",
    "y_test_01 = np.hstack([y_test_0, y_test_1])\n",
    "\n",
    "print(f\"合併後的訓練數據: {X_test_01.shape}\")\n",
    "print(f\"合併後的標籤數據: {y_test_01.shape}\")"
   ]
  },
  {
   "cell_type": "code",
   "execution_count": 43,
   "metadata": {
    "executionInfo": {
     "elapsed": 630,
     "status": "ok",
     "timestamp": 1742755119253,
     "user": {
      "displayName": "Wendy",
      "userId": "14920560844896828867"
     },
     "user_tz": -480
    },
    "id": "KUR_wIgjan2T"
   },
   "outputs": [],
   "source": [
    "np.save(\"qcnn_features_X_train_01.npy\", X_train_01)\n",
    "np.save(\"qcnn_labels_y_train_01.npy\", y_train_01)\n",
    "\n",
    "np.save(\"qcnn_features_X_val_01.npy\", X_val_01)\n",
    "np.save(\"qcnn_labels_y_val_01.npy\", y_val_01)\n",
    "\n",
    "np.save(\"qcnn_features_X_test_01.npy\", X_test_01)\n",
    "np.save(\"qcnn_labels_y_test_01.npy\", y_test_01)"
   ]
  },
  {
   "cell_type": "code",
   "execution_count": null,
   "metadata": {},
   "outputs": [],
   "source": []
  }
 ],
 "metadata": {
  "accelerator": "GPU",
  "colab": {
   "gpuType": "T4",
   "provenance": [
    {
     "file_id": "1Fw8qqk8309Z3o2oUq9hbLigpGXkk9zWL",
     "timestamp": 1742720260685
    },
    {
     "file_id": "https://github.com/7pupuwen/PCB_QDETECTION/blob/main/PCB_Detection_8.2.ipynb",
     "timestamp": 1742618375538
    }
   ]
  },
  "kernelspec": {
   "display_name": "Python [conda env:base] *",
   "language": "python",
   "name": "conda-base-py"
  },
  "language_info": {
   "codemirror_mode": {
    "name": "ipython",
    "version": 3
   },
   "file_extension": ".py",
   "mimetype": "text/x-python",
   "name": "python",
   "nbconvert_exporter": "python",
   "pygments_lexer": "ipython3",
   "version": "3.12.7"
  }
 },
 "nbformat": 4,
 "nbformat_minor": 4
}
