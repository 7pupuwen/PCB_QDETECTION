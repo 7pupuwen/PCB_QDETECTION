{
  "nbformat": 4,
  "nbformat_minor": 0,
  "metadata": {
    "colab": {
      "provenance": [],
      "gpuType": "T4",
      "include_colab_link": true
    },
    "kernelspec": {
      "name": "python3",
      "display_name": "Python 3"
    },
    "language_info": {
      "name": "python"
    },
    "accelerator": "GPU"
  },
  "cells": [
    {
      "cell_type": "markdown",
      "metadata": {
        "id": "view-in-github",
        "colab_type": "text"
      },
      "source": [
        "<a href=\"https://colab.research.google.com/github/7pupuwen/PCB_QDETECTION/blob/main/PCB_Detection_feature_data.ipynb\" target=\"_parent\"><img src=\"https://colab.research.google.com/assets/colab-badge.svg\" alt=\"Open In Colab\"/></a>"
      ]
    },
    {
      "cell_type": "code",
      "source": [
        "! pip install pennylane -q"
      ],
      "metadata": {
        "id": "obM8w9kTsVMW",
        "colab": {
          "base_uri": "https://localhost:8080/"
        },
        "outputId": "0ae198fc-6db1-4166-c374-0f59807d9995"
      },
      "execution_count": 3,
      "outputs": [
        {
          "output_type": "stream",
          "name": "stdout",
          "text": [
            "\u001b[?25l     \u001b[90m━━━━━━━━━━━━━━━━━━━━━━━━━━━━━━━━━━━━━━━━\u001b[0m \u001b[32m0.0/56.1 kB\u001b[0m \u001b[31m?\u001b[0m eta \u001b[36m-:--:--\u001b[0m\r\u001b[2K     \u001b[90m━━━━━━━━━━━━━━━━━━━━━━━━━━━━━━━━━━━━━━━━\u001b[0m \u001b[32m56.1/56.1 kB\u001b[0m \u001b[31m2.5 MB/s\u001b[0m eta \u001b[36m0:00:00\u001b[0m\n",
            "\u001b[2K   \u001b[90m━━━━━━━━━━━━━━━━━━━━━━━━━━━━━━━━━━━━━━━━\u001b[0m \u001b[32m2.0/2.0 MB\u001b[0m \u001b[31m27.4 MB/s\u001b[0m eta \u001b[36m0:00:00\u001b[0m\n",
            "\u001b[2K   \u001b[90m━━━━━━━━━━━━━━━━━━━━━━━━━━━━━━━━━━━━━━━━\u001b[0m \u001b[32m930.8/930.8 kB\u001b[0m \u001b[31m36.0 MB/s\u001b[0m eta \u001b[36m0:00:00\u001b[0m\n",
            "\u001b[2K   \u001b[90m━━━━━━━━━━━━━━━━━━━━━━━━━━━━━━━━━━━━━━━━\u001b[0m \u001b[32m2.4/2.4 MB\u001b[0m \u001b[31m63.7 MB/s\u001b[0m eta \u001b[36m0:00:00\u001b[0m\n",
            "\u001b[2K   \u001b[90m━━━━━━━━━━━━━━━━━━━━━━━━━━━━━━━━━━━━━━━━\u001b[0m \u001b[32m2.1/2.1 MB\u001b[0m \u001b[31m55.8 MB/s\u001b[0m eta \u001b[36m0:00:00\u001b[0m\n",
            "\u001b[2K   \u001b[90m━━━━━━━━━━━━━━━━━━━━━━━━━━━━━━━━━━━━━━━━\u001b[0m \u001b[32m167.9/167.9 kB\u001b[0m \u001b[31m8.4 MB/s\u001b[0m eta \u001b[36m0:00:00\u001b[0m\n",
            "\u001b[2K   \u001b[90m━━━━━━━━━━━━━━━━━━━━━━━━━━━━━━━━━━━━━━━━\u001b[0m \u001b[32m8.6/8.6 MB\u001b[0m \u001b[31m53.3 MB/s\u001b[0m eta \u001b[36m0:00:00\u001b[0m\n",
            "\u001b[?25h"
          ]
        }
      ]
    },
    {
      "cell_type": "code",
      "source": [
        "api_token = {\"username\":\"doudoutz\",\"key\":\"0c5febc722e952ed3a94be3165401d06\"}\n",
        "import json\n",
        "import zipfile\n",
        "import os\n",
        "\n",
        "if not os.path.exists(\"/root/.kaggle\"):\n",
        "    os.makedirs(\"/root/.kaggle\")\n",
        "\n",
        "with open('/root/.kaggle/kaggle.json', 'w') as file:\n",
        "    json.dump(api_token, file)\n",
        "!chmod 600 /root/.kaggle/kaggle.json\n",
        "\n",
        "if not os.path.exists(\"/kaggle\"):\n",
        "    os.makedirs(\"/kaggle\")\n",
        "os.chdir('/kaggle')\n",
        "\n",
        "!kaggle datasets download -d norbertelter/pcb-defect-dataset -q\n",
        "!unzip -q pcb-defect-dataset.zip -d pcb_data"
      ],
      "metadata": {
        "id": "x96utl2D-6BY",
        "outputId": "364f4c50-cd55-4e9c-8ee3-6019da13b6b7",
        "colab": {
          "base_uri": "https://localhost:8080/"
        }
      },
      "execution_count": 4,
      "outputs": [
        {
          "output_type": "stream",
          "name": "stdout",
          "text": [
            "Dataset URL: https://www.kaggle.com/datasets/norbertelter/pcb-defect-dataset\n",
            "License(s): unknown\n"
          ]
        }
      ]
    },
    {
      "cell_type": "code",
      "source": [
        "#export KAGGLE_USERNAME=doudoutz\n",
        "#export KAGGLE_KEY=0c5febc722e952ed3a94be3165401d06"
      ],
      "metadata": {
        "id": "FHyZXqhIAkKJ"
      },
      "execution_count": 5,
      "outputs": []
    },
    {
      "cell_type": "code",
      "source": [
        "import os\n",
        "import pandas as pd\n",
        "\n",
        "# Set the label files\n",
        "train_labels_path = \"/kaggle/pcb_data/pcb-defect-dataset/train/labels\"\n",
        "val_labels_path = \"/kaggle/pcb_data/pcb-defect-dataset/val/labels\"\n",
        "test_labels_path = \"/kaggle/pcb_data/pcb-defect-dataset/test/labels\"\n",
        "\n",
        "# Definition of convert label to csv\n",
        "def convert_labels_to_csv(labels_path, output_csv):\n",
        "    data = []\n",
        "\n",
        "    # read every .txt file\n",
        "    for file in os.listdir(labels_path):\n",
        "        if file.endswith(\".txt\"):\n",
        "            file_path = os.path.join(labels_path, file)\n",
        "            image_name = file.replace(\".txt\", \".jpg\")  # The file name corresponding to the image\n",
        "            with open(file_path, \"r\") as f:\n",
        "                lines = f.readlines()  #A .txt may have multiple lines of tags\n",
        "\n",
        "                for line in lines:\n",
        "                    values = line.strip().split()\n",
        "                    class_id = int(values[0])  # Defect category\n",
        "                    x_center, y_center, width, height = map(float, values[1:])  # Analyze numerical values\n",
        "\n",
        "                    # Save to DataFrame\n",
        "                    data.append([image_name, class_id, x_center, y_center, width, height])\n",
        "\n",
        "    # create DataFrame\n",
        "    df = pd.DataFrame(data, columns=[\"image_name\", \"class_id\", \"x_center\", \"y_center\", \"width\", \"height\"])\n",
        "\n",
        "    # Save as CSV\n",
        "    df.to_csv(output_csv, index=False)\n",
        "\n",
        "    print(f\"{output_csv} convert finish！\")\n",
        "    print(df.head(10))  # show the first 10 data\n",
        "\n",
        "# covert `train`、`val`、`test` labels\n",
        "convert_labels_to_csv(train_labels_path, \"train_labels.csv\")\n",
        "convert_labels_to_csv(val_labels_path, \"val_labels.csv\")\n",
        "convert_labels_to_csv(test_labels_path, \"test_labels.csv\")"
      ],
      "metadata": {
        "id": "_Q70o3GnsXKh",
        "colab": {
          "base_uri": "https://localhost:8080/"
        },
        "outputId": "2460a47d-ad40-44d4-c97a-650b281b2bf6"
      },
      "execution_count": 6,
      "outputs": [
        {
          "output_type": "stream",
          "name": "stdout",
          "text": [
            "train_labels.csv convert finish！\n",
            "                                        image_name  class_id  x_center  \\\n",
            "0            light_08_spurious_copper_07_3_256.jpg         5    0.1467   \n",
            "1            light_08_spurious_copper_07_3_256.jpg         5    0.7642   \n",
            "2            light_08_spurious_copper_07_3_256.jpg         5    0.4192   \n",
            "3               light_04_open_circuit_07_2_256.jpg         4    0.6958   \n",
            "4               light_04_open_circuit_07_2_256.jpg         4    0.2858   \n",
            "5   rotation_90_light_05_open_circuit_05_1_600.jpg         4    0.4050   \n",
            "6   rotation_90_light_05_open_circuit_05_1_600.jpg         4    0.5008   \n",
            "7  rotation_270_light_05_missing_hole_01_2_600.jpg         2    0.2288   \n",
            "8          rotation_90_light_09_short_06_1_600.jpg         3    0.6650   \n",
            "9          rotation_90_light_09_short_06_1_600.jpg         3    0.8858   \n",
            "\n",
            "   y_center   width  height  \n",
            "0    0.7400  0.0367  0.0600  \n",
            "1    0.7792  0.0417  0.0650  \n",
            "2    0.9483  0.0350  0.0667  \n",
            "3    0.0450  0.0317  0.0267  \n",
            "4    0.1050  0.0450  0.0367  \n",
            "5    0.8125  0.0400  0.0383  \n",
            "6    0.2042  0.0383  0.0417  \n",
            "7    0.2296  0.0449  0.0366  \n",
            "8    0.0492  0.0733  0.0583  \n",
            "9    0.4600  0.0317  0.0800  \n",
            "val_labels.csv convert finish！\n",
            "                                     image_name  class_id  x_center  y_center  \\\n",
            "0         light_12_spurious_copper_08_3_256.jpg         5    0.8317    0.4792   \n",
            "1         light_12_spurious_copper_08_3_256.jpg         5    0.5567    0.9675   \n",
            "2       rotation_270_light_07_spur_09_1_600.jpg         1    0.0923    0.6323   \n",
            "3       rotation_270_light_07_spur_09_1_600.jpg         1    0.2604    0.4476   \n",
            "4  rotation_90_light_01_mouse_bite_17_3_600.jpg         0    0.6525    0.4875   \n",
            "5        rotation_90_light_07_spur_08_2_600.jpg         1    0.1925    0.1342   \n",
            "6              light_04_mouse_bite_17_2_256.jpg         0    0.6225    0.0500   \n",
            "7            light_12_open_circuit_04_4_256.jpg         4    0.2783    0.1667   \n",
            "8            light_12_open_circuit_04_4_256.jpg         4    0.1000    0.4942   \n",
            "9            light_12_open_circuit_04_4_256.jpg         4    0.5925    0.2892   \n",
            "\n",
            "    width  height  \n",
            "0  0.0233  0.0617  \n",
            "1  0.0300  0.0550  \n",
            "2  0.0948  0.0433  \n",
            "3  0.0715  0.0832  \n",
            "4  0.0383  0.0317  \n",
            "5  0.0483  0.0650  \n",
            "6  0.0350  0.0500  \n",
            "7  0.0300  0.0300  \n",
            "8  0.0267  0.0250  \n",
            "9  0.0283  0.0250  \n",
            "test_labels.csv convert finish！\n",
            "                                     image_name  class_id  x_center  y_center  \\\n",
            "0                   light_10_short_04_5_256.jpg         3    0.4417    0.1583   \n",
            "1                   light_10_short_04_5_256.jpg         3    0.5850    0.9767   \n",
            "2          l_light_08_open_circuit_05_2_600.jpg         4    0.6267    0.8383   \n",
            "3          l_light_08_open_circuit_05_2_600.jpg         4    0.5542    0.5592   \n",
            "4  rotation_90_light_11_mouse_bite_06_4_600.jpg         0    0.3925    0.6508   \n",
            "5  rotation_90_light_11_mouse_bite_06_4_600.jpg         0    0.6950    0.2750   \n",
            "6                  l_light_09_spur_09_3_600.jpg         1    0.2800    0.9308   \n",
            "7                  l_light_09_spur_09_3_600.jpg         1    0.4158    0.8525   \n",
            "8       rotation_90_light_04_short_17_2_600.jpg         3    0.1375    0.3217   \n",
            "9       rotation_90_light_04_short_17_2_600.jpg         3    0.1708    0.6658   \n",
            "\n",
            "    width  height  \n",
            "0  0.1100  0.0767  \n",
            "1  0.0933  0.0433  \n",
            "2  0.0333  0.0400  \n",
            "3  0.0183  0.0250  \n",
            "4  0.0483  0.0683  \n",
            "5  0.0733  0.0400  \n",
            "6  0.0467  0.0617  \n",
            "7  0.0317  0.0817  \n",
            "8  0.0550  0.0567  \n",
            "9  0.0583  0.0717  \n"
          ]
        }
      ]
    },
    {
      "cell_type": "code",
      "source": [
        "import os\n",
        "import cv2\n",
        "import numpy as np\n",
        "import pandas as pd\n",
        "\n",
        "#Set up image folder\n",
        "train_images_path = \"/kaggle/pcb_data/pcb-defect-dataset/train/images\"\n",
        "val_images_path = \"/kaggle/pcb_data/pcb-defect-dataset/val/images\"\n",
        "test_images_path = \"/kaggle/pcb_data/pcb-defect-dataset/test/images\"\n",
        "\n",
        "# Read tag CSV\n",
        "train_labels_csv = \"train_labels.csv\"\n",
        "val_labels_csv = \"val_labels.csv\"\n",
        "test_labels_csv = \"test_labels.csv\"\n",
        "\n",
        "# Define functions to read images and match tags\n",
        "def load_images_and_labels(images_path, labels_csv):\n",
        "    df = pd.read_csv(labels_csv)  # 讀取 CSV 標籤\n",
        "\n",
        "    # 合併相同 image_name，取出最常出現的 class_id（單一標籤）\n",
        "    df = df.groupby(\"image_name\")[\"class_id\"].agg(lambda x: x.value_counts().index[0]).reset_index()\n",
        "\n",
        "    X, y = [], []\n",
        "\n",
        "    for _, row in df.iterrows():\n",
        "        img_path = os.path.join(images_path, row[\"image_name\"])\n",
        "\n",
        "        if os.path.exists(img_path):\n",
        "            img = cv2.imread(img_path, cv2.IMREAD_GRAYSCALE)   # 灰階\n",
        "            img = cv2.resize(img, (64, 64)) / 255.0             # Resize + normalize\n",
        "            X.append(img)\n",
        "            y.append(row[\"class_id\"])  # 注意這裡只剩下唯一 class_id\n",
        "\n",
        "    # 轉成 NumPy\n",
        "    X = np.array(X)\n",
        "    y = np.array(y)\n",
        "\n",
        "    print(f\"{labels_csv} processed, image data size: {X.shape}, label data size: {y.shape}\")\n",
        "    return X, y\n",
        "\n",
        "# read `train`、`val`、`test` data\n",
        "X_train, y_train = load_images_and_labels(train_images_path, train_labels_csv)\n",
        "X_val, y_val = load_images_and_labels(val_images_path, val_labels_csv)\n",
        "X_test, y_test = load_images_and_labels(test_images_path, test_labels_csv)"
      ],
      "metadata": {
        "id": "-gA_Gh4asuF_",
        "outputId": "8d6640d8-b8c4-4907-ab92-b442fa889acf",
        "colab": {
          "base_uri": "https://localhost:8080/"
        }
      },
      "execution_count": 12,
      "outputs": [
        {
          "output_type": "stream",
          "name": "stdout",
          "text": [
            "train_labels.csv processed, image data size: (6370, 64, 64), label data size: (6370,)\n",
            "val_labels.csv processed, image data size: (802, 64, 64), label data size: (802,)\n",
            "test_labels.csv processed, image data size: (829, 64, 64), label data size: (829,)\n"
          ]
        }
      ]
    },
    {
      "cell_type": "code",
      "source": [
        "# Choose label=0&1\n",
        "X_train_0 = X_train[y_train == 0]\n",
        "y_train_0 = y_train[y_train == 0]\n",
        "\n",
        "X_train_1 = X_train[y_train == 1]\n",
        "y_train_1 = y_train[y_train == 1]\n",
        "\n",
        "X_val_0 = X_val[y_val == 0]\n",
        "y_val_0 = y_val[y_val == 0]\n",
        "\n",
        "X_val_1 = X_val[y_val == 1]\n",
        "y_val_1 = y_val[y_val == 1]\n",
        "\n",
        "X_test_0 = X_test[y_test == 0]\n",
        "y_test_0 = y_test[y_test == 0]\n",
        "\n",
        "X_test_1 = X_test[y_test == 1]\n",
        "y_test_1 = y_test[y_test == 1]\n",
        "\n",
        "print(f\"label=0 訓練數據數量: {X_train_0.shape}\")\n",
        "print(f\"label=0 訓練數據數量: {X_val_0.shape}\")\n",
        "print(f\"label=0 訓練數據數量: {X_test_0.shape}\")\n",
        "\n",
        "print(f\"訓練資料 label=1 數量: {X_train_1.shape}\")\n",
        "print(f\"驗證資料 label=1 數量: {X_val_1.shape}\")\n",
        "print(f\"測試資料 label=1 數量: {X_test_1.shape}\")\n"
      ],
      "metadata": {
        "id": "gdAmEmfJKFkC",
        "outputId": "e890a91c-a35a-4c90-c60b-cb503cb7a4bc",
        "colab": {
          "base_uri": "https://localhost:8080/"
        }
      },
      "execution_count": 13,
      "outputs": [
        {
          "output_type": "stream",
          "name": "stdout",
          "text": [
            "label=0 訓練數據數量: (1118, 64, 64)\n",
            "label=0 訓練數據數量: (140, 64, 64)\n",
            "label=0 訓練數據數量: (131, 64, 64)\n",
            "訓練資料 label=1 數量: (1046, 64, 64)\n",
            "驗證資料 label=1 數量: (130, 64, 64)\n",
            "測試資料 label=1 數量: (138, 64, 64)\n"
          ]
        }
      ]
    },
    {
      "cell_type": "code",
      "source": [
        "import pennylane as qml\n",
        "import numpy as np\n",
        "\n",
        "n_qubits = 4\n",
        "dev = qml.device(\"default.qubit\", wires=n_qubits, shots=1000)  # 多次測量以模擬現實\n",
        "\n",
        "@qml.qnode(dev)\n",
        "def quantum_kernel(x):\n",
        "    \"\"\"\n",
        "    接收一個 2x2 patch（flatten 後長度為 4），\n",
        "    回傳每個 qubit 在 Z、X 軸的期望值（共 8 維特徵）\n",
        "    \"\"\"\n",
        "    # 資料嵌入\n",
        "    for i in range(n_qubits):\n",
        "        qml.RY(x[i] * np.pi, wires=i)  # 用 RY 輸入影像像素\n",
        "        qml.Hadamard(wires=i)\n",
        "\n",
        "    # 加入糾纏（局部 entanglement）\n",
        "    for i in range(n_qubits - 1):\n",
        "        qml.CNOT(wires=[i, i + 1])\n",
        "\n",
        "    # 測量 Pauli Z + X 軸的期望值\n",
        "    z_expectations = [qml.expval(qml.PauliZ(i)) for i in range(n_qubits)]\n",
        "    x_expectations = [qml.expval(qml.PauliX(i)) for i in range(n_qubits)]\n",
        "\n",
        "    return z_expectations + x_expectations  # 共 8 維特徵向量\n",
        "\n",
        "x_test = np.random.rand(4)  # 產生 4 個隨機數\n",
        "qml.draw_mpl(quantum_kernel)(x_test)"
      ],
      "metadata": {
        "id": "7wxBGd0YwrXY",
        "colab": {
          "base_uri": "https://localhost:8080/",
          "height": 553
        },
        "outputId": "852e0138-97be-4180-b5d4-a608443c251c"
      },
      "execution_count": 14,
      "outputs": [
        {
          "output_type": "execute_result",
          "data": {
            "text/plain": [
              "(<Figure size 800x500 with 1 Axes>, <Axes: >)"
            ]
          },
          "metadata": {},
          "execution_count": 14
        },
        {
          "output_type": "display_data",
          "data": {
            "text/plain": [
              "<Figure size 800x500 with 1 Axes>"
            ],
            "image/png": "[encoded data removed]"
          },
          "metadata": {}
        }
      ]
    },
    {
      "cell_type": "code",
      "source": [
        "def quanvolution(image):\n",
        "    \"\"\"\n",
        "    對影像套用量子卷積，提取每個 2x2 patch 的 Z+X 特徵（共 8 維）\n",
        "    最後輸出 flatten 的特徵向量。\n",
        "    \"\"\"\n",
        "    output_shape = (image.shape[0] // 2, image.shape[1] // 2, 8)  # 每個 patch 會對應 8 維特徵\n",
        "    q_image = np.zeros(output_shape)\n",
        "\n",
        "    for i in range(0, image.shape[0], 2):\n",
        "        for j in range(0, image.shape[1], 2):\n",
        "            patch = image[i:i+2, j:j+2].flatten()\n",
        "            q_features = quantum_kernel(patch)\n",
        "            q_image[i // 2, j // 2] = q_features\n",
        "\n",
        "    return q_image.flatten()  # 回傳 flatten 過後的特徵向量（可接分類器）"
      ],
      "metadata": {
        "id": "HUgTzit7wxCB"
      },
      "execution_count": 15,
      "outputs": []
    },
    {
      "cell_type": "code",
      "source": [
        "X_train_0 = np.array([quanvolution(img) for img in X_train_0])\n",
        "X_val_0 = np.array([quanvolution(img) for img in X_val_0])\n",
        "X_test_0 = np.array([quanvolution(img) for img in X_test_0])\n",
        "\n",
        "print(\" X_train_0 shape:\", X_train_0.shape)  # (84, 特徵數)\n",
        "print(\" X_val_0 shape:\", X_val_0.shape)      # (88, 特徵數)\n",
        "print(\"X_test_0 shape:\", X_test_0.shape)    # (79, 特徵數)"
      ],
      "metadata": {
        "id": "CSJERG6FPdwr",
        "colab": {
          "base_uri": "https://localhost:8080/"
        },
        "outputId": "cc20b632-9777-40c1-85bd-d231c399936b"
      },
      "execution_count": 16,
      "outputs": [
        {
          "output_type": "stream",
          "name": "stdout",
          "text": [
            " X_train_0 shape: (1118, 8192)\n",
            " X_val_0 shape: (140, 8192)\n",
            "X_test_0 shape: (131, 8192)\n"
          ]
        }
      ]
    },
    {
      "cell_type": "code",
      "source": [
        "X_train_1 = np.array([quanvolution(img) for img in X_train_1])\n",
        "X_val_1 = np.array([quanvolution(img) for img in X_val_1])\n",
        "X_test_1 = np.array([quanvolution(img) for img in X_test_1])\n",
        "\n",
        "print(\" X_train_1 shape:\", X_train_1.shape)  # (84, 特徵數)\n",
        "print(\" X_val_1 shape:\", X_val_1.shape)      # (82, 特徵數)\n",
        "print(\"X_test_1 shape:\", X_test_1.shape)    # (84, 特徵數)"
      ],
      "metadata": {
        "id": "Er6zzd8gLKDd",
        "colab": {
          "base_uri": "https://localhost:8080/"
        },
        "outputId": "da83f23b-3670-43af-b242-0b50465f747b"
      },
      "execution_count": 17,
      "outputs": [
        {
          "output_type": "stream",
          "name": "stdout",
          "text": [
            " X_train_1 shape: (1046, 8192)\n",
            " X_val_1 shape: (130, 8192)\n",
            "X_test_1 shape: (138, 8192)\n"
          ]
        }
      ]
    },
    {
      "cell_type": "code",
      "source": [
        "# 合併 label=0 和 label=1 的量子特徵數據\n",
        "X_train_01 = np.vstack([X_train_0, X_train_1])\n",
        "y_train_01 = np.hstack([y_train_0, y_train_1])\n",
        "\n",
        "print(f\"合併後的訓練數據: {X_train_01.shape}\")\n",
        "print(f\"合併後的標籤數據: {y_train_01.shape}\")\n",
        "\n",
        "X_val_01 = np.vstack([X_val_0, X_val_1])\n",
        "y_val_01 = np.hstack([y_val_0, y_val_1])\n",
        "\n",
        "print(f\"合併後的訓練數據: {X_val_01.shape}\")\n",
        "print(f\"合併後的標籤數據: {y_val_01.shape}\")\n",
        "\n",
        "X_test_01 = np.vstack([X_test_0, X_test_1])\n",
        "y_test_01 = np.hstack([y_test_0, y_test_1])\n",
        "\n",
        "print(f\"合併後的訓練數據: {X_test_01.shape}\")\n",
        "print(f\"合併後的標籤數據: {y_test_01.shape}\")"
      ],
      "metadata": {
        "id": "Mmyc2JbFU8i-",
        "colab": {
          "base_uri": "https://localhost:8080/"
        },
        "outputId": "edc49e79-be87-435f-a999-e0898df17738"
      },
      "execution_count": 18,
      "outputs": [
        {
          "output_type": "stream",
          "name": "stdout",
          "text": [
            "合併後的訓練數據: (2164, 8192)\n",
            "合併後的標籤數據: (2164,)\n",
            "合併後的訓練數據: (270, 8192)\n",
            "合併後的標籤數據: (270,)\n",
            "合併後的訓練數據: (269, 8192)\n",
            "合併後的標籤數據: (269,)\n"
          ]
        }
      ]
    },
    {
      "cell_type": "code",
      "source": [
        "np.save(\"qcnn_features_X_train_01.npy\", X_train_01)\n",
        "np.save(\"qcnn_labels_y_train_01.npy\", y_train_01)\n",
        "\n",
        "np.save(\"qcnn_features_X_val_01.npy\", X_val_01)\n",
        "np.save(\"qcnn_labels_y_val_01.npy\", y_val_01)\n",
        "\n",
        "np.save(\"qcnn_features_X_test_01.npy\", X_test_01)\n",
        "np.save(\"qcnn_labels_y_test_01.npy\", y_test_01)"
      ],
      "metadata": {
        "id": "KUR_wIgjan2T"
      },
      "execution_count": 19,
      "outputs": []
    },
    {
      "cell_type": "code",
      "source": [
        "from google.colab import files\n",
        "files.download(\"qcnn_featuresy_train_01.npy\")\n",
        "files.download(\"qcnn_labelsy_train_01.npy\")\n",
        "files.download(\"qcnn_features_X_val_01.npy\")\n",
        "files.download(\"qcnn_labels_y_val_01.npy\")\n",
        "files.download(\"qcnn_features_X_test_01.npy\")\n",
        "files.download(\"qcnn_labels_y_test_01.npy\")\n"
      ],
      "metadata": {
        "colab": {
          "base_uri": "https://localhost:8080/",
          "height": 332
        },
        "id": "6N9N0Wm8bctZ",
        "outputId": "847ec273-84cf-4095-f344-7f6e5abf9c2e"
      },
      "execution_count": 20,
      "outputs": [
        {
          "output_type": "error",
          "ename": "FileNotFoundError",
          "evalue": "Cannot find file: qcnn_featuresy_train_01.npy",
          "traceback": [
            "\u001b[0;31m---------------------------------------------------------------------------\u001b[0m",
            "\u001b[0;31mFileNotFoundError\u001b[0m                         Traceback (most recent call last)",
            "\u001b[0;32m<ipython-input-20-e4045aa8d682>\u001b[0m in \u001b[0;36m<cell line: 0>\u001b[0;34m()\u001b[0m\n\u001b[1;32m      1\u001b[0m \u001b[0;32mfrom\u001b[0m \u001b[0mgoogle\u001b[0m\u001b[0;34m.\u001b[0m\u001b[0mcolab\u001b[0m \u001b[0;32mimport\u001b[0m \u001b[0mfiles\u001b[0m\u001b[0;34m\u001b[0m\u001b[0;34m\u001b[0m\u001b[0m\n\u001b[0;32m----> 2\u001b[0;31m \u001b[0mfiles\u001b[0m\u001b[0;34m.\u001b[0m\u001b[0mdownload\u001b[0m\u001b[0;34m(\u001b[0m\u001b[0;34m\"qcnn_featuresy_train_01.npy\"\u001b[0m\u001b[0;34m)\u001b[0m\u001b[0;34m\u001b[0m\u001b[0;34m\u001b[0m\u001b[0m\n\u001b[0m\u001b[1;32m      3\u001b[0m \u001b[0mfiles\u001b[0m\u001b[0;34m.\u001b[0m\u001b[0mdownload\u001b[0m\u001b[0;34m(\u001b[0m\u001b[0;34m\"qcnn_labelsy_train_01.npy\"\u001b[0m\u001b[0;34m)\u001b[0m\u001b[0;34m\u001b[0m\u001b[0;34m\u001b[0m\u001b[0m\n\u001b[1;32m      4\u001b[0m \u001b[0mfiles\u001b[0m\u001b[0;34m.\u001b[0m\u001b[0mdownload\u001b[0m\u001b[0;34m(\u001b[0m\u001b[0;34m\"qcnn_features_X_val_01.npy\"\u001b[0m\u001b[0;34m)\u001b[0m\u001b[0;34m\u001b[0m\u001b[0;34m\u001b[0m\u001b[0m\n\u001b[1;32m      5\u001b[0m \u001b[0mfiles\u001b[0m\u001b[0;34m.\u001b[0m\u001b[0mdownload\u001b[0m\u001b[0;34m(\u001b[0m\u001b[0;34m\"qcnn_labels_y_val_01.npy\"\u001b[0m\u001b[0;34m)\u001b[0m\u001b[0;34m\u001b[0m\u001b[0;34m\u001b[0m\u001b[0m\n",
            "\u001b[0;32m/usr/local/lib/python3.11/dist-packages/google/colab/files.py\u001b[0m in \u001b[0;36mdownload\u001b[0;34m(filename)\u001b[0m\n\u001b[1;32m    231\u001b[0m   \u001b[0;32mif\u001b[0m \u001b[0;32mnot\u001b[0m \u001b[0m_os\u001b[0m\u001b[0;34m.\u001b[0m\u001b[0mpath\u001b[0m\u001b[0;34m.\u001b[0m\u001b[0mexists\u001b[0m\u001b[0;34m(\u001b[0m\u001b[0mfilename\u001b[0m\u001b[0;34m)\u001b[0m\u001b[0;34m:\u001b[0m\u001b[0;34m\u001b[0m\u001b[0;34m\u001b[0m\u001b[0m\n\u001b[1;32m    232\u001b[0m     \u001b[0mmsg\u001b[0m \u001b[0;34m=\u001b[0m \u001b[0;34m'Cannot find file: {}'\u001b[0m\u001b[0;34m.\u001b[0m\u001b[0mformat\u001b[0m\u001b[0;34m(\u001b[0m\u001b[0mfilename\u001b[0m\u001b[0;34m)\u001b[0m\u001b[0;34m\u001b[0m\u001b[0;34m\u001b[0m\u001b[0m\n\u001b[0;32m--> 233\u001b[0;31m     \u001b[0;32mraise\u001b[0m \u001b[0mFileNotFoundError\u001b[0m\u001b[0;34m(\u001b[0m\u001b[0mmsg\u001b[0m\u001b[0;34m)\u001b[0m  \u001b[0;31m# pylint: disable=undefined-variable\u001b[0m\u001b[0;34m\u001b[0m\u001b[0;34m\u001b[0m\u001b[0m\n\u001b[0m\u001b[1;32m    234\u001b[0m \u001b[0;34m\u001b[0m\u001b[0m\n\u001b[1;32m    235\u001b[0m   \u001b[0mcomm_manager\u001b[0m \u001b[0;34m=\u001b[0m \u001b[0m_IPython\u001b[0m\u001b[0;34m.\u001b[0m\u001b[0mget_ipython\u001b[0m\u001b[0;34m(\u001b[0m\u001b[0;34m)\u001b[0m\u001b[0;34m.\u001b[0m\u001b[0mkernel\u001b[0m\u001b[0;34m.\u001b[0m\u001b[0mcomm_manager\u001b[0m\u001b[0;34m\u001b[0m\u001b[0;34m\u001b[0m\u001b[0m\n",
            "\u001b[0;31mFileNotFoundError\u001b[0m: Cannot find file: qcnn_featuresy_train_01.npy"
          ]
        }
      ]
    },
    {
      "cell_type": "code",
      "source": [
        "import numpy as np\n",
        "import matplotlib.pyplot as plt\n",
        "import pandas as pd\n",
        "\n",
        "def visualize_qcnn(image, quanvolution_func, patch_size=(2,2), feature_dim=8):\n",
        "    \"\"\"\n",
        "    視覺化一張影像在 Quantum Convolution 前後的特徵變化。\n",
        "\n",
        "    參數：\n",
        "    - image: 原始影像（2D array，例如 4x4）\n",
        "    - quanvolution_func: 你定義好的量子卷積函式（例如 quanvolution）\n",
        "    - patch_size: patch 大小（預設 2x2）\n",
        "    - feature_dim: 每個 patch 輸出幾維特徵（預設 8 維）\n",
        "    \"\"\"\n",
        "    print(\"🎯 原始影像 shape:\", image.shape)\n",
        "\n",
        "    # 原始影像視覺化\n",
        "    plt.figure(figsize=(3,3))\n",
        "    plt.imshow(image, cmap='gray')\n",
        "    plt.title(\"原始影像\")\n",
        "    plt.axis('off')\n",
        "    plt.colorbar()\n",
        "    plt.show()\n",
        "\n",
        "    # 應用 QCNN\n",
        "    q_features = quanvolution_func(image)\n",
        "    print(\"🔍 QCNN 特徵 shape:\", q_features.shape)\n",
        "\n",
        "    # 轉換為 patches 結構\n",
        "    patch_h = image.shape[0] // patch_size[0]\n",
        "    patch_w = image.shape[1] // patch_size[1]\n",
        "    q_patches = q_features.reshape(patch_h, patch_w, feature_dim)\n",
        "\n",
        "    # 顯示每個 patch 的特徵向量\n",
        "    print(\"\\n📊 每個 Patch 的 8 維特徵：\")\n",
        "    for i in range(patch_h):\n",
        "        for j in range(patch_w):\n",
        "            print(f\"Patch ({i}, {j}) 特徵:\\n\", q_patches[i, j])\n",
        "\n",
        "    # 顯示某一維的特徵分布圖（可切換 k）\n",
        "    for k in range(feature_dim):\n",
        "        feature_map_k = q_patches[:, :, k]\n",
        "        plt.imshow(feature_map_k, cmap='viridis')\n",
        "        plt.title(f\"第 {k} 維量子特徵分布\")\n",
        "        plt.colorbar()\n",
        "        plt.show()"
      ],
      "metadata": {
        "id": "YgfSTsG8cssC"
      },
      "execution_count": null,
      "outputs": []
    },
    {
      "cell_type": "code",
      "source": [
        "i = 0  # 可以改成你想看的那一張\n",
        "image = X_train_01[i]  # 一張 2D 影像（例如 4x4）\n",
        "\n",
        "visualize_qcnn(image, quanvolution_func=quanvolution)"
      ],
      "metadata": {
        "id": "G9LO6--L1qR5"
      },
      "execution_count": null,
      "outputs": []
    }
  ]
}