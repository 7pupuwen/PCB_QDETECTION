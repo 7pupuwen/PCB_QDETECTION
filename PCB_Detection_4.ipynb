{
  "nbformat": 4,
  "nbformat_minor": 0,
  "metadata": {
    "colab": {
      "provenance": [],
      "gpuType": "T4",
      "authorship_tag": "ABX9TyOudS7s6bnprNVTkyRHUTrd",
      "include_colab_link": true
    },
    "kernelspec": {
      "name": "python3",
      "display_name": "Python 3"
    },
    "language_info": {
      "name": "python"
    },
    "accelerator": "GPU"
  },
  "cells": [
    {
      "cell_type": "markdown",
      "metadata": {
        "id": "view-in-github",
        "colab_type": "text"
      },
      "source": [
        "<a href=\"https://colab.research.google.com/github/7pupuwen/PCB_QDETECTION/blob/main/PCB_Detection_4.ipynb\" target=\"_parent\"><img src=\"https://colab.research.google.com/assets/colab-badge.svg\" alt=\"Open In Colab\"/></a>"
      ]
    },
    {
      "cell_type": "code",
      "execution_count": null,
      "metadata": {
        "id": "X68hOa5RsQgo"
      },
      "outputs": [],
      "source": [
        "!kaggle datasets download -d norbertelter/pcb-defect-dataset -q\n",
        "!unzip -q pcb-defect-dataset.zip -d pcb_data"
      ]
    },
    {
      "cell_type": "code",
      "source": [
        "! pip install pennylane -q"
      ],
      "metadata": {
        "id": "obM8w9kTsVMW"
      },
      "execution_count": null,
      "outputs": []
    },
    {
      "cell_type": "code",
      "source": [
        "import os\n",
        "import pandas as pd\n",
        "\n",
        "# Set the label files\n",
        "train_labels_path = \"/content/pcb_data/pcb-defect-dataset/train/labels\"\n",
        "val_labels_path = \"/content/pcb_data/pcb-defect-dataset/val/labels\"\n",
        "test_labels_path = \"/content/pcb_data/pcb-defect-dataset/test/labels\"\n",
        "\n",
        "# Definition of convert label to csv\n",
        "def convert_labels_to_csv(labels_path, output_csv):\n",
        "    data = []\n",
        "\n",
        "    # read every .txt file\n",
        "    for file in os.listdir(labels_path):\n",
        "        if file.endswith(\".txt\"):\n",
        "            file_path = os.path.join(labels_path, file)\n",
        "            image_name = file.replace(\".txt\", \".jpg\")  # The file name corresponding to the image\n",
        "            with open(file_path, \"r\") as f:\n",
        "                lines = f.readlines()  #A .txt may have multiple lines of tags\n",
        "\n",
        "                for line in lines:\n",
        "                    values = line.strip().split()\n",
        "                    class_id = int(values[0])  # Defect category\n",
        "                    x_center, y_center, width, height = map(float, values[1:])  # Analyze numerical values\n",
        "\n",
        "                    # Save to DataFrame\n",
        "                    data.append([image_name, class_id, x_center, y_center, width, height])\n",
        "\n",
        "    # create DataFrame\n",
        "    df = pd.DataFrame(data, columns=[\"image_name\", \"class_id\", \"x_center\", \"y_center\", \"width\", \"height\"])\n",
        "\n",
        "    # Save as CSV\n",
        "    df.to_csv(output_csv, index=False)\n",
        "\n",
        "    print(f\"{output_csv} convert finish！\")\n",
        "    print(df.head(10))  # show the first 10 data\n",
        "\n",
        "# covert `train`、`val`、`test` labels\n",
        "convert_labels_to_csv(train_labels_path, \"train_labels.csv\")\n",
        "convert_labels_to_csv(val_labels_path, \"val_labels.csv\")\n",
        "convert_labels_to_csv(test_labels_path, \"test_labels.csv\")"
      ],
      "metadata": {
        "id": "_Q70o3GnsXKh"
      },
      "execution_count": null,
      "outputs": []
    },
    {
      "cell_type": "code",
      "source": [
        "import os\n",
        "import cv2\n",
        "import numpy as np\n",
        "import pandas as pd\n",
        "\n",
        "#Set up image folder\n",
        "train_images_path = \"/content/pcb_data/pcb-defect-dataset/train/images\"\n",
        "val_images_path = \"/content/pcb_data/pcb-defect-dataset/val/images\"\n",
        "test_images_path = \"/content/pcb_data/pcb-defect-dataset/test/images\"\n",
        "\n",
        "# Read tag CSV\n",
        "train_labels_csv = \"train_labels.csv\"\n",
        "val_labels_csv = \"val_labels.csv\"\n",
        "test_labels_csv = \"test_labels.csv\"\n",
        "\n",
        "# Define functions to read images and match tags\n",
        "def load_images_and_labels(images_path, labels_csv):\n",
        "    df = pd.read_csv(labels_csv)  # Read CSV\n",
        "    X, y = [], []  # Store images and labels\n",
        "\n",
        "    # Read images and match tags\n",
        "    for _, row in df.iterrows():\n",
        "        img_path = os.path.join(images_path, row[\"image_name\"])\n",
        "\n",
        "        if os.path.exists(img_path):\n",
        "            img = cv2.imread(img_path, cv2.IMREAD_GRAYSCALE)  # Convert to grayscale\n",
        "            img = cv2.resize(img, (64, 64)) / 255.0  # standardization\n",
        "            X.append(img)\n",
        "            y.append(row[\"class_id\"])  # Take only defect categories as labels\n",
        "\n",
        "    # NumPy array\n",
        "    X = np.array(X)\n",
        "    y = np.array(y)\n",
        "\n",
        "    print(f\"{labels_csv} processed, image data size: {X.shape}, label data size: {y.shape}\")\n",
        "    return X, y\n",
        "\n",
        "# read `train`、`val`、`test` data\n",
        "X_train, y_train = load_images_and_labels(train_images_path, train_labels_csv)\n",
        "X_val, y_val = load_images_and_labels(val_images_path, val_labels_csv)\n",
        "X_test, y_test = load_images_and_labels(test_images_path, test_labels_csv)"
      ],
      "metadata": {
        "id": "-gA_Gh4asuF_"
      },
      "execution_count": null,
      "outputs": []
    },
    {
      "cell_type": "code",
      "source": [
        "from sklearn.model_selection import train_test_split\n",
        "import numpy as np\n",
        "\n",
        "# take 500 data\n",
        "X_train, _, y_train, _ = train_test_split(X_train, y_train, train_size=500, random_state=42, stratify=y_train)\n",
        "X_val, _, y_val, _ = train_test_split(X_val, y_val, train_size=500, random_state=42, stratify=y_val)\n",
        "X_test, _, y_test, _ = train_test_split(X_test, y_test, train_size=500, random_state=42, stratify=y_test)\n",
        "\n",
        "# Confirm data shape\n",
        "print(\"取樣後的影像數據 (Train):\", X_train.shape)  # (500, 64, 64)\n",
        "print(\"取樣後的標籤數據 (Train):\", y_train.shape)  # (500,)\n",
        "\n",
        "print(\"取樣後的影像數據 (Val):\", X_val.shape)  # (500, 64, 64)\n",
        "print(\"取樣後的標籤數據 (Val):\", y_val.shape)  # (500,)\n",
        "\n",
        "print(\"取樣後的影像數據 (Test):\", X_test.shape)  # (500, 64, 64)\n",
        "print(\"取樣後的標籤數據 (Test):\", y_test.shape)  # (500,)\n"
      ],
      "metadata": {
        "id": "QZp8JU4vwlu3"
      },
      "execution_count": null,
      "outputs": []
    },
    {
      "cell_type": "code",
      "source": [
        "import pennylane as qml\n",
        "\n",
        "# Set up the quantum computer simulator (4 qubits, corresponding to 2x2 patch)\n",
        "n_qubits = 4\n",
        "dev = qml.device(\"default.qubit\", wires=n_qubits)\n",
        "\n",
        "@qml.qnode(dev)\n",
        "def quantum_kernel(x):\n",
        "    \"\"\"\n",
        "    This is a quantum circuit that converts image patches into quantum features\n",
        "    \"\"\"\n",
        "    for i in range(n_qubits):\n",
        "        qml.RY(x[i] * np.pi, wires=i)  # Embedding image data using Ry gates\n",
        "        qml.Hadamard(wires=i)  # Join Hadamard Gate\n",
        "\n",
        "    # oin Quantum Entanglement\n",
        "    for i in range(n_qubits - 1):\n",
        "        qml.CNOT(wires=[i, i+1])\n",
        "\n",
        "    return qml.expval(qml.PauliZ(0))  # Output quantum features"
      ],
      "metadata": {
        "id": "7wxBGd0YwrXY"
      },
      "execution_count": null,
      "outputs": []
    },
    {
      "cell_type": "code",
      "source": [
        "def quanvolution(image):\n",
        "    output_size = (image.shape[0] //2, image.shape[1] //2)\n",
        "    q_image = np.zeros(output_size)\n",
        "\n",
        "    for i in range(0, image.shape[0], 2):\n",
        "        for j in range(0, image.shape[1], 2):\n",
        "          patch = image[i:i+2, j:j+2].flatten()\n",
        "          q_image[i//2, j//2] = quantum_kernel(patch)\n",
        "\n",
        "    return q_image.flatten()"
      ],
      "metadata": {
        "id": "HUgTzit7wxCB"
      },
      "execution_count": null,
      "outputs": []
    },
    {
      "cell_type": "code",
      "source": [
        "# Do Quanvolution to data\n",
        "X_train_quanv = np.array([quanvolution(img) for img in X_train])\n",
        "X_val_quanv = np.array([quanvolution(img) for img in X_val])\n",
        "X_test_quanv = np.array([quanvolution(img) for img in X_test])\n",
        "\n",
        "print(\"Quantum feature size（Train）:\", X_train_quanv.shape)\n",
        "print(\"Quantum feature size（Val）:\", X_val_quanv.shape)\n",
        "print(\"Quantum feature size（Test）:\", X_test_quanv.shape)\n"
      ],
      "metadata": {
        "id": "iftUVz-IwzYS"
      },
      "execution_count": null,
      "outputs": []
    },
    {
      "cell_type": "code",
      "source": [
        "# Quantum Kernel Matrix\n",
        "train_kernel_matrix = compute_kernel_matrix(X_train_quanv)\n",
        "val_kernel_matrix = np.array([[np.dot(x1, x2) for x2 in X_train_quanv] for x1 in X_val_quanv])\n",
        "test_kernel_matrix = np.array([[np.dot(x1, x2) for x2 in X_train_quanv] for x1 in X_test_quanv])\n",
        "\n",
        "print(\"Train Kernel Matrix:\", train_kernel_matrix.shape)  # (N_train, N_train)\n",
        "print(\"Val Kernel Matrix:\", val_kernel_matrix.shape)      # (N_val, N_train)\n",
        "print(\"Test Kernel Matrix:\", test_kernel_matrix.shape)    # (N_test, N_train)"
      ],
      "metadata": {
        "id": "z96gGP0KxBqf"
      },
      "execution_count": null,
      "outputs": []
    },
    {
      "cell_type": "code",
      "source": [
        "from sklearn import svm\n",
        "from sklearn.metrics import accuracy_score\n",
        "\n",
        "# train Quantum SVM\n",
        "qsvm = svm.SVC(kernel=\"precomputed\")\n",
        "qsvm.fit(train_kernel_matrix, y_train)\n"
      ],
      "metadata": {
        "id": "0smAhdcPxCuj"
      },
      "execution_count": null,
      "outputs": []
    },
    {
      "cell_type": "code",
      "source": [
        "# test  QSVM in val set\n",
        "preds_val = qsvm.predict(val_kernel_matrix)\n",
        "accuracy_val = accuracy_score(y_val, preds_val)\n",
        "print(f\"QSVM Validation Accuracy: {accuracy_val:.4f}\")\n",
        "\n",
        "# test QSVM in test set\n",
        "preds_test = qsvm.predict(test_kernel_matrix)\n",
        "accuracy_test = accuracy_score(y_test, preds_test)\n",
        "print(f\"QSVM Test Accuracy: {accuracy_test:.4f}\")\n"
      ],
      "metadata": {
        "id": "SeQ00cyhxKVz"
      },
      "execution_count": null,
      "outputs": []
    }
  ]
}