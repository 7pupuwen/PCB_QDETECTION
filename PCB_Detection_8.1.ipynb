{
  "nbformat": 4,
  "nbformat_minor": 0,
  "metadata": {
    "colab": {
      "provenance": [],
      "gpuType": "T4",
      "include_colab_link": true
    },
    "kernelspec": {
      "name": "python3",
      "display_name": "Python 3"
    },
    "language_info": {
      "name": "python"
    },
    "accelerator": "GPU"
  },
  "cells": [
    {
      "cell_type": "markdown",
      "metadata": {
        "id": "view-in-github",
        "colab_type": "text"
      },
      "source": [
        "<a href=\"https://colab.research.google.com/github/7pupuwen/PCB_QDETECTION/blob/main/PCB_Detection_8.1.ipynb\" target=\"_parent\"><img src=\"https://colab.research.google.com/assets/colab-badge.svg\" alt=\"Open In Colab\"/></a>"
      ]
    },
    {
      "cell_type": "code",
      "execution_count": 1,
      "metadata": {
        "id": "X68hOa5RsQgo",
        "colab": {
          "base_uri": "https://localhost:8080/"
        },
        "outputId": "54495433-63c8-44d8-9245-17f990c3ed03"
      },
      "outputs": [
        {
          "output_type": "stream",
          "name": "stdout",
          "text": [
            "Warning: Looks like you're using an outdated API Version, please consider updating (server 1.7.4.2 / client 1.6.17)\n",
            "Dataset URL: https://www.kaggle.com/datasets/norbertelter/pcb-defect-dataset\n",
            "License(s): unknown\n"
          ]
        }
      ],
      "source": [
        "!kaggle datasets download -d norbertelter/pcb-defect-dataset -q\n",
        "!unzip -q pcb-defect-dataset.zip -d pcb_data"
      ]
    },
    {
      "cell_type": "code",
      "source": [
        "! pip install pennylane -q"
      ],
      "metadata": {
        "id": "obM8w9kTsVMW",
        "colab": {
          "base_uri": "https://localhost:8080/"
        },
        "outputId": "6f89e518-1eae-4d84-ed71-13f4696a3e7d"
      },
      "execution_count": 2,
      "outputs": [
        {
          "output_type": "stream",
          "name": "stdout",
          "text": [
            "\u001b[2K     \u001b[90m━━━━━━━━━━━━━━━━━━━━━━━━━━━━━━━━━━━━━━━━\u001b[0m \u001b[32m56.1/56.1 kB\u001b[0m \u001b[31m2.4 MB/s\u001b[0m eta \u001b[36m0:00:00\u001b[0m\n",
            "\u001b[2K   \u001b[90m━━━━━━━━━━━━━━━━━━━━━━━━━━━━━━━━━━━━━━━━\u001b[0m \u001b[32m2.0/2.0 MB\u001b[0m \u001b[31m16.8 MB/s\u001b[0m eta \u001b[36m0:00:00\u001b[0m\n",
            "\u001b[2K   \u001b[90m━━━━━━━━━━━━━━━━━━━━━━━━━━━━━━━━━━━━━━━━\u001b[0m \u001b[32m930.8/930.8 kB\u001b[0m \u001b[31m2.9 MB/s\u001b[0m eta \u001b[36m0:00:00\u001b[0m\n",
            "\u001b[2K   \u001b[90m━━━━━━━━━━━━━━━━━━━━━━━━━━━━━━━━━━━━━━━━\u001b[0m \u001b[32m2.4/2.4 MB\u001b[0m \u001b[31m18.9 MB/s\u001b[0m eta \u001b[36m0:00:00\u001b[0m\n",
            "\u001b[2K   \u001b[90m━━━━━━━━━━━━━━━━━━━━━━━━━━━━━━━━━━━━━━━━\u001b[0m \u001b[32m2.1/2.1 MB\u001b[0m \u001b[31m37.6 MB/s\u001b[0m eta \u001b[36m0:00:00\u001b[0m\n",
            "\u001b[2K   \u001b[90m━━━━━━━━━━━━━━━━━━━━━━━━━━━━━━━━━━━━━━━━\u001b[0m \u001b[32m167.9/167.9 kB\u001b[0m \u001b[31m13.1 MB/s\u001b[0m eta \u001b[36m0:00:00\u001b[0m\n",
            "\u001b[2K   \u001b[90m━━━━━━━━━━━━━━━━━━━━━━━━━━━━━━━━━━━━━━━━\u001b[0m \u001b[32m8.6/8.6 MB\u001b[0m \u001b[31m24.7 MB/s\u001b[0m eta \u001b[36m0:00:00\u001b[0m\n",
            "\u001b[?25h"
          ]
        }
      ]
    },
    {
      "cell_type": "code",
      "source": [
        "import os\n",
        "import pandas as pd\n",
        "\n",
        "# Set the label files\n",
        "train_labels_path = \"/content/pcb_data/pcb-defect-dataset/train/labels\"\n",
        "val_labels_path = \"/content/pcb_data/pcb-defect-dataset/val/labels\"\n",
        "test_labels_path = \"/content/pcb_data/pcb-defect-dataset/test/labels\"\n",
        "\n",
        "# Definition of convert label to csv\n",
        "def convert_labels_to_csv(labels_path, output_csv):\n",
        "    data = []\n",
        "\n",
        "    # read every .txt file\n",
        "    for file in os.listdir(labels_path):\n",
        "        if file.endswith(\".txt\"):\n",
        "            file_path = os.path.join(labels_path, file)\n",
        "            image_name = file.replace(\".txt\", \".jpg\")  # The file name corresponding to the image\n",
        "            with open(file_path, \"r\") as f:\n",
        "                lines = f.readlines()  #A .txt may have multiple lines of tags\n",
        "\n",
        "                for line in lines:\n",
        "                    values = line.strip().split()\n",
        "                    class_id = int(values[0])  # Defect category\n",
        "                    x_center, y_center, width, height = map(float, values[1:])  # Analyze numerical values\n",
        "\n",
        "                    # Save to DataFrame\n",
        "                    data.append([image_name, class_id, x_center, y_center, width, height])\n",
        "\n",
        "    # create DataFrame\n",
        "    df = pd.DataFrame(data, columns=[\"image_name\", \"class_id\", \"x_center\", \"y_center\", \"width\", \"height\"])\n",
        "\n",
        "    # Save as CSV\n",
        "    df.to_csv(output_csv, index=False)\n",
        "\n",
        "    print(f\"{output_csv} convert finish！\")\n",
        "    print(df.head(10))  # show the first 10 data\n",
        "\n",
        "# covert `train`、`val`、`test` labels\n",
        "convert_labels_to_csv(train_labels_path, \"train_labels.csv\")\n",
        "convert_labels_to_csv(val_labels_path, \"val_labels.csv\")\n",
        "convert_labels_to_csv(test_labels_path, \"test_labels.csv\")"
      ],
      "metadata": {
        "id": "_Q70o3GnsXKh",
        "colab": {
          "base_uri": "https://localhost:8080/"
        },
        "outputId": "2096dbd6-adb4-4ba3-91f0-2bc659c5b26c"
      },
      "execution_count": 3,
      "outputs": [
        {
          "output_type": "stream",
          "name": "stdout",
          "text": [
            "train_labels.csv convert finish！\n",
            "                                        image_name  class_id  x_center  \\\n",
            "0         rotation_270_light_12_short_08_3_600.jpg         3    0.6797   \n",
            "1         rotation_270_light_12_short_08_3_600.jpg         3    0.1872   \n",
            "2         rotation_270_light_12_short_08_3_600.jpg         3    0.2621   \n",
            "3          l_light_08_spurious_copper_10_5_600.jpg         5    0.6908   \n",
            "4          l_light_08_spurious_copper_10_5_600.jpg         5    0.1367   \n",
            "5          rotation_90_light_09_short_10_2_600.jpg         3    0.0992   \n",
            "6          rotation_90_light_09_short_10_2_600.jpg         3    0.2083   \n",
            "7  rotation_270_light_06_open_circuit_02_3_600.jpg         4    0.9601   \n",
            "8  rotation_270_light_06_open_circuit_02_3_600.jpg         4    0.8469   \n",
            "9                       light_01_spur_15_1_256.jpg         1    0.4575   \n",
            "\n",
            "   y_center   width  height  \n",
            "0    0.5932  0.0383  0.0582  \n",
            "1    0.7171  0.0616  0.0366  \n",
            "2    0.1647  0.0383  0.0366  \n",
            "3    0.6042  0.0283  0.0817  \n",
            "4    0.6317  0.0667  0.0300  \n",
            "5    0.6492  0.0450  0.0483  \n",
            "6    0.4075  0.0400  0.0450  \n",
            "7    0.4201  0.0266  0.0250  \n",
            "8    0.3369  0.0233  0.0216  \n",
            "9    0.4733  0.0717  0.0467  \n",
            "val_labels.csv convert finish！\n",
            "                                        image_name  class_id  x_center  \\\n",
            "0     rotation_90_light_11_mouse_bite_02_2_600.jpg         0    0.1817   \n",
            "1   rotation_90_light_10_open_circuit_05_1_600.jpg         4    0.3692   \n",
            "2             l_light_09_open_circuit_05_1_600.jpg         4    0.9467   \n",
            "3         rotation_270_light_08_short_04_1_600.jpg         3    0.3444   \n",
            "4         rotation_270_light_08_short_04_1_600.jpg         3    0.2246   \n",
            "5  rotation_270_light_09_missing_hole_02_4_600.jpg         2    0.8128   \n",
            "6  rotation_270_light_09_missing_hole_02_4_600.jpg         2    0.8095   \n",
            "7   rotation_90_light_12_open_circuit_01_2_600.jpg         4    0.3492   \n",
            "8   rotation_90_light_12_open_circuit_01_2_600.jpg         4    0.9650   \n",
            "9                      light_07_short_01_3_256.jpg         3    0.1408   \n",
            "\n",
            "   y_center   width  height  \n",
            "0    0.1183  0.0433  0.0733  \n",
            "1    0.0300  0.0617  0.0433  \n",
            "2    0.3567  0.0433  0.0433  \n",
            "3    0.3261  0.0433  0.0433  \n",
            "4    0.2413  0.0466  0.0566  \n",
            "5    0.0532  0.0483  0.0433  \n",
            "6    0.3769  0.0483  0.0483  \n",
            "7    0.5258  0.0283  0.0283  \n",
            "8    0.5283  0.0233  0.0367  \n",
            "9    0.1733  0.0817  0.0733  \n",
            "test_labels.csv convert finish！\n",
            "                                          image_name  class_id  x_center  \\\n",
            "0                      l_light_08_short_08_2_600.jpg         3    0.7975   \n",
            "1                      l_light_08_short_08_2_600.jpg         3    0.8608   \n",
            "2                   light_09_mouse_bite_07_5_256.jpg         0    0.3242   \n",
            "3                   light_09_mouse_bite_07_5_256.jpg         0    0.7342   \n",
            "4                   light_09_mouse_bite_07_5_256.jpg         0    0.1883   \n",
            "5  rotation_90_light_04_spurious_copper_07_4_600.jpg         5    0.5658   \n",
            "6  rotation_90_light_04_spurious_copper_07_4_600.jpg         5    0.6817   \n",
            "7                        light_09_short_04_3_256.jpg         3    0.7142   \n",
            "8                        light_09_short_04_3_256.jpg         3    0.9642   \n",
            "9           rotation_270_light_12_short_02_2_600.jpg         3    0.9301   \n",
            "\n",
            "   y_center   width  height  \n",
            "0    0.0692  0.0850  0.0483  \n",
            "1    0.2983  0.0517  0.0467  \n",
            "2    0.0283  0.0417  0.0533  \n",
            "3    0.1000  0.0317  0.0567  \n",
            "4    0.3858  0.0500  0.0383  \n",
            "5    0.2058  0.0950  0.0350  \n",
            "6    0.2075  0.1033  0.0350  \n",
            "7    0.1067  0.0617  0.0500  \n",
            "8    0.5633  0.0517  0.0467  \n",
            "9    0.7596  0.0466  0.0349  \n"
          ]
        }
      ]
    },
    {
      "cell_type": "code",
      "source": [
        "import os\n",
        "import cv2\n",
        "import numpy as np\n",
        "import pandas as pd\n",
        "\n",
        "#Set up image folder\n",
        "train_images_path = \"/content/pcb_data/pcb-defect-dataset/train/images\"\n",
        "val_images_path = \"/content/pcb_data/pcb-defect-dataset/val/images\"\n",
        "test_images_path = \"/content/pcb_data/pcb-defect-dataset/test/images\"\n",
        "\n",
        "# Read tag CSV\n",
        "train_labels_csv = \"train_labels.csv\"\n",
        "val_labels_csv = \"val_labels.csv\"\n",
        "test_labels_csv = \"test_labels.csv\"\n",
        "\n",
        "# Define functions to read images and match tags\n",
        "def load_images_and_labels(images_path, labels_csv):\n",
        "    df = pd.read_csv(labels_csv)  # Read CSV\n",
        "    X, y = [], []  # Store images and labels\n",
        "\n",
        "    # Read images and match tags\n",
        "    for _, row in df.iterrows():\n",
        "        img_path = os.path.join(images_path, row[\"image_name\"])\n",
        "\n",
        "        if os.path.exists(img_path):\n",
        "            img = cv2.imread(img_path, cv2.IMREAD_GRAYSCALE)  # Convert to grayscale\n",
        "            img = cv2.resize(img, (64, 64)) / 255.0  # standardization\n",
        "            X.append(img)\n",
        "            y.append(row[\"class_id\"])  # Take only defect categories as labels\n",
        "\n",
        "    # NumPy array\n",
        "    X = np.array(X)\n",
        "    y = np.array(y)\n",
        "\n",
        "    print(f\"{labels_csv} processed, image data size: {X.shape}, label data size: {y.shape}\")\n",
        "    return X, y\n",
        "\n",
        "# read `train`、`val`、`test` data\n",
        "X_train, y_train = load_images_and_labels(train_images_path, train_labels_csv)\n",
        "X_val, y_val = load_images_and_labels(val_images_path, val_labels_csv)\n",
        "X_test, y_test = load_images_and_labels(test_images_path, test_labels_csv)"
      ],
      "metadata": {
        "id": "-gA_Gh4asuF_",
        "colab": {
          "base_uri": "https://localhost:8080/"
        },
        "outputId": "582e1c13-a70e-40c6-c919-10168a7df383"
      },
      "execution_count": 4,
      "outputs": [
        {
          "output_type": "stream",
          "name": "stdout",
          "text": [
            "train_labels.csv processed, image data size: (12991, 64, 64), label data size: (12991,)\n",
            "val_labels.csv processed, image data size: (1595, 64, 64), label data size: (1595,)\n",
            "test_labels.csv processed, image data size: (1662, 64, 64), label data size: (1662,)\n"
          ]
        }
      ]
    },
    {
      "cell_type": "code",
      "source": [
        "from sklearn.model_selection import train_test_split\n",
        "import numpy as np\n",
        "\n",
        "# take 500 data\n",
        "X_train, _, y_train, _ = train_test_split(X_train, y_train, train_size=1500, random_state=42, stratify=y_train)\n",
        "X_val, _, y_val, _ = train_test_split(X_val, y_val, train_size=1000, random_state=42, stratify=y_val)\n",
        "X_test, _, y_test, _ = train_test_split(X_test, y_test, train_size=1000, random_state=42, stratify=y_test)\n",
        "\n",
        "# Confirm data shape\n",
        "print(\"取樣後的影像數據 (Train):\", X_train.shape)  # (500, 64, 64)\n",
        "print(\"取樣後的標籤數據 (Train):\", y_train.shape)  # (500,)\n",
        "\n",
        "print(\"取樣後的影像數據 (Val):\", X_val.shape)  # (500, 64, 64)\n",
        "print(\"取樣後的標籤數據 (Val):\", y_val.shape)  # (500,)\n",
        "\n",
        "print(\"取樣後的影像數據 (Test):\", X_test.shape)  # (500, 64, 64)\n",
        "print(\"取樣後的標籤數據 (Test):\", y_test.shape)  # (500,)\n"
      ],
      "metadata": {
        "id": "QZp8JU4vwlu3",
        "colab": {
          "base_uri": "https://localhost:8080/"
        },
        "outputId": "e79c19fb-7b50-4b88-e191-c8ec0bc61a5a"
      },
      "execution_count": 5,
      "outputs": [
        {
          "output_type": "stream",
          "name": "stdout",
          "text": [
            "取樣後的影像數據 (Train): (1500, 64, 64)\n",
            "取樣後的標籤數據 (Train): (1500,)\n",
            "取樣後的影像數據 (Val): (1000, 64, 64)\n",
            "取樣後的標籤數據 (Val): (1000,)\n",
            "取樣後的影像數據 (Test): (1000, 64, 64)\n",
            "取樣後的標籤數據 (Test): (1000,)\n"
          ]
        }
      ]
    },
    {
      "cell_type": "code",
      "source": [
        "import pennylane as qml\n",
        "\n",
        "# Set up the quantum computer simulator (4 qubits, corresponding to 2x2 patch)\n",
        "n_qubits = 4\n",
        "dev = qml.device(\"default.qubit\", wires=n_qubits)\n",
        "\n",
        "@qml.qnode(dev)\n",
        "def quantum_kernel(x):\n",
        "    \"\"\"\n",
        "    This is a quantum circuit that converts image patches into quantum features\n",
        "    \"\"\"\n",
        "    for i in range(n_qubits):\n",
        "        qml.RY(x[i] * np.pi, wires=i)  # Embedding image data using Ry gates\n",
        "        qml.Hadamard(wires=i)  # Join Hadamard Gate\n",
        "\n",
        "    # oin Quantum Entanglement\n",
        "    for i in range(n_qubits - 1):\n",
        "        qml.CNOT(wires=[i, i+1])\n",
        "\n",
        "    return qml.expval(qml.PauliZ(0))  # Output quantum features\n",
        "\n",
        "x_test = np.random.rand(4)  # 產生 4 個隨機數\n",
        "qml.draw_mpl(quantum_kernel)(x_test)"
      ],
      "metadata": {
        "id": "7wxBGd0YwrXY",
        "colab": {
          "base_uri": "https://localhost:8080/",
          "height": 553
        },
        "outputId": "f99d911d-ebc6-4787-cc11-bd81bdd2d62a"
      },
      "execution_count": 6,
      "outputs": [
        {
          "output_type": "execute_result",
          "data": {
            "text/plain": [
              "(<Figure size 800x500 with 1 Axes>, <Axes: >)"
            ]
          },
          "metadata": {},
          "execution_count": 6
        },
        {
          "output_type": "display_data",
          "data": {
            "text/plain": [
              "<Figure size 800x500 with 1 Axes>"
            ],
            "image/png": "[encoded data removed]"
          },
          "metadata": {}
        }
      ]
    },
    {
      "cell_type": "code",
      "source": [
        "def quanvolution(image):\n",
        "    output_size = (image.shape[0] //2, image.shape[1] //2)\n",
        "    q_image = np.zeros(output_size)\n",
        "\n",
        "    for i in range(0, image.shape[0], 2):\n",
        "        for j in range(0, image.shape[1], 2):\n",
        "          patch = image[i:i+2, j:j+2].flatten()\n",
        "          q_image[i//2, j//2] = quantum_kernel(patch)\n",
        "\n",
        "    return q_image.flatten()"
      ],
      "metadata": {
        "id": "HUgTzit7wxCB"
      },
      "execution_count": 7,
      "outputs": []
    },
    {
      "cell_type": "code",
      "source": [
        "# Do Quanvolution to data\n",
        "# X_train_quanv = np.array([quanvolution(img) for img in X_train])\n",
        "# X_val_quanv = np.array([quanvolution(img) for img in X_val])\n",
        "# X_test_quanv = np.array([quanvolution(img) for img in X_test])\n",
        "\n",
        "# print(\"Quantum feature size（Train）:\", X_train_quanv.shape)\n",
        "# print(\"Quantum feature size（Val）:\", X_val_quanv.shape)\n",
        "# print(\"Quantum feature size（Test）:\", X_test_quanv.shape)\n"
      ],
      "metadata": {
        "id": "iftUVz-IwzYS"
      },
      "execution_count": null,
      "outputs": []
    },
    {
      "cell_type": "code",
      "source": [
        "# import numpy as np\n",
        "\n",
        "# def compute_kernel_matrix(X):\n",
        "#     \"\"\"\n",
        "#     Compute Quantum Kernel Matrix\n",
        "#     - X: quantum eigenvector (N, d), where N is the number of samples and d is the number of features\n",
        "#     - returns the Kernel matrix of (N, N)\n",
        "#     \"\"\"\n",
        "#     N = len(X)\n",
        "#     kernel_matrix = np.zeros((N, N))\n",
        "\n",
        "#     for i in range(N):\n",
        "#         for j in range(i, N):  # 只計算上三角矩陣（因為對稱）\n",
        "#             kernel_matrix[i, j] = np.dot(X[i], X[j])  # 內積當作 Kernel\n",
        "#             kernel_matrix[j, i] = kernel_matrix[i, j]  # 利用對稱性\n",
        "\n",
        "#     return kernel_matrix"
      ],
      "metadata": {
        "id": "58ja_fa5Dv9t"
      },
      "execution_count": null,
      "outputs": []
    },
    {
      "cell_type": "code",
      "source": [
        "#rbf kernel\n",
        "\n",
        "# def compute_kernel_matrix(X, gamma=0.5):\n",
        "#     N = len(X)\n",
        "#     kernel_matrix = np.zeros((N, N))\n",
        "\n",
        "#     for i in range(N):\n",
        "#         for j in range(i, N):\n",
        "#             dist = np.linalg.norm(X[i] - X[j]) ** 2\n",
        "#             kernel_matrix[i, j] = np.exp(-gamma * dist)  # Gaussian Kernel\n",
        "#             kernel_matrix[j, i] = kernel_matrix[i, j]\n",
        "\n",
        "#     return kernel_matrix"
      ],
      "metadata": {
        "id": "-yeGsvXwI5I-"
      },
      "execution_count": null,
      "outputs": []
    },
    {
      "cell_type": "code",
      "source": [
        "# Quantum Kernel Matrix\n",
        "# train_kernel_matrix = compute_kernel_matrix(X_train_quanv)\n",
        "# val_kernel_matrix = np.array([[np.dot(x1, x2) for x2 in X_train_quanv] for x1 in X_val_quanv])\n",
        "# test_kernel_matrix = np.array([[np.dot(x1, x2) for x2 in X_train_quanv] for x1 in X_test_quanv])\n",
        "\n",
        "# print(\"Train Kernel Matrix:\", train_kernel_matrix.shape)  # (N_train, N_train)\n",
        "# print(\"Val Kernel Matrix:\", val_kernel_matrix.shape)      # (N_val, N_train)\n",
        "# print(\"Test Kernel Matrix:\", test_kernel_matrix.shape)    # (N_test, N_train)"
      ],
      "metadata": {
        "id": "z96gGP0KxBqf"
      },
      "execution_count": null,
      "outputs": []
    },
    {
      "cell_type": "code",
      "source": [
        "# from sklearn import svm\n",
        "# from sklearn.metrics import accuracy_score\n",
        "\n",
        "# # train Quantum SVM\n",
        "# qsvm = svm.SVC(kernel=\"precomputed\")\n",
        "# qsvm.fit(train_kernel_matrix, y_train)\n"
      ],
      "metadata": {
        "id": "0smAhdcPxCuj"
      },
      "execution_count": null,
      "outputs": []
    },
    {
      "cell_type": "code",
      "source": [
        "# # test  QSVM in val set\n",
        "# preds_val = qsvm.predict(val_kernel_matrix)\n",
        "# accuracy_val = accuracy_score(y_val, preds_val)\n",
        "# print(f\"QSVM Validation Accuracy: {accuracy_val:.4f}\")\n",
        "\n",
        "# # test QSVM in test set\n",
        "# preds_test = qsvm.predict(test_kernel_matrix)\n",
        "# accuracy_test = accuracy_score(y_test, preds_test)\n",
        "# print(f\"QSVM Test Accuracy: {accuracy_test:.4f}\")\n"
      ],
      "metadata": {
        "id": "SeQ00cyhxKVz"
      },
      "execution_count": null,
      "outputs": []
    },
    {
      "cell_type": "code",
      "source": [
        "# Choose label=0&1\n",
        "X_train_0 = X_train[y_train == 0]\n",
        "y_train_0 = y_train[y_train == 0]\n",
        "\n",
        "X_train_1 = X_train[y_train == 1]\n",
        "y_train_1 = y_train[y_train == 1]\n",
        "\n",
        "X_val_0 = X_val[y_val == 0]\n",
        "y_val_0 = y_val[y_val == 0]\n",
        "\n",
        "X_val_1 = X_val[y_val == 1]\n",
        "y_val_1 = y_val[y_val == 1]\n",
        "\n",
        "X_test_0 = X_test[y_test == 0]\n",
        "y_test_0 = y_test[y_test == 0]\n",
        "\n",
        "X_test_1 = X_test[y_test == 1]\n",
        "y_test_1 = y_test[y_test == 1]\n",
        "\n",
        "print(f\"label=0 訓練數據數量: {X_train_0.shape}\")\n",
        "print(f\"label=0 訓練數據數量: {X_val_0.shape}\")\n",
        "print(f\"label=0 訓練數據數量: {X_test_0.shape}\")\n",
        "\n",
        "print(f\"訓練資料 label=1 數量: {X_train_1.shape}\")\n",
        "print(f\"驗證資料 label=1 數量: {X_val_1.shape}\")\n",
        "print(f\"測試資料 label=1 數量: {X_test_1.shape}\")\n"
      ],
      "metadata": {
        "colab": {
          "base_uri": "https://localhost:8080/"
        },
        "id": "gdAmEmfJKFkC",
        "outputId": "d74c8806-cdf5-42fa-a0f9-588092f2ce51"
      },
      "execution_count": 8,
      "outputs": [
        {
          "output_type": "stream",
          "name": "stdout",
          "text": [
            "label=0 訓練數據數量: (256, 64, 64)\n",
            "label=0 訓練數據數量: (176, 64, 64)\n",
            "label=0 訓練數據數量: (158, 64, 64)\n",
            "訓練資料 label=1 數量: (252, 64, 64)\n",
            "驗證資料 label=1 數量: (164, 64, 64)\n",
            "測試資料 label=1 數量: (168, 64, 64)\n"
          ]
        }
      ]
    },
    {
      "cell_type": "code",
      "source": [
        "X_train_0 = np.array([quanvolution(img) for img in X_train_0])\n",
        "X_val_0 = np.array([quanvolution(img) for img in X_val_0])\n",
        "X_test_0 = np.array([quanvolution(img) for img in X_test_0])\n",
        "\n",
        "print(\" X_train_0 shape:\", X_train_0.shape)  # (84, 特徵數)\n",
        "print(\" X_val_0 shape:\", X_val_0.shape)      # (88, 特徵數)\n",
        "print(\"X_test_0 shape:\", X_test_0.shape)    # (79, 特徵數)"
      ],
      "metadata": {
        "colab": {
          "base_uri": "https://localhost:8080/"
        },
        "id": "CSJERG6FPdwr",
        "outputId": "736548f4-b6fc-4ec1-9d95-92e11f785832"
      },
      "execution_count": 9,
      "outputs": [
        {
          "output_type": "stream",
          "name": "stdout",
          "text": [
            " X_train_0 shape: (256, 1024)\n",
            " X_val_0 shape: (176, 1024)\n",
            "X_test_0 shape: (158, 1024)\n"
          ]
        }
      ]
    },
    {
      "cell_type": "code",
      "source": [
        "X_train_1 = np.array([quanvolution(img) for img in X_train_1])\n",
        "X_val_1 = np.array([quanvolution(img) for img in X_val_1])\n",
        "X_test_1 = np.array([quanvolution(img) for img in X_test_1])\n",
        "\n",
        "print(\" X_train_1 shape:\", X_train_1.shape)  # (84, 特徵數)\n",
        "print(\" X_val_1 shape:\", X_val_1.shape)      # (82, 特徵數)\n",
        "print(\"X_test_1 shape:\", X_test_1.shape)    # (84, 特徵數)"
      ],
      "metadata": {
        "colab": {
          "base_uri": "https://localhost:8080/"
        },
        "id": "Er6zzd8gLKDd",
        "outputId": "4c7c98c5-d878-4677-be72-36d569a8968f"
      },
      "execution_count": 10,
      "outputs": [
        {
          "output_type": "stream",
          "name": "stdout",
          "text": [
            " X_train_1 shape: (252, 1024)\n",
            " X_val_1 shape: (164, 1024)\n",
            "X_test_1 shape: (168, 1024)\n"
          ]
        }
      ]
    },
    {
      "cell_type": "code",
      "source": [
        "# 合併 label=0 和 label=1 的量子特徵數據\n",
        "X_train_01 = np.vstack([X_train_0, X_train_1])\n",
        "y_train_01 = np.hstack([y_train_0, y_train_1])\n",
        "\n",
        "print(f\"合併後的訓練數據: {X_train_01.shape}\")\n",
        "print(f\"合併後的標籤數據: {y_train_01.shape}\")\n",
        "\n",
        "X_val_01 = np.vstack([X_val_0, X_val_1])\n",
        "y_val_01 = np.hstack([y_val_0, y_val_1])\n",
        "\n",
        "print(f\"合併後的訓練數據: {X_val_01.shape}\")\n",
        "print(f\"合併後的標籤數據: {y_val_01.shape}\")\n",
        "\n",
        "X_test_01 = np.vstack([X_test_0, X_test_1])\n",
        "y_test_01 = np.hstack([y_test_0, y_test_1])\n",
        "\n",
        "print(f\"合併後的訓練數據: {X_test_01.shape}\")\n",
        "print(f\"合併後的標籤數據: {y_test_01.shape}\")"
      ],
      "metadata": {
        "colab": {
          "base_uri": "https://localhost:8080/"
        },
        "id": "Mmyc2JbFU8i-",
        "outputId": "c8c92b1a-5bdc-48e1-9f1d-9bfa3c34eb4e"
      },
      "execution_count": 11,
      "outputs": [
        {
          "metadata": {
            "tags": null
          },
          "name": "stdout",
          "output_type": "stream",
          "text": [
            "合併後的訓練數據: (508, 1024)\n",
            "合併後的標籤數據: (508,)\n",
            "合併後的訓練數據: (340, 1024)\n",
            "合併後的標籤數據: (340,)\n",
            "合併後的訓練數據: (326, 1024)\n",
            "合併後的標籤數據: (326,)\n"
          ]
        }
      ]
    },
    {
      "cell_type": "code",
      "source": [
        "from sklearn.decomposition import PCA\n",
        "# 先把影像攤平成 2D 數據 (N, 4096)\n",
        "X_train_flat = X_train_01.reshape(X_train_01.shape[0], -1)\n",
        "X_val_flat = X_val_01.reshape(X_val_01.shape[0], -1)\n",
        "X_test_flat = X_test_01.reshape(X_test_01.shape[0], -1)\n",
        "\n",
        "# 使用 PCA 降維\n",
        "pca = PCA(n_components=4)\n",
        "X_train_pca = pca.fit_transform(X_train_flat)\n",
        "X_val_pca = pca.fit_transform(X_val_flat)\n",
        "X_test_pca = pca.fit_transform(X_test_flat)\n",
        "\n",
        "print(\"降維後的數據形狀：\", X_train_pca.shape)  # (N, 4)\n",
        "print(\"降維後的數據形狀：\", X_val_pca.shape)  # (N, 4)\n"
      ],
      "metadata": {
        "colab": {
          "base_uri": "https://localhost:8080/"
        },
        "id": "2rQIR6GrgV9I",
        "outputId": "6458b2ad-8e57-4d78-c161-580c9a7101c6"
      },
      "execution_count": 12,
      "outputs": [
        {
          "output_type": "stream",
          "name": "stdout",
          "text": [
            "降維後的數據形狀： (508, 4)\n",
            "降維後的數據形狀： (340, 4)\n"
          ]
        }
      ]
    },
    {
      "cell_type": "code",
      "source": [
        "# import pennylane as qml\n",
        "# import pennylane.numpy as np\n",
        "\n",
        "# n_qubits = 4\n",
        "# dev = qml.device(\"default.qubit\", wires=n_qubits)\n",
        "\n",
        "# @qml.qnode(dev)\n",
        "# def feature_map(x):\n",
        "#     # 將輸入 x（維度 4 的向量）嵌入到量子態中\n",
        "#     qml.AngleEmbedding(x, wires=range(n_qubits))\n",
        "#     # 回傳每個 qubit 上 Pauli-Z 的期望值，形成一個 4 維向量\n",
        "#     return [qml.expval(qml.PauliZ(i)) for i in range(n_qubits)]\n"
      ],
      "metadata": {
        "id": "gDf0gJ2PTUIa"
      },
      "execution_count": null,
      "outputs": []
    },
    {
      "cell_type": "code",
      "source": [
        "# def quantum_kernel_fidelity(x1, x2):\n",
        "#     phi1 = np.array(feature_map(x1))\n",
        "#     phi2 = np.array(feature_map(x2))\n",
        "#     # 使用內積的平方作為核值\n",
        "#     return np.dot(phi1, phi2)**2"
      ],
      "metadata": {
        "id": "5bNUdq2OUZTy"
      },
      "execution_count": null,
      "outputs": []
    },
    {
      "cell_type": "code",
      "source": [
        "# def compute_quantum_kernel_matrix(X, kernel_func=quantum_kernel_fidelity):\n",
        "#     N = len(X)\n",
        "#     K = np.zeros((N, N))\n",
        "#     for i in range(N):\n",
        "#         for j in range(i, N):\n",
        "#             K[i, j] = kernel_func(X[i], X[j])\n",
        "#             K[j, i] = K[i, j]\n",
        "#     return K"
      ],
      "metadata": {
        "id": "9HHmEMG0hXt-"
      },
      "execution_count": null,
      "outputs": []
    },
    {
      "cell_type": "code",
      "source": [
        "import pennylane as qml\n",
        "import pennylane.numpy as np  # PennyLane 版本的 numpy\n",
        "import numpy as onp          # 傳統 NumPy，避免混淆時可用 \"onp\"\n",
        "\n",
        "n_qubits = 4\n",
        "dev = qml.device(\"default.qubit\", wires=n_qubits)\n",
        "\n",
        "@qml.qnode(dev)\n",
        "def feature_map(x):\n",
        "    \"\"\"\n",
        "    將輸入 x (長度 <= n_qubits) 嵌入到量子態中，\n",
        "    回傳每個 qubit 上 PauliZ 的期望值，形成一個長度 = n_qubits 的向量。\n",
        "    \"\"\"\n",
        "    qml.AngleEmbedding(x, wires=range(n_qubits))\n",
        "    return [qml.expval(qml.PauliZ(i)) for i in range(n_qubits)]\n",
        "\n",
        "def quantum_kernel_fidelity(x1, x2):\n",
        "    \"\"\"\n",
        "    量子核函數：先透過 feature_map() 得到兩個量子特徵向量 phi1, phi2，\n",
        "    然後取內積 (dot) 再平方，作為「類似保真度」的核值。\n",
        "    \"\"\"\n",
        "    # feature_map(x) 回傳的是一個可微的 list[ArrayBox, ...]\n",
        "    # 用 qml.math.stack() 把它變成同一個張量\n",
        "    phi1 = qml.math.stack(feature_map(x1))\n",
        "    phi2 = qml.math.stack(feature_map(x2))\n",
        "\n",
        "    # 內積 (dot) → dot**2\n",
        "    dot_value = qml.math.dot(phi1, phi2)\n",
        "    kernel_val = dot_value**2\n",
        "\n",
        "    # 有時需要轉成 Python float 或 onp.float64 才能塞到 Kernel Matrix\n",
        "    # 這裡用 qml.math.toarray() 轉成可用的數值\n",
        "    return qml.math.toarray(kernel_val)\n",
        "\n",
        "def compute_quantum_kernel_matrix(X, kernel_func=quantum_kernel_fidelity):\n",
        "    \"\"\"\n",
        "    給定一組資料 X (shape: (N, d))，計算 N×N 的量子核矩陣。\n",
        "    \"\"\"\n",
        "    N = len(X)\n",
        "    K = onp.zeros((N, N))  # 這裡用傳統 NumPy array 來存放 kernel\n",
        "    for i in range(N):\n",
        "        for j in range(i, N):\n",
        "            val = kernel_func(X[i], X[j])\n",
        "            K[i, j] = val\n",
        "            K[j, i] = val\n",
        "    return K\n"
      ],
      "metadata": {
        "id": "-HmwWcwhhjKs"
      },
      "execution_count": 13,
      "outputs": []
    },
    {
      "cell_type": "code",
      "source": [
        "from sklearn import svm\n",
        "from sklearn.metrics import accuracy_score\n",
        "\n",
        "# 假設 X_train.shape = (N_train, d)，y_train.shape = (N_train,)\n",
        "K_train = compute_quantum_kernel_matrix(X_train_pca, quantum_kernel_fidelity)\n",
        "K_val   = compute_quantum_kernel_matrix(X_val_pca,   quantum_kernel_fidelity)\n",
        "K_test  = compute_quantum_kernel_matrix(X_test_pca,  quantum_kernel_fidelity)\n",
        "\n",
        "print(f\"Train Kernel Matrix: {K_train.shape}\")\n",
        "print(f\"Val Kernel Matrix: {K_val.shape}\")\n",
        "print(f\"Test Kernel Matrix: {K_test.shape}\")\n",
        "\n"
      ],
      "metadata": {
        "id": "nchbG-AB1XCZ",
        "outputId": "e094ef8c-9bc3-4926-9067-862139d37ab0",
        "colab": {
          "base_uri": "https://localhost:8080/"
        }
      },
      "execution_count": 15,
      "outputs": [
        {
          "output_type": "stream",
          "name": "stdout",
          "text": [
            "Train Kernel Matrix: (508, 508)\n",
            "Val Kernel Matrix: (340, 340)\n",
            "Test Kernel Matrix: (326, 326)\n"
          ]
        }
      ]
    },
    {
      "cell_type": "code",
      "source": [
        "# 使用 precomputed kernel 的 SVM\n",
        "qsvm = svm.SVC(kernel=\"precomputed\")\n",
        "qsvm.fit(K_train, y_train)\n",
        "\n",
        "# 驗證\n",
        "val_preds = qsvm.predict(K_val)\n",
        "val_acc   = accuracy_score(y_val, val_preds)\n",
        "print(f\"Validation Accuracy: {val_acc:.4f}\")\n",
        "\n",
        "# 測試\n",
        "test_preds = qsvm.predict(K_test)\n",
        "test_acc   = accuracy_score(y_test, test_preds)\n",
        "print(f\"Test Accuracy: {test_acc:.4f}\")\n",
        "######"
      ],
      "metadata": {
        "id": "Lj-HOU021hvW",
        "outputId": "c60182c3-b941-4e48-ffd4-b2fd7a0251bf",
        "colab": {
          "base_uri": "https://localhost:8080/",
          "height": 894
        }
      },
      "execution_count": 16,
      "outputs": [
        {
          "output_type": "error",
          "ename": "ValueError",
          "evalue": "Found input variables with inconsistent numbers of samples: [508, 1500]",
          "traceback": [
            "\u001b[0;31m---------------------------------------------------------------------------\u001b[0m",
            "\u001b[0;31mValueError\u001b[0m                                Traceback (most recent call last)",
            "\u001b[0;32m<ipython-input-16-d7393a72a2b8>\u001b[0m in \u001b[0;36m<cell line: 0>\u001b[0;34m()\u001b[0m\n\u001b[1;32m      1\u001b[0m \u001b[0;31m# 使用 precomputed kernel 的 SVM\u001b[0m\u001b[0;34m\u001b[0m\u001b[0;34m\u001b[0m\u001b[0m\n\u001b[1;32m      2\u001b[0m \u001b[0mqsvm\u001b[0m \u001b[0;34m=\u001b[0m \u001b[0msvm\u001b[0m\u001b[0;34m.\u001b[0m\u001b[0mSVC\u001b[0m\u001b[0;34m(\u001b[0m\u001b[0mkernel\u001b[0m\u001b[0;34m=\u001b[0m\u001b[0;34m\"precomputed\"\u001b[0m\u001b[0;34m)\u001b[0m\u001b[0;34m\u001b[0m\u001b[0;34m\u001b[0m\u001b[0m\n\u001b[0;32m----> 3\u001b[0;31m \u001b[0mqsvm\u001b[0m\u001b[0;34m.\u001b[0m\u001b[0mfit\u001b[0m\u001b[0;34m(\u001b[0m\u001b[0mK_train\u001b[0m\u001b[0;34m,\u001b[0m \u001b[0my_train\u001b[0m\u001b[0;34m)\u001b[0m\u001b[0;34m\u001b[0m\u001b[0;34m\u001b[0m\u001b[0m\n\u001b[0m\u001b[1;32m      4\u001b[0m \u001b[0;34m\u001b[0m\u001b[0m\n\u001b[1;32m      5\u001b[0m \u001b[0;31m# 驗證\u001b[0m\u001b[0;34m\u001b[0m\u001b[0;34m\u001b[0m\u001b[0m\n",
            "\u001b[0;32m/usr/local/lib/python3.11/dist-packages/sklearn/base.py\u001b[0m in \u001b[0;36mwrapper\u001b[0;34m(estimator, *args, **kwargs)\u001b[0m\n\u001b[1;32m   1387\u001b[0m                 )\n\u001b[1;32m   1388\u001b[0m             ):\n\u001b[0;32m-> 1389\u001b[0;31m                 \u001b[0;32mreturn\u001b[0m \u001b[0mfit_method\u001b[0m\u001b[0;34m(\u001b[0m\u001b[0mestimator\u001b[0m\u001b[0;34m,\u001b[0m \u001b[0;34m*\u001b[0m\u001b[0margs\u001b[0m\u001b[0;34m,\u001b[0m \u001b[0;34m**\u001b[0m\u001b[0mkwargs\u001b[0m\u001b[0;34m)\u001b[0m\u001b[0;34m\u001b[0m\u001b[0;34m\u001b[0m\u001b[0m\n\u001b[0m\u001b[1;32m   1390\u001b[0m \u001b[0;34m\u001b[0m\u001b[0m\n\u001b[1;32m   1391\u001b[0m         \u001b[0;32mreturn\u001b[0m \u001b[0mwrapper\u001b[0m\u001b[0;34m\u001b[0m\u001b[0;34m\u001b[0m\u001b[0m\n",
            "\u001b[0;32m/usr/local/lib/python3.11/dist-packages/sklearn/svm/_base.py\u001b[0m in \u001b[0;36mfit\u001b[0;34m(self, X, y, sample_weight)\u001b[0m\n\u001b[1;32m    195\u001b[0m             \u001b[0mcheck_consistent_length\u001b[0m\u001b[0;34m(\u001b[0m\u001b[0mX\u001b[0m\u001b[0;34m,\u001b[0m \u001b[0my\u001b[0m\u001b[0;34m)\u001b[0m\u001b[0;34m\u001b[0m\u001b[0;34m\u001b[0m\u001b[0m\n\u001b[1;32m    196\u001b[0m         \u001b[0;32melse\u001b[0m\u001b[0;34m:\u001b[0m\u001b[0;34m\u001b[0m\u001b[0;34m\u001b[0m\u001b[0m\n\u001b[0;32m--> 197\u001b[0;31m             X, y = validate_data(\n\u001b[0m\u001b[1;32m    198\u001b[0m                 \u001b[0mself\u001b[0m\u001b[0;34m,\u001b[0m\u001b[0;34m\u001b[0m\u001b[0;34m\u001b[0m\u001b[0m\n\u001b[1;32m    199\u001b[0m                 \u001b[0mX\u001b[0m\u001b[0;34m,\u001b[0m\u001b[0;34m\u001b[0m\u001b[0;34m\u001b[0m\u001b[0m\n",
            "\u001b[0;32m/usr/local/lib/python3.11/dist-packages/sklearn/utils/validation.py\u001b[0m in \u001b[0;36mvalidate_data\u001b[0;34m(_estimator, X, y, reset, validate_separately, skip_check_array, **check_params)\u001b[0m\n\u001b[1;32m   2959\u001b[0m             \u001b[0my\u001b[0m \u001b[0;34m=\u001b[0m \u001b[0mcheck_array\u001b[0m\u001b[0;34m(\u001b[0m\u001b[0my\u001b[0m\u001b[0;34m,\u001b[0m \u001b[0minput_name\u001b[0m\u001b[0;34m=\u001b[0m\u001b[0;34m\"y\"\u001b[0m\u001b[0;34m,\u001b[0m \u001b[0;34m**\u001b[0m\u001b[0mcheck_y_params\u001b[0m\u001b[0;34m)\u001b[0m\u001b[0;34m\u001b[0m\u001b[0;34m\u001b[0m\u001b[0m\n\u001b[1;32m   2960\u001b[0m         \u001b[0;32melse\u001b[0m\u001b[0;34m:\u001b[0m\u001b[0;34m\u001b[0m\u001b[0;34m\u001b[0m\u001b[0m\n\u001b[0;32m-> 2961\u001b[0;31m             \u001b[0mX\u001b[0m\u001b[0;34m,\u001b[0m \u001b[0my\u001b[0m \u001b[0;34m=\u001b[0m \u001b[0mcheck_X_y\u001b[0m\u001b[0;34m(\u001b[0m\u001b[0mX\u001b[0m\u001b[0;34m,\u001b[0m \u001b[0my\u001b[0m\u001b[0;34m,\u001b[0m \u001b[0;34m**\u001b[0m\u001b[0mcheck_params\u001b[0m\u001b[0;34m)\u001b[0m\u001b[0;34m\u001b[0m\u001b[0;34m\u001b[0m\u001b[0m\n\u001b[0m\u001b[1;32m   2962\u001b[0m         \u001b[0mout\u001b[0m \u001b[0;34m=\u001b[0m \u001b[0mX\u001b[0m\u001b[0;34m,\u001b[0m \u001b[0my\u001b[0m\u001b[0;34m\u001b[0m\u001b[0;34m\u001b[0m\u001b[0m\n\u001b[1;32m   2963\u001b[0m \u001b[0;34m\u001b[0m\u001b[0m\n",
            "\u001b[0;32m/usr/local/lib/python3.11/dist-packages/sklearn/utils/validation.py\u001b[0m in \u001b[0;36mcheck_X_y\u001b[0;34m(X, y, accept_sparse, accept_large_sparse, dtype, order, copy, force_writeable, force_all_finite, ensure_all_finite, ensure_2d, allow_nd, multi_output, ensure_min_samples, ensure_min_features, y_numeric, estimator)\u001b[0m\n\u001b[1;32m   1387\u001b[0m     \u001b[0my\u001b[0m \u001b[0;34m=\u001b[0m \u001b[0m_check_y\u001b[0m\u001b[0;34m(\u001b[0m\u001b[0my\u001b[0m\u001b[0;34m,\u001b[0m \u001b[0mmulti_output\u001b[0m\u001b[0;34m=\u001b[0m\u001b[0mmulti_output\u001b[0m\u001b[0;34m,\u001b[0m \u001b[0my_numeric\u001b[0m\u001b[0;34m=\u001b[0m\u001b[0my_numeric\u001b[0m\u001b[0;34m,\u001b[0m \u001b[0mestimator\u001b[0m\u001b[0;34m=\u001b[0m\u001b[0mestimator\u001b[0m\u001b[0;34m)\u001b[0m\u001b[0;34m\u001b[0m\u001b[0;34m\u001b[0m\u001b[0m\n\u001b[1;32m   1388\u001b[0m \u001b[0;34m\u001b[0m\u001b[0m\n\u001b[0;32m-> 1389\u001b[0;31m     \u001b[0mcheck_consistent_length\u001b[0m\u001b[0;34m(\u001b[0m\u001b[0mX\u001b[0m\u001b[0;34m,\u001b[0m \u001b[0my\u001b[0m\u001b[0;34m)\u001b[0m\u001b[0;34m\u001b[0m\u001b[0;34m\u001b[0m\u001b[0m\n\u001b[0m\u001b[1;32m   1390\u001b[0m \u001b[0;34m\u001b[0m\u001b[0m\n\u001b[1;32m   1391\u001b[0m     \u001b[0;32mreturn\u001b[0m \u001b[0mX\u001b[0m\u001b[0;34m,\u001b[0m \u001b[0my\u001b[0m\u001b[0;34m\u001b[0m\u001b[0;34m\u001b[0m\u001b[0m\n",
            "\u001b[0;32m/usr/local/lib/python3.11/dist-packages/sklearn/utils/validation.py\u001b[0m in \u001b[0;36mcheck_consistent_length\u001b[0;34m(*arrays)\u001b[0m\n\u001b[1;32m    473\u001b[0m     \u001b[0muniques\u001b[0m \u001b[0;34m=\u001b[0m \u001b[0mnp\u001b[0m\u001b[0;34m.\u001b[0m\u001b[0munique\u001b[0m\u001b[0;34m(\u001b[0m\u001b[0mlengths\u001b[0m\u001b[0;34m)\u001b[0m\u001b[0;34m\u001b[0m\u001b[0;34m\u001b[0m\u001b[0m\n\u001b[1;32m    474\u001b[0m     \u001b[0;32mif\u001b[0m \u001b[0mlen\u001b[0m\u001b[0;34m(\u001b[0m\u001b[0muniques\u001b[0m\u001b[0;34m)\u001b[0m \u001b[0;34m>\u001b[0m \u001b[0;36m1\u001b[0m\u001b[0;34m:\u001b[0m\u001b[0;34m\u001b[0m\u001b[0;34m\u001b[0m\u001b[0m\n\u001b[0;32m--> 475\u001b[0;31m         raise ValueError(\n\u001b[0m\u001b[1;32m    476\u001b[0m             \u001b[0;34m\"Found input variables with inconsistent numbers of samples: %r\"\u001b[0m\u001b[0;34m\u001b[0m\u001b[0;34m\u001b[0m\u001b[0m\n\u001b[1;32m    477\u001b[0m             \u001b[0;34m%\u001b[0m \u001b[0;34m[\u001b[0m\u001b[0mint\u001b[0m\u001b[0;34m(\u001b[0m\u001b[0ml\u001b[0m\u001b[0;34m)\u001b[0m \u001b[0;32mfor\u001b[0m \u001b[0ml\u001b[0m \u001b[0;32min\u001b[0m \u001b[0mlengths\u001b[0m\u001b[0;34m]\u001b[0m\u001b[0;34m\u001b[0m\u001b[0;34m\u001b[0m\u001b[0m\n",
            "\u001b[0;31mValueError\u001b[0m: Found input variables with inconsistent numbers of samples: [508, 1500]"
          ]
        }
      ]
    },
    {
      "cell_type": "code",
      "source": [
        "# K_train = compute_quantum_kernel_matrix(X_train_pca)\n",
        "# K_val = compute_quantum_kernel_matrix(X_val_pca)\n",
        "# K_test = compute_quantum_kernel_matrix(X_test_pca)\n",
        "\n"
      ],
      "metadata": {
        "colab": {
          "base_uri": "https://localhost:8080/"
        },
        "id": "-6uv51HNhc_N",
        "outputId": "18647aa0-6036-41a0-cf26-b721fff411cd"
      },
      "execution_count": 14,
      "outputs": [
        {
          "output_type": "stream",
          "name": "stdout",
          "text": [
            "Train Kernel Matrix: (508, 508)\n",
            "Val Kernel Matrix: (340, 340)\n",
            "Test Kernel Matrix: (326, 326)\n"
          ]
        }
      ]
    },
    {
      "cell_type": "code",
      "source": [
        "# from sklearn import svm\n",
        "# from sklearn.metrics import accuracy_score\n",
        "\n",
        "# qsvm = svm.SVC(kernel=\"precomputed\")\n",
        "# qsvm.fit(K_train, y_train_01)\n",
        "\n",
        "# val_preds = qsvm.predict(K_val)\n",
        "# test_preds = qsvm.predict(K_test)\n",
        "\n",
        "# val_acc = accuracy_score(y_val_01, val_preds)\n",
        "# test_acc = accuracy_score(y_test_01, test_preds)\n",
        "\n",
        "# print(f\"QSVM Validation Accuracy: {val_acc:.4f}\")\n",
        "# print(f\"QSVM Test Accuracy: {test_acc:.4f}\")\n"
      ],
      "metadata": {
        "colab": {
          "base_uri": "https://localhost:8080/",
          "height": 356
        },
        "id": "RCg6JYqEkGXh",
        "outputId": "2b19e33a-c9fd-45d7-fcea-daed24778de1"
      },
      "execution_count": null,
      "outputs": [
        {
          "output_type": "error",
          "ename": "ValueError",
          "evalue": "X has 340 features, but SVC is expecting 508 features as input.",
          "traceback": [
            "\u001b[0;31m---------------------------------------------------------------------------\u001b[0m",
            "\u001b[0;31mValueError\u001b[0m                                Traceback (most recent call last)",
            "\u001b[0;32m<ipython-input-22-73a59c4d6fb7>\u001b[0m in \u001b[0;36m<cell line: 0>\u001b[0;34m()\u001b[0m\n\u001b[1;32m      5\u001b[0m \u001b[0mqsvm\u001b[0m\u001b[0;34m.\u001b[0m\u001b[0mfit\u001b[0m\u001b[0;34m(\u001b[0m\u001b[0mK_train\u001b[0m\u001b[0;34m,\u001b[0m \u001b[0my_train_01\u001b[0m\u001b[0;34m)\u001b[0m\u001b[0;34m\u001b[0m\u001b[0;34m\u001b[0m\u001b[0m\n\u001b[1;32m      6\u001b[0m \u001b[0;34m\u001b[0m\u001b[0m\n\u001b[0;32m----> 7\u001b[0;31m \u001b[0mval_preds\u001b[0m \u001b[0;34m=\u001b[0m \u001b[0mqsvm\u001b[0m\u001b[0;34m.\u001b[0m\u001b[0mpredict\u001b[0m\u001b[0;34m(\u001b[0m\u001b[0mK_val\u001b[0m\u001b[0;34m)\u001b[0m\u001b[0;34m\u001b[0m\u001b[0;34m\u001b[0m\u001b[0m\n\u001b[0m\u001b[1;32m      8\u001b[0m \u001b[0mtest_preds\u001b[0m \u001b[0;34m=\u001b[0m \u001b[0mqsvm\u001b[0m\u001b[0;34m.\u001b[0m\u001b[0mpredict\u001b[0m\u001b[0;34m(\u001b[0m\u001b[0mK_test\u001b[0m\u001b[0;34m)\u001b[0m\u001b[0;34m\u001b[0m\u001b[0;34m\u001b[0m\u001b[0m\n\u001b[1;32m      9\u001b[0m \u001b[0;34m\u001b[0m\u001b[0m\n",
            "\u001b[0;32m/usr/local/lib/python3.11/dist-packages/sklearn/svm/_base.py\u001b[0m in \u001b[0;36mpredict\u001b[0;34m(self, X)\u001b[0m\n\u001b[1;32m    820\u001b[0m             \u001b[0my\u001b[0m \u001b[0;34m=\u001b[0m \u001b[0mnp\u001b[0m\u001b[0;34m.\u001b[0m\u001b[0margmax\u001b[0m\u001b[0;34m(\u001b[0m\u001b[0mself\u001b[0m\u001b[0;34m.\u001b[0m\u001b[0mdecision_function\u001b[0m\u001b[0;34m(\u001b[0m\u001b[0mX\u001b[0m\u001b[0;34m)\u001b[0m\u001b[0;34m,\u001b[0m \u001b[0maxis\u001b[0m\u001b[0;34m=\u001b[0m\u001b[0;36m1\u001b[0m\u001b[0;34m)\u001b[0m\u001b[0;34m\u001b[0m\u001b[0;34m\u001b[0m\u001b[0m\n\u001b[1;32m    821\u001b[0m         \u001b[0;32melse\u001b[0m\u001b[0;34m:\u001b[0m\u001b[0;34m\u001b[0m\u001b[0;34m\u001b[0m\u001b[0m\n\u001b[0;32m--> 822\u001b[0;31m             \u001b[0my\u001b[0m \u001b[0;34m=\u001b[0m \u001b[0msuper\u001b[0m\u001b[0;34m(\u001b[0m\u001b[0;34m)\u001b[0m\u001b[0;34m.\u001b[0m\u001b[0mpredict\u001b[0m\u001b[0;34m(\u001b[0m\u001b[0mX\u001b[0m\u001b[0;34m)\u001b[0m\u001b[0;34m\u001b[0m\u001b[0;34m\u001b[0m\u001b[0m\n\u001b[0m\u001b[1;32m    823\u001b[0m         \u001b[0;32mreturn\u001b[0m \u001b[0mself\u001b[0m\u001b[0;34m.\u001b[0m\u001b[0mclasses_\u001b[0m\u001b[0;34m.\u001b[0m\u001b[0mtake\u001b[0m\u001b[0;34m(\u001b[0m\u001b[0mnp\u001b[0m\u001b[0;34m.\u001b[0m\u001b[0masarray\u001b[0m\u001b[0;34m(\u001b[0m\u001b[0my\u001b[0m\u001b[0;34m,\u001b[0m \u001b[0mdtype\u001b[0m\u001b[0;34m=\u001b[0m\u001b[0mnp\u001b[0m\u001b[0;34m.\u001b[0m\u001b[0mintp\u001b[0m\u001b[0;34m)\u001b[0m\u001b[0;34m)\u001b[0m\u001b[0;34m\u001b[0m\u001b[0;34m\u001b[0m\u001b[0m\n\u001b[1;32m    824\u001b[0m \u001b[0;34m\u001b[0m\u001b[0m\n",
            "\u001b[0;32m/usr/local/lib/python3.11/dist-packages/sklearn/svm/_base.py\u001b[0m in \u001b[0;36mpredict\u001b[0;34m(self, X)\u001b[0m\n\u001b[1;32m    434\u001b[0m             \u001b[0mThe\u001b[0m \u001b[0mpredicted\u001b[0m \u001b[0mvalues\u001b[0m\u001b[0;34m.\u001b[0m\u001b[0;34m\u001b[0m\u001b[0;34m\u001b[0m\u001b[0m\n\u001b[1;32m    435\u001b[0m         \"\"\"\n\u001b[0;32m--> 436\u001b[0;31m         \u001b[0mX\u001b[0m \u001b[0;34m=\u001b[0m \u001b[0mself\u001b[0m\u001b[0;34m.\u001b[0m\u001b[0m_validate_for_predict\u001b[0m\u001b[0;34m(\u001b[0m\u001b[0mX\u001b[0m\u001b[0;34m)\u001b[0m\u001b[0;34m\u001b[0m\u001b[0;34m\u001b[0m\u001b[0m\n\u001b[0m\u001b[1;32m    437\u001b[0m         \u001b[0mpredict\u001b[0m \u001b[0;34m=\u001b[0m \u001b[0mself\u001b[0m\u001b[0;34m.\u001b[0m\u001b[0m_sparse_predict\u001b[0m \u001b[0;32mif\u001b[0m \u001b[0mself\u001b[0m\u001b[0;34m.\u001b[0m\u001b[0m_sparse\u001b[0m \u001b[0;32melse\u001b[0m \u001b[0mself\u001b[0m\u001b[0;34m.\u001b[0m\u001b[0m_dense_predict\u001b[0m\u001b[0;34m\u001b[0m\u001b[0;34m\u001b[0m\u001b[0m\n\u001b[1;32m    438\u001b[0m         \u001b[0;32mreturn\u001b[0m \u001b[0mpredict\u001b[0m\u001b[0;34m(\u001b[0m\u001b[0mX\u001b[0m\u001b[0;34m)\u001b[0m\u001b[0;34m\u001b[0m\u001b[0;34m\u001b[0m\u001b[0m\n",
            "\u001b[0;32m/usr/local/lib/python3.11/dist-packages/sklearn/svm/_base.py\u001b[0m in \u001b[0;36m_validate_for_predict\u001b[0;34m(self, X)\u001b[0m\n\u001b[1;32m    612\u001b[0m \u001b[0;34m\u001b[0m\u001b[0m\n\u001b[1;32m    613\u001b[0m         \u001b[0;32mif\u001b[0m \u001b[0;32mnot\u001b[0m \u001b[0mcallable\u001b[0m\u001b[0;34m(\u001b[0m\u001b[0mself\u001b[0m\u001b[0;34m.\u001b[0m\u001b[0mkernel\u001b[0m\u001b[0;34m)\u001b[0m\u001b[0;34m:\u001b[0m\u001b[0;34m\u001b[0m\u001b[0;34m\u001b[0m\u001b[0m\n\u001b[0;32m--> 614\u001b[0;31m             X = validate_data(\n\u001b[0m\u001b[1;32m    615\u001b[0m                 \u001b[0mself\u001b[0m\u001b[0;34m,\u001b[0m\u001b[0;34m\u001b[0m\u001b[0;34m\u001b[0m\u001b[0m\n\u001b[1;32m    616\u001b[0m                 \u001b[0mX\u001b[0m\u001b[0;34m,\u001b[0m\u001b[0;34m\u001b[0m\u001b[0;34m\u001b[0m\u001b[0m\n",
            "\u001b[0;32m/usr/local/lib/python3.11/dist-packages/sklearn/utils/validation.py\u001b[0m in \u001b[0;36mvalidate_data\u001b[0;34m(_estimator, X, y, reset, validate_separately, skip_check_array, **check_params)\u001b[0m\n\u001b[1;32m   2963\u001b[0m \u001b[0;34m\u001b[0m\u001b[0m\n\u001b[1;32m   2964\u001b[0m     \u001b[0;32mif\u001b[0m \u001b[0;32mnot\u001b[0m \u001b[0mno_val_X\u001b[0m \u001b[0;32mand\u001b[0m \u001b[0mcheck_params\u001b[0m\u001b[0;34m.\u001b[0m\u001b[0mget\u001b[0m\u001b[0;34m(\u001b[0m\u001b[0;34m\"ensure_2d\"\u001b[0m\u001b[0;34m,\u001b[0m \u001b[0;32mTrue\u001b[0m\u001b[0;34m)\u001b[0m\u001b[0;34m:\u001b[0m\u001b[0;34m\u001b[0m\u001b[0;34m\u001b[0m\u001b[0m\n\u001b[0;32m-> 2965\u001b[0;31m         \u001b[0m_check_n_features\u001b[0m\u001b[0;34m(\u001b[0m\u001b[0m_estimator\u001b[0m\u001b[0;34m,\u001b[0m \u001b[0mX\u001b[0m\u001b[0;34m,\u001b[0m \u001b[0mreset\u001b[0m\u001b[0;34m=\u001b[0m\u001b[0mreset\u001b[0m\u001b[0;34m)\u001b[0m\u001b[0;34m\u001b[0m\u001b[0;34m\u001b[0m\u001b[0m\n\u001b[0m\u001b[1;32m   2966\u001b[0m \u001b[0;34m\u001b[0m\u001b[0m\n\u001b[1;32m   2967\u001b[0m     \u001b[0;32mreturn\u001b[0m \u001b[0mout\u001b[0m\u001b[0;34m\u001b[0m\u001b[0;34m\u001b[0m\u001b[0m\n",
            "\u001b[0;32m/usr/local/lib/python3.11/dist-packages/sklearn/utils/validation.py\u001b[0m in \u001b[0;36m_check_n_features\u001b[0;34m(estimator, X, reset)\u001b[0m\n\u001b[1;32m   2827\u001b[0m \u001b[0;34m\u001b[0m\u001b[0m\n\u001b[1;32m   2828\u001b[0m     \u001b[0;32mif\u001b[0m \u001b[0mn_features\u001b[0m \u001b[0;34m!=\u001b[0m \u001b[0mestimator\u001b[0m\u001b[0;34m.\u001b[0m\u001b[0mn_features_in_\u001b[0m\u001b[0;34m:\u001b[0m\u001b[0;34m\u001b[0m\u001b[0;34m\u001b[0m\u001b[0m\n\u001b[0;32m-> 2829\u001b[0;31m         raise ValueError(\n\u001b[0m\u001b[1;32m   2830\u001b[0m             \u001b[0;34mf\"X has {n_features} features, but {estimator.__class__.__name__} \"\u001b[0m\u001b[0;34m\u001b[0m\u001b[0;34m\u001b[0m\u001b[0m\n\u001b[1;32m   2831\u001b[0m             \u001b[0;34mf\"is expecting {estimator.n_features_in_} features as input.\"\u001b[0m\u001b[0;34m\u001b[0m\u001b[0;34m\u001b[0m\u001b[0m\n",
            "\u001b[0;31mValueError\u001b[0m: X has 340 features, but SVC is expecting 508 features as input."
          ]
        }
      ]
    },
    {
      "cell_type": "code",
      "source": [
        "print(\"X_train shape:\", K_train.shape)\n",
        "print(\"y_train shape:\", y_train.shape)\n",
        "print(\"X_val shape:\", K_val.shape)\n",
        "print(\"y_val shape:\", y_val.shape)\n"
      ],
      "metadata": {
        "colab": {
          "base_uri": "https://localhost:8080/"
        },
        "id": "5800BeRMr3UM",
        "outputId": "5b3bbadc-3b74-4bfb-a055-ce5d3d471983"
      },
      "execution_count": null,
      "outputs": [
        {
          "output_type": "stream",
          "name": "stdout",
          "text": [
            "X_train shape: (508, 508)\n",
            "y_train shape: (1500,)\n",
            "X_val shape: (340, 340)\n",
            "y_val shape: (1000,)\n"
          ]
        }
      ]
    },
    {
      "cell_type": "code",
      "source": [
        "print(\"train_kernel_matrix shape:\", K_train.shape)\n",
        "print(\"val_kernel_matrix shape:\", K_val.shape)\n"
      ],
      "metadata": {
        "colab": {
          "base_uri": "https://localhost:8080/"
        },
        "id": "YvwQK53tsDA8",
        "outputId": "81fc3851-a18b-4c7e-a247-ccef4d880a1c"
      },
      "execution_count": null,
      "outputs": [
        {
          "output_type": "stream",
          "name": "stdout",
          "text": [
            "train_kernel_matrix shape: (508, 508)\n",
            "val_kernel_matrix shape: (340, 340)\n"
          ]
        }
      ]
    },
    {
      "cell_type": "code",
      "source": [
        "# 計算 Kernel Matrix（只使用 label=1 的數據）\n",
        "# train_kernel_matrix_01 = compute_kernel_matrix(X_train_01)\n",
        "# val_kernel_matrix_01 = np.array([[np.dot(x1, x2) for x2 in X_train_01] for x1 in X_val_01])\n",
        "# test_kernel_matrix_01 = np.array([[np.dot(x1, x2) for x2 in X_train_01] for x1 in X_test_01])\n",
        "\n",
        "# print(f\"Train Kernel Matrix (label=1): {train_kernel_matrix_01.shape}\")\n",
        "# print(f\"Val Kernel Matrix (label=1): {val_kernel_matrix_01.shape}\")\n",
        "# print(f\"Test Kernel Matrix (label=1): {test_kernel_matrix_01.shape}\")"
      ],
      "metadata": {
        "colab": {
          "base_uri": "https://localhost:8080/"
        },
        "id": "JwNB2hnRKOWT",
        "outputId": "13527672-676e-4316-88e5-c7523b1fbd05"
      },
      "execution_count": null,
      "outputs": [
        {
          "output_type": "stream",
          "name": "stdout",
          "text": [
            "Train Kernel Matrix (label=1): (509, 509)\n",
            "Val Kernel Matrix (label=1): (340, 509)\n",
            "Test Kernel Matrix (label=1): (326, 509)\n"
          ]
        }
      ]
    },
    {
      "cell_type": "code",
      "source": [
        "from sklearn import svm\n",
        "from sklearn.metrics import accuracy_score\n",
        "\n",
        "# 訓練 Quantum SVM\n",
        "qsvm = svm.SVC(kernel=\"precomputed\")\n",
        "qsvm.fit(train_kernel_matrix_01, y_train_01)\n",
        "\n",
        "# 測試 QSVM 在驗證集\n",
        "preds_val_1 = qsvm.predict(val_kernel_matrix_01)\n",
        "accuracy_val_1 = accuracy_score(y_val_01, preds_val_1)\n",
        "print(f\"QSVM Validation Accuracy (label=01): {accuracy_val_1:.4f}\")\n",
        "\n",
        "# 測試 QSVM 在測試集\n",
        "preds_test_1 = qsvm.predict(test_kernel_matrix_01)\n",
        "accuracy_test_1 = accuracy_score(y_test_01, preds_test_1)\n",
        "print(f\"QSVM Test Accuracy (label=01): {accuracy_test_1:.4f}\")"
      ],
      "metadata": {
        "colab": {
          "base_uri": "https://localhost:8080/"
        },
        "id": "Cf6wM4_xKUXd",
        "outputId": "59c96ed4-96ba-4710-d03b-53b44899bb0a"
      },
      "execution_count": null,
      "outputs": [
        {
          "output_type": "stream",
          "name": "stdout",
          "text": [
            "QSVM Validation Accuracy (label=01): 0.4824\n",
            "QSVM Test Accuracy (label=01): 0.5153\n"
          ]
        }
      ]
    },
    {
      "cell_type": "code",
      "source": [
        "# 傳統 SVM（使用 RBF 核）\n",
        "classical_svm = svm.SVC(kernel=\"rbf\")\n",
        "classical_svm.fit(X_train_01, y_train_01)\n",
        "preds_classical = classical_svm.predict(X_test_01)\n",
        "val_preds_classical = classical_svm.predict(X_val_01)\n",
        "acc_classical = accuracy_score(y_test_01, preds_classical)\n",
        "val_classical = accuracy_score(y_val_01, val_preds_classical)\n",
        "\n",
        "print(f\"Classical SVM Accuracy: {val_classical:.4f}\")\n",
        "print(f\"Classical SVM Accuracy: {acc_classical:.4f}\")"
      ],
      "metadata": {
        "colab": {
          "base_uri": "https://localhost:8080/"
        },
        "id": "xUn2hVvtc_Ju",
        "outputId": "9ad9fd57-f6a5-4590-aadf-da569466a71e"
      },
      "execution_count": null,
      "outputs": [
        {
          "output_type": "stream",
          "name": "stdout",
          "text": [
            "Classical SVM Accuracy: 0.4353\n",
            "Classical SVM Accuracy: 0.5000\n"
          ]
        }
      ]
    },
    {
      "cell_type": "code",
      "source": [],
      "metadata": {
        "id": "KmdA0V5JdhF3"
      },
      "execution_count": null,
      "outputs": []
    }
  ]
}