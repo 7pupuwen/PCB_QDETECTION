{
 "cells": [
  {
   "cell_type": "markdown",
   "metadata": {
    "colab_type": "text",
    "id": "view-in-github"
   },
   "source": [
    "<a href=\"https://colab.research.google.com/github/7pupuwen/PCB_QDETECTION/blob/main/PCB_Detection_feature_data_pooling.ipynb\" target=\"_parent\"><img src=\"https://colab.research.google.com/assets/colab-badge.svg\" alt=\"Open In Colab\"/></a>"
   ]
  },
  {
   "cell_type": "code",
   "execution_count": 1,
   "metadata": {
    "colab": {
     "base_uri": "https://localhost:8080/"
    },
    "id": "_Q70o3GnsXKh",
    "outputId": "2460a47d-ad40-44d4-c97a-650b281b2bf6"
   },
   "outputs": [
    {
     "name": "stdout",
     "output_type": "stream",
     "text": [
      "train_labels.csv convert finish！\n",
      "                           image_name  class_id  x_center  y_center   width  \\\n",
      "0  light_01_missing_hole_01_1_256.jpg         2    0.4350    0.7008  0.0700   \n",
      "1  light_01_missing_hole_01_2_256.jpg         2    0.6367    0.0508  0.0667   \n",
      "2  light_01_missing_hole_01_2_256.jpg         2    0.7575    0.5333  0.0717   \n",
      "3  light_01_missing_hole_02_1_256.jpg         2    0.5633    0.2783  0.0667   \n",
      "4  light_01_missing_hole_02_1_256.jpg         2    0.3208    0.8733  0.0383   \n",
      "5  light_01_missing_hole_03_1_256.jpg         2    0.6258    0.5350  0.0483   \n",
      "6  light_01_missing_hole_03_1_256.jpg         2    0.0292    0.6317  0.0517   \n",
      "7  light_01_missing_hole_04_1_256.jpg         2    0.3808    0.8242  0.0483   \n",
      "8  light_01_missing_hole_04_2_256.jpg         2    0.3808    0.1575  0.0483   \n",
      "9  light_01_missing_hole_04_2_256.jpg         2    0.2600    0.4242  0.0600   \n",
      "\n",
      "   height  \n",
      "0  0.0550  \n",
      "1  0.0617  \n",
      "2  0.0600  \n",
      "3  0.0667  \n",
      "4  0.0567  \n",
      "5  0.0433  \n",
      "6  0.0367  \n",
      "7  0.0583  \n",
      "8  0.0583  \n",
      "9  0.0583  \n",
      "val_labels.csv convert finish！\n",
      "                           image_name  class_id  x_center  y_center   width  \\\n",
      "0  light_01_missing_hole_02_2_256.jpg         2    0.3208    0.2067  0.0383   \n",
      "1  light_01_missing_hole_03_2_256.jpg         2    0.3433    0.4783  0.0500   \n",
      "2  light_01_missing_hole_05_1_256.jpg         2    0.8742    0.3483  0.0550   \n",
      "3  light_01_missing_hole_05_1_256.jpg         2    0.3325    0.3517  0.0750   \n",
      "4  light_01_missing_hole_07_2_256.jpg         2    0.7617    0.0533  0.0567   \n",
      "5  light_01_missing_hole_07_2_256.jpg         2    0.4100    0.8042  0.0800   \n",
      "6  light_01_missing_hole_09_1_256.jpg         2    0.2017    0.5383  0.0600   \n",
      "7  light_01_missing_hole_10_3_256.jpg         2    0.6392    0.1167  0.0483   \n",
      "8  light_01_missing_hole_18_3_256.jpg         2    0.1575    0.9567  0.0583   \n",
      "9  light_01_missing_hole_18_3_256.jpg         2    0.7575    0.9042  0.0583   \n",
      "\n",
      "   height  \n",
      "0  0.0567  \n",
      "1  0.0467  \n",
      "2  0.0667  \n",
      "3  0.0800  \n",
      "4  0.0533  \n",
      "5  0.0817  \n",
      "6  0.0600  \n",
      "7  0.0500  \n",
      "8  0.0533  \n",
      "9  0.0517  \n",
      "test_labels.csv convert finish！\n",
      "                           image_name  class_id  x_center  y_center   width  \\\n",
      "0  light_01_missing_hole_02_3_256.jpg         2    0.5175    0.5383  0.0517   \n",
      "1  light_01_missing_hole_05_2_256.jpg         2    0.0517    0.8008  0.0400   \n",
      "2  light_01_missing_hole_05_2_256.jpg         2    0.6358    0.1142  0.0650   \n",
      "3  light_01_missing_hole_06_3_256.jpg         2    0.4567    0.2042  0.0567   \n",
      "4  light_01_missing_hole_06_3_256.jpg         2    0.3317    0.9658  0.0600   \n",
      "5  light_01_missing_hole_07_1_256.jpg         2    0.5608    0.2800  0.0683   \n",
      "6  light_01_missing_hole_08_2_256.jpg         2    0.7417    0.7708  0.0600   \n",
      "7  light_01_missing_hole_10_1_256.jpg         2    0.3783    0.8242  0.0567   \n",
      "8  light_01_missing_hole_10_1_256.jpg         2    0.9358    0.6858  0.0483   \n",
      "9  light_01_missing_hole_11_5_256.jpg         2    0.5142    0.4742  0.0583   \n",
      "\n",
      "   height  \n",
      "0  0.0533  \n",
      "1  0.0550  \n",
      "2  0.0683  \n",
      "3  0.0617  \n",
      "4  0.0650  \n",
      "5  0.0567  \n",
      "6  0.0683  \n",
      "7  0.0650  \n",
      "8  0.0583  \n",
      "9  0.0650  \n"
     ]
    }
   ],
   "source": [
    "import os\n",
    "import pandas as pd\n",
    "\n",
    "# Set the label files\n",
    "train_labels_path = \"C:/Users/wenwe/Desktop/Lab_QC/Wendy/pcb-defect-dataset/train/labels\"\n",
    "val_labels_path = \"C:/Users/wenwe/Desktop/Lab_QC/Wendy/pcb-defect-dataset/val/labels\"\n",
    "test_labels_path = \"C:/Users/wenwe/Desktop/Lab_QC/Wendy/pcb-defect-dataset/test/labels\"\n",
    "\n",
    "# Definition of convert label to csv\n",
    "def convert_labels_to_csv(labels_path, output_csv):\n",
    "    data = []\n",
    "\n",
    "    # read every .txt file\n",
    "    for file in os.listdir(labels_path):\n",
    "        if file.endswith(\".txt\"):\n",
    "            file_path = os.path.join(labels_path, file)\n",
    "            image_name = file.replace(\".txt\", \".jpg\")  # The file name corresponding to the image\n",
    "            with open(file_path, \"r\") as f:\n",
    "                lines = f.readlines()  #A .txt may have multiple lines of tags\n",
    "\n",
    "                for line in lines:\n",
    "                    values = line.strip().split()\n",
    "                    class_id = int(values[0])  # Defect category\n",
    "                    x_center, y_center, width, height = map(float, values[1:])  # Analyze numerical values\n",
    "\n",
    "                    # Save to DataFrame\n",
    "                    data.append([image_name, class_id, x_center, y_center, width, height])\n",
    "\n",
    "    # create DataFrame\n",
    "    df = pd.DataFrame(data, columns=[\"image_name\", \"class_id\", \"x_center\", \"y_center\", \"width\", \"height\"])\n",
    "\n",
    "    # Save as CSV\n",
    "    df.to_csv(output_csv, index=False)\n",
    "\n",
    "    print(f\"{output_csv} convert finish！\")\n",
    "    print(df.head(10))  # show the first 10 data\n",
    "\n",
    "# covert `train`、`val`、`test` labels\n",
    "convert_labels_to_csv(train_labels_path, \"train_labels.csv\")\n",
    "convert_labels_to_csv(val_labels_path, \"val_labels.csv\")\n",
    "convert_labels_to_csv(test_labels_path, \"test_labels.csv\")"
   ]
  },
  {
   "cell_type": "code",
   "execution_count": 43,
   "metadata": {
    "colab": {
     "base_uri": "https://localhost:8080/"
    },
    "id": "-gA_Gh4asuF_",
    "outputId": "8d6640d8-b8c4-4907-ab92-b442fa889acf"
   },
   "outputs": [
    {
     "name": "stdout",
     "output_type": "stream",
     "text": [
      "train_labels.csv processed, image data size: (6370, 64, 64), label data size: (6370,)\n",
      "val_labels.csv processed, image data size: (802, 64, 64), label data size: (802,)\n",
      "test_labels.csv processed, image data size: (829, 64, 64), label data size: (829,)\n"
     ]
    }
   ],
   "source": [
    "import os\n",
    "import cv2\n",
    "import numpy as np\n",
    "import pandas as pd\n",
    "\n",
    "#Set up image folder\n",
    "train_images_path = \"C:/Users/wenwe/Desktop/Lab_QC/Wendy/pcb-defect-dataset/train/images\"\n",
    "val_images_path = \"C:/Users/wenwe/Desktop/Lab_QC/Wendy/pcb-defect-dataset/val/images\"\n",
    "test_images_path = \"C:/Users/wenwe/Desktop/Lab_QC/Wendy/pcb-defect-dataset/test/images\"\n",
    "\n",
    "# Read tag CSV\n",
    "train_labels_csv = \"train_labels.csv\"\n",
    "val_labels_csv = \"val_labels.csv\"\n",
    "test_labels_csv = \"test_labels.csv\"\n",
    "\n",
    "# Define functions to read images and match tags\n",
    "def load_images_and_labels(images_path, labels_csv):\n",
    "    df = pd.read_csv(labels_csv)  # 讀取 CSV 標籤\n",
    "\n",
    "    # 合併相同 image_name，取出最常出現的 class_id（單一標籤）\n",
    "    df = df.groupby(\"image_name\")[\"class_id\"].agg(lambda x: x.value_counts().index[0]).reset_index()\n",
    "\n",
    "    X, y = [], []\n",
    "\n",
    "    for _, row in df.iterrows():\n",
    "        img_path = os.path.join(images_path, row[\"image_name\"])\n",
    "\n",
    "        if os.path.exists(img_path):\n",
    "            img = cv2.imread(img_path, cv2.IMREAD_GRAYSCALE)   # 灰階\n",
    "            img = cv2.resize(img, (64, 64)) / 255.0             # Resize + normalize\n",
    "            X.append(img)\n",
    "            y.append(row[\"class_id\"])  # 注意這裡只剩下唯一 class_id\n",
    "\n",
    "    # 轉成 NumPy\n",
    "    X = np.array(X)\n",
    "    y = np.array(y)\n",
    "\n",
    "    print(f\"{labels_csv} processed, image data size: {X.shape}, label data size: {y.shape}\")\n",
    "    return X, y\n",
    "\n",
    "# read `train`、`val`、`test` data\n",
    "X_train, y_train = load_images_and_labels(train_images_path, train_labels_csv)\n",
    "X_val, y_val = load_images_and_labels(val_images_path, val_labels_csv)\n",
    "X_test, y_test = load_images_and_labels(test_images_path, test_labels_csv)"
   ]
  },
  {
   "cell_type": "code",
   "execution_count": 49,
   "metadata": {},
   "outputs": [],
   "source": [
    "X_train = X_train[:3500]\n",
    "y_train = y_train[:3500]"
   ]
  },
  {
   "cell_type": "code",
   "execution_count": 51,
   "metadata": {
    "colab": {
     "base_uri": "https://localhost:8080/"
    },
    "id": "gdAmEmfJKFkC",
    "outputId": "e890a91c-a35a-4c90-c60b-cb503cb7a4bc"
   },
   "outputs": [
    {
     "name": "stdout",
     "output_type": "stream",
     "text": [
      "label=0 訓練數據數量: (612, 64, 64)\n",
      "label=0 訓練數據數量: (140, 64, 64)\n",
      "label=0 訓練數據數量: (131, 64, 64)\n",
      "訓練資料 label=1 數量: (568, 64, 64)\n",
      "驗證資料 label=1 數量: (130, 64, 64)\n",
      "測試資料 label=1 數量: (138, 64, 64)\n"
     ]
    }
   ],
   "source": [
    "# Choose label=0&1\n",
    "X_train_0 = X_train[y_train == 0]\n",
    "y_train_0 = y_train[y_train == 0]\n",
    "\n",
    "X_train_1 = X_train[y_train == 1]\n",
    "y_train_1 = y_train[y_train == 1]\n",
    "\n",
    "X_val_0 = X_val[y_val == 0]\n",
    "y_val_0 = y_val[y_val == 0]\n",
    "\n",
    "X_val_1 = X_val[y_val == 1]\n",
    "y_val_1 = y_val[y_val == 1]\n",
    "\n",
    "X_test_0 = X_test[y_test == 0]\n",
    "y_test_0 = y_test[y_test == 0]\n",
    "\n",
    "X_test_1 = X_test[y_test == 1]\n",
    "y_test_1 = y_test[y_test == 1]\n",
    "\n",
    "print(f\"label=0 訓練數據數量: {X_train_0.shape}\")\n",
    "print(f\"label=0 訓練數據數量: {X_val_0.shape}\")\n",
    "print(f\"label=0 訓練數據數量: {X_test_0.shape}\")\n",
    "\n",
    "print(f\"訓練資料 label=1 數量: {X_train_1.shape}\")\n",
    "print(f\"驗證資料 label=1 數量: {X_val_1.shape}\")\n",
    "print(f\"測試資料 label=1 數量: {X_test_1.shape}\")\n"
   ]
  },
  {
   "cell_type": "code",
   "execution_count": 61,
   "metadata": {},
   "outputs": [],
   "source": [
    "import numpy as np\n",
    "import pennylane as qml\n",
    "\n",
    "# 基本裝置設定（每個 patch 用 4 qubits）\n",
    "dev = qml.device(\"default.qubit\", wires=4, shots=None)\n",
    "\n",
    "@qml.qnode(dev)\n",
    "def quantum_kernel_with_pooling(x, theta_1=0.3, theta_2=0.6):\n",
    "    for i in range(4):\n",
    "        qml.RY(x[i] * np.pi, wires=i)\n",
    "        qml.Hadamard(wires=i)\n",
    "    qml.CNOT(wires=[0, 1])\n",
    "    qml.CNOT(wires=[2, 3])\n",
    "    qml.RY(theta_1, wires=1)\n",
    "    qml.RY(theta_2, wires=3)\n",
    "    return [\n",
    "        qml.expval(qml.PauliZ(0)),\n",
    "        qml.expval(qml.PauliX(0)),\n",
    "        qml.expval(qml.PauliZ(2)),\n",
    "        qml.expval(qml.PauliX(2)),\n",
    "    ]\n",
    "\n",
    "def quanvolution_with_pooling(image, theta_1=0.3, theta_2=0.6):\n",
    "    h, w = image.shape\n",
    "    q_image = np.zeros((h // 2, w // 2, 4))\n",
    "    for i in range(0, h, 2):\n",
    "        for j in range(0, w, 2):\n",
    "            patch = image[i:i+2, j:j+2].flatten()\n",
    "            q_image[i//2, j//2] = quantum_kernel_with_pooling(patch, theta_1, theta_2)\n",
    "    return q_image\n",
    "\n",
    "def qcnn_with_pooling(image, theta_layers):\n",
    "    for theta_1, theta_2 in theta_layers:\n",
    "        image = quanvolution_with_pooling(image, theta_1, theta_2)\n",
    "        h, w, c = image.shape\n",
    "        image = image.reshape(h, w * c)  # 變成下一層輸入格式\n",
    "    return image.flatten()"
   ]
  },
  {
   "cell_type": "code",
   "execution_count": 58,
   "metadata": {},
   "outputs": [
    {
     "name": "stdout",
     "output_type": "stream",
     "text": [
      "特徵維度： (64,)\n",
      "特徵向量： [ 9.87864420e-01 -6.09228990e-02  8.49576784e-02  8.89649551e-01\n",
      "  1.38362398e-01 -5.14649853e-01  3.20886728e-01  6.73640810e-01\n",
      "  1.04083524e-01 -9.10775496e-01  2.91744244e-01 -7.31678987e-01\n",
      "  6.51040668e-03 -9.82793384e-01  9.89269849e-01 -1.37641723e-01\n",
      "  9.59293091e-01 -9.21522256e-02  6.87107687e-01  7.14802083e-01\n",
      "  3.82721143e-03 -9.89410820e-01  9.98662001e-01 -4.03202787e-02\n",
      "  4.58622766e-02 -8.59562835e-01  6.68103233e-01  6.21106635e-02\n",
      "  9.92852036e-01 -1.17444741e-01  5.96585210e-01 -6.51284933e-02\n",
      "  8.76081243e-01 -4.73739406e-01  3.18207884e-01 -9.34802102e-01\n",
      "  4.44196225e-01  5.85156041e-02  6.45564972e-01 -4.82839413e-01\n",
      "  9.99567894e-01 -6.36225967e-03  3.25772238e-01 -6.77286654e-01\n",
      "  8.97100350e-01 -4.37859186e-01  1.78980385e-01 -5.27480457e-01\n",
      "  3.67114631e-01 -2.91293516e-01  1.42555593e-02 -9.66272512e-01\n",
      "  7.68626862e-01  3.17057986e-01  2.33618322e-01 -8.90863614e-01\n",
      "  7.77303330e-01  3.58183593e-01  1.28367003e-01 -8.64446266e-01\n",
      "  8.60328450e-01  2.32950416e-01  5.87212374e-05 -9.99863892e-01]\n"
     ]
    }
   ],
   "source": [
    "# 測試\n",
    "img = np.random.rand(8, 8)\n",
    "theta_layers = [(0.3, 0.6), (0.8, 0.4)]  # 二層\n",
    "features = qcnn_with_pooling(img, theta_layers)\n",
    "print(\"特徵維度：\", features.shape)\n",
    "print(\"特徵向量：\", features)"
   ]
  },
  {
   "cell_type": "markdown",
   "metadata": {
    "jp-MarkdownHeadingCollapsed": true
   },
   "source": [
    "# ｔｅｓｔ　"
   ]
  },
  {
   "cell_type": "code",
   "execution_count": 12,
   "metadata": {
    "id": "7wxBGd0YwrXY"
   },
   "outputs": [],
   "source": [
    "import pennylane as qml\n",
    "import numpy as np\n",
    "\n",
    "n_qubits = 4\n",
    "dev = qml.device(\"default.qubit\", wires=n_qubits, shots=1000)  # 多次測量以模擬現實\n",
    "\n",
    "@qml.qnode(dev)\n",
    "def create_quantum_kernel_with_param_pooling():\n",
    "    @qml.qnode(dev)\n",
    "    def circuit(x, theta_1, theta_2):\n",
    "        for i in range(n_qubits):\n",
    "            qml.RY(x[i] * np.pi, wires=i)\n",
    "            qml.Hadamard(wires=i)\n",
    "\n",
    "        qml.CNOT(wires=[0, 1])\n",
    "        qml.CNOT(wires=[2, 3])\n",
    "        qml.RY(theta_1, wires=1)\n",
    "        qml.RY(theta_2, wires=3)\n",
    "\n",
    "        return [\n",
    "            qml.expval(qml.PauliZ(0)),\n",
    "            qml.expval(qml.PauliX(0)),\n",
    "            qml.expval(qml.PauliZ(2)),\n",
    "            qml.expval(qml.PauliX(2)),\n",
    "        ]\n",
    "    return circuit\n",
    "\n",
    "# x_test = np.random.rand(4)  # 產生 4 個隨機數\n",
    "# qml.draw_mpl(quantum_kernel)(x_test)"
   ]
  },
  {
   "cell_type": "code",
   "execution_count": 13,
   "metadata": {
    "id": "HUgTzit7wxCB"
   },
   "outputs": [],
   "source": [
    "def quanvolution_with_param_pooling(image, theta_values):\n",
    "    output_shape = (image.shape[0] // 2, image.shape[1] // 2, 4)\n",
    "    q_image = np.zeros(output_shape)\n",
    "\n",
    "    kernel_circuit = create_quantum_kernel_with_param_pooling()\n",
    "\n",
    "    for i in range(0, image.shape[0], 2):\n",
    "        for j in range(0, image.shape[1], 2):\n",
    "            patch = image[i:i+2, j:j+2].flatten()\n",
    "            q_features = kernel_circuit(patch, theta_values[0], theta_values[1])\n",
    "            q_image[i // 2, j // 2] = q_features\n",
    "\n",
    "    return q_image.flatten()"
   ]
  },
  {
   "cell_type": "code",
   "execution_count": 14,
   "metadata": {
    "id": "CphfTof8kHwu"
   },
   "outputs": [],
   "source": [
    "def qcnn_param(image, theta_layers):\n",
    "    for theta in theta_layers:\n",
    "        image = image.reshape(int(np.sqrt(len(image))), -1)\n",
    "        image = quanvolution_with_param_pooling(image, theta)\n",
    "    return image"
   ]
  },
  {
   "cell_type": "code",
   "execution_count": 15,
   "metadata": {
    "colab": {
     "base_uri": "https://localhost:8080/",
     "height": 356
    },
    "id": "SbIW9QXikVwd",
    "outputId": "998dba86-ff03-4f96-bb79-74c4644969bb"
   },
   "outputs": [
    {
     "ename": "QuantumFunctionError",
     "evalue": "A quantum function must return either a single measurement, or a nonempty sequence of measurements.",
     "output_type": "error",
     "traceback": [
      "\u001b[0;31m---------------------------------------------------------------------------\u001b[0m",
      "\u001b[0;31mQuantumFunctionError\u001b[0m                      Traceback (most recent call last)",
      "\u001b[0;32m<ipython-input-15-e8a188483cb6>\u001b[0m in \u001b[0;36m<cell line: 0>\u001b[0;34m()\u001b[0m\n\u001b[1;32m      3\u001b[0m \u001b[0msample_image\u001b[0m \u001b[0;34m=\u001b[0m \u001b[0mnp\u001b[0m\u001b[0;34m.\u001b[0m\u001b[0mrandom\u001b[0m\u001b[0;34m.\u001b[0m\u001b[0mrand\u001b[0m\u001b[0;34m(\u001b[0m\u001b[0;36m8\u001b[0m\u001b[0;34m,\u001b[0m \u001b[0;36m8\u001b[0m\u001b[0;34m)\u001b[0m\u001b[0;34m\u001b[0m\u001b[0;34m\u001b[0m\u001b[0m\n\u001b[1;32m      4\u001b[0m \u001b[0mtheta_layers\u001b[0m \u001b[0;34m=\u001b[0m \u001b[0;34m[\u001b[0m\u001b[0;34m[\u001b[0m\u001b[0;36m0.3\u001b[0m\u001b[0;34m,\u001b[0m \u001b[0;36m0.6\u001b[0m\u001b[0;34m]\u001b[0m\u001b[0;34m,\u001b[0m \u001b[0;34m[\u001b[0m\u001b[0;36m0.8\u001b[0m\u001b[0;34m,\u001b[0m \u001b[0;36m0.4\u001b[0m\u001b[0;34m]\u001b[0m\u001b[0;34m]\u001b[0m  \u001b[0;31m# 每層的池化參數\u001b[0m\u001b[0;34m\u001b[0m\u001b[0;34m\u001b[0m\u001b[0m\n\u001b[0;32m----> 5\u001b[0;31m \u001b[0mfeatures\u001b[0m \u001b[0;34m=\u001b[0m \u001b[0mqcnn_param\u001b[0m\u001b[0;34m(\u001b[0m\u001b[0msample_image\u001b[0m\u001b[0;34m,\u001b[0m \u001b[0mtheta_layers\u001b[0m\u001b[0;34m)\u001b[0m\u001b[0;34m\u001b[0m\u001b[0;34m\u001b[0m\u001b[0m\n\u001b[0m\u001b[1;32m      6\u001b[0m \u001b[0;34m\u001b[0m\u001b[0m\n\u001b[1;32m      7\u001b[0m \u001b[0mprint\u001b[0m\u001b[0;34m(\u001b[0m\u001b[0;34m\"最終特徵維度：\"\u001b[0m\u001b[0;34m,\u001b[0m \u001b[0mfeatures\u001b[0m\u001b[0;34m.\u001b[0m\u001b[0mshape\u001b[0m\u001b[0;34m)\u001b[0m\u001b[0;34m\u001b[0m\u001b[0;34m\u001b[0m\u001b[0m\n",
      "\u001b[0;32m<ipython-input-14-6243f2bc2e01>\u001b[0m in \u001b[0;36mqcnn_param\u001b[0;34m(image, theta_layers)\u001b[0m\n\u001b[1;32m      2\u001b[0m     \u001b[0;32mfor\u001b[0m \u001b[0mtheta\u001b[0m \u001b[0;32min\u001b[0m \u001b[0mtheta_layers\u001b[0m\u001b[0;34m:\u001b[0m\u001b[0;34m\u001b[0m\u001b[0;34m\u001b[0m\u001b[0m\n\u001b[1;32m      3\u001b[0m         \u001b[0mimage\u001b[0m \u001b[0;34m=\u001b[0m \u001b[0mimage\u001b[0m\u001b[0;34m.\u001b[0m\u001b[0mreshape\u001b[0m\u001b[0;34m(\u001b[0m\u001b[0mint\u001b[0m\u001b[0;34m(\u001b[0m\u001b[0mnp\u001b[0m\u001b[0;34m.\u001b[0m\u001b[0msqrt\u001b[0m\u001b[0;34m(\u001b[0m\u001b[0mlen\u001b[0m\u001b[0;34m(\u001b[0m\u001b[0mimage\u001b[0m\u001b[0;34m)\u001b[0m\u001b[0;34m)\u001b[0m\u001b[0;34m)\u001b[0m\u001b[0;34m,\u001b[0m \u001b[0;34m-\u001b[0m\u001b[0;36m1\u001b[0m\u001b[0;34m)\u001b[0m\u001b[0;34m\u001b[0m\u001b[0;34m\u001b[0m\u001b[0m\n\u001b[0;32m----> 4\u001b[0;31m         \u001b[0mimage\u001b[0m \u001b[0;34m=\u001b[0m \u001b[0mquanvolution_with_param_pooling\u001b[0m\u001b[0;34m(\u001b[0m\u001b[0mimage\u001b[0m\u001b[0;34m,\u001b[0m \u001b[0mtheta\u001b[0m\u001b[0;34m)\u001b[0m\u001b[0;34m\u001b[0m\u001b[0;34m\u001b[0m\u001b[0m\n\u001b[0m\u001b[1;32m      5\u001b[0m     \u001b[0;32mreturn\u001b[0m \u001b[0mimage\u001b[0m\u001b[0;34m\u001b[0m\u001b[0;34m\u001b[0m\u001b[0m\n",
      "\u001b[0;32m<ipython-input-13-848f55f7960b>\u001b[0m in \u001b[0;36mquanvolution_with_param_pooling\u001b[0;34m(image, theta_values)\u001b[0m\n\u001b[1;32m      3\u001b[0m     \u001b[0mq_image\u001b[0m \u001b[0;34m=\u001b[0m \u001b[0mnp\u001b[0m\u001b[0;34m.\u001b[0m\u001b[0mzeros\u001b[0m\u001b[0;34m(\u001b[0m\u001b[0moutput_shape\u001b[0m\u001b[0;34m)\u001b[0m\u001b[0;34m\u001b[0m\u001b[0;34m\u001b[0m\u001b[0m\n\u001b[1;32m      4\u001b[0m \u001b[0;34m\u001b[0m\u001b[0m\n\u001b[0;32m----> 5\u001b[0;31m     \u001b[0mkernel_circuit\u001b[0m \u001b[0;34m=\u001b[0m \u001b[0mcreate_quantum_kernel_with_param_pooling\u001b[0m\u001b[0;34m(\u001b[0m\u001b[0;34m)\u001b[0m\u001b[0;34m\u001b[0m\u001b[0;34m\u001b[0m\u001b[0m\n\u001b[0m\u001b[1;32m      6\u001b[0m \u001b[0;34m\u001b[0m\u001b[0m\n\u001b[1;32m      7\u001b[0m     \u001b[0;32mfor\u001b[0m \u001b[0mi\u001b[0m \u001b[0;32min\u001b[0m \u001b[0mrange\u001b[0m\u001b[0;34m(\u001b[0m\u001b[0;36m0\u001b[0m\u001b[0;34m,\u001b[0m \u001b[0mimage\u001b[0m\u001b[0;34m.\u001b[0m\u001b[0mshape\u001b[0m\u001b[0;34m[\u001b[0m\u001b[0;36m0\u001b[0m\u001b[0;34m]\u001b[0m\u001b[0;34m,\u001b[0m \u001b[0;36m2\u001b[0m\u001b[0;34m)\u001b[0m\u001b[0;34m:\u001b[0m\u001b[0;34m\u001b[0m\u001b[0;34m\u001b[0m\u001b[0m\n",
      "\u001b[0;32m/usr/local/lib/python3.11/dist-packages/pennylane/workflow/qnode.py\u001b[0m in \u001b[0;36m__call__\u001b[0;34m(self, *args, **kwargs)\u001b[0m\n\u001b[1;32m    903\u001b[0m         \u001b[0;32mif\u001b[0m \u001b[0mqml\u001b[0m\u001b[0;34m.\u001b[0m\u001b[0mcapture\u001b[0m\u001b[0;34m.\u001b[0m\u001b[0menabled\u001b[0m\u001b[0;34m(\u001b[0m\u001b[0;34m)\u001b[0m\u001b[0;34m:\u001b[0m\u001b[0;34m\u001b[0m\u001b[0;34m\u001b[0m\u001b[0m\n\u001b[1;32m    904\u001b[0m             \u001b[0;32mreturn\u001b[0m \u001b[0mcapture_qnode\u001b[0m\u001b[0;34m(\u001b[0m\u001b[0mself\u001b[0m\u001b[0;34m,\u001b[0m \u001b[0;34m*\u001b[0m\u001b[0margs\u001b[0m\u001b[0;34m,\u001b[0m \u001b[0;34m**\u001b[0m\u001b[0mkwargs\u001b[0m\u001b[0;34m)\u001b[0m\u001b[0;34m\u001b[0m\u001b[0;34m\u001b[0m\u001b[0m\n\u001b[0;32m--> 905\u001b[0;31m         \u001b[0;32mreturn\u001b[0m \u001b[0mself\u001b[0m\u001b[0;34m.\u001b[0m\u001b[0m_impl_call\u001b[0m\u001b[0;34m(\u001b[0m\u001b[0;34m*\u001b[0m\u001b[0margs\u001b[0m\u001b[0;34m,\u001b[0m \u001b[0;34m**\u001b[0m\u001b[0mkwargs\u001b[0m\u001b[0;34m)\u001b[0m\u001b[0;34m\u001b[0m\u001b[0;34m\u001b[0m\u001b[0m\n\u001b[0m\u001b[1;32m    906\u001b[0m \u001b[0;34m\u001b[0m\u001b[0m\n\u001b[1;32m    907\u001b[0m \u001b[0;34m\u001b[0m\u001b[0m\n",
      "\u001b[0;32m/usr/local/lib/python3.11/dist-packages/pennylane/workflow/qnode.py\u001b[0m in \u001b[0;36m_impl_call\u001b[0;34m(self, *args, **kwargs)\u001b[0m\n\u001b[1;32m    866\u001b[0m \u001b[0;34m\u001b[0m\u001b[0m\n\u001b[1;32m    867\u001b[0m         \u001b[0;31m# construct the tape\u001b[0m\u001b[0;34m\u001b[0m\u001b[0;34m\u001b[0m\u001b[0m\n\u001b[0;32m--> 868\u001b[0;31m         \u001b[0mtape\u001b[0m \u001b[0;34m=\u001b[0m \u001b[0mself\u001b[0m\u001b[0;34m.\u001b[0m\u001b[0mconstruct\u001b[0m\u001b[0;34m(\u001b[0m\u001b[0margs\u001b[0m\u001b[0;34m,\u001b[0m \u001b[0mkwargs\u001b[0m\u001b[0;34m)\u001b[0m\u001b[0;34m\u001b[0m\u001b[0;34m\u001b[0m\u001b[0m\n\u001b[0m\u001b[1;32m    869\u001b[0m \u001b[0;34m\u001b[0m\u001b[0m\n\u001b[1;32m    870\u001b[0m         \u001b[0;32mif\u001b[0m \u001b[0mself\u001b[0m\u001b[0;34m.\u001b[0m\u001b[0minterface\u001b[0m \u001b[0;34m==\u001b[0m \u001b[0;34m\"auto\"\u001b[0m\u001b[0;34m:\u001b[0m\u001b[0;34m\u001b[0m\u001b[0;34m\u001b[0m\u001b[0m\n",
      "\u001b[0;32m/usr/local/lib/python3.11/dist-packages/pennylane/logging/decorators.py\u001b[0m in \u001b[0;36mwrapper_entry\u001b[0;34m(*args, **kwargs)\u001b[0m\n\u001b[1;32m     59\u001b[0m                 \u001b[0;34m**\u001b[0m\u001b[0m_debug_log_kwargs\u001b[0m\u001b[0;34m,\u001b[0m\u001b[0;34m\u001b[0m\u001b[0;34m\u001b[0m\u001b[0m\n\u001b[1;32m     60\u001b[0m             )\n\u001b[0;32m---> 61\u001b[0;31m         \u001b[0;32mreturn\u001b[0m \u001b[0mfunc\u001b[0m\u001b[0;34m(\u001b[0m\u001b[0;34m*\u001b[0m\u001b[0margs\u001b[0m\u001b[0;34m,\u001b[0m \u001b[0;34m**\u001b[0m\u001b[0mkwargs\u001b[0m\u001b[0;34m)\u001b[0m\u001b[0;34m\u001b[0m\u001b[0;34m\u001b[0m\u001b[0m\n\u001b[0m\u001b[1;32m     62\u001b[0m \u001b[0;34m\u001b[0m\u001b[0m\n\u001b[1;32m     63\u001b[0m     \u001b[0;34m@\u001b[0m\u001b[0mwraps\u001b[0m\u001b[0;34m(\u001b[0m\u001b[0mfunc\u001b[0m\u001b[0;34m)\u001b[0m\u001b[0;34m\u001b[0m\u001b[0;34m\u001b[0m\u001b[0m\n",
      "\u001b[0;32m/usr/local/lib/python3.11/dist-packages/pennylane/workflow/qnode.py\u001b[0m in \u001b[0;36mconstruct\u001b[0;34m(self, args, kwargs)\u001b[0m\n\u001b[1;32m    859\u001b[0m         \u001b[0mtape\u001b[0m\u001b[0;34m.\u001b[0m\u001b[0mtrainable_params\u001b[0m \u001b[0;34m=\u001b[0m \u001b[0mqml\u001b[0m\u001b[0;34m.\u001b[0m\u001b[0mmath\u001b[0m\u001b[0;34m.\u001b[0m\u001b[0mget_trainable_indices\u001b[0m\u001b[0;34m(\u001b[0m\u001b[0mparams\u001b[0m\u001b[0;34m)\u001b[0m\u001b[0;34m\u001b[0m\u001b[0;34m\u001b[0m\u001b[0m\n\u001b[1;32m    860\u001b[0m \u001b[0;34m\u001b[0m\u001b[0m\n\u001b[0;32m--> 861\u001b[0;31m         \u001b[0m_validate_qfunc_output\u001b[0m\u001b[0;34m(\u001b[0m\u001b[0mself\u001b[0m\u001b[0;34m.\u001b[0m\u001b[0m_qfunc_output\u001b[0m\u001b[0;34m,\u001b[0m \u001b[0mtape\u001b[0m\u001b[0;34m.\u001b[0m\u001b[0mmeasurements\u001b[0m\u001b[0;34m)\u001b[0m\u001b[0;34m\u001b[0m\u001b[0;34m\u001b[0m\u001b[0m\n\u001b[0m\u001b[1;32m    862\u001b[0m         \u001b[0mself\u001b[0m\u001b[0;34m.\u001b[0m\u001b[0m_tape\u001b[0m \u001b[0;34m=\u001b[0m \u001b[0mtape\u001b[0m\u001b[0;34m\u001b[0m\u001b[0;34m\u001b[0m\u001b[0m\n\u001b[1;32m    863\u001b[0m         \u001b[0;32mreturn\u001b[0m \u001b[0mtape\u001b[0m\u001b[0;34m\u001b[0m\u001b[0;34m\u001b[0m\u001b[0m\n",
      "\u001b[0;32m/usr/local/lib/python3.11/dist-packages/pennylane/workflow/qnode.py\u001b[0m in \u001b[0;36m_validate_qfunc_output\u001b[0;34m(qfunc_output, measurements)\u001b[0m\n\u001b[1;32m    162\u001b[0m         \u001b[0misinstance\u001b[0m\u001b[0;34m(\u001b[0m\u001b[0mm\u001b[0m\u001b[0;34m,\u001b[0m \u001b[0mqml\u001b[0m\u001b[0;34m.\u001b[0m\u001b[0mmeasurements\u001b[0m\u001b[0;34m.\u001b[0m\u001b[0mMeasurementProcess\u001b[0m\u001b[0;34m)\u001b[0m \u001b[0;32mfor\u001b[0m \u001b[0mm\u001b[0m \u001b[0;32min\u001b[0m \u001b[0mmeasurement_processes\u001b[0m\u001b[0;34m\u001b[0m\u001b[0;34m\u001b[0m\u001b[0m\n\u001b[1;32m    163\u001b[0m     ):\n\u001b[0;32m--> 164\u001b[0;31m         raise qml.QuantumFunctionError(\n\u001b[0m\u001b[1;32m    165\u001b[0m             \u001b[0;34m\"A quantum function must return either a single measurement, \"\u001b[0m\u001b[0;34m\u001b[0m\u001b[0;34m\u001b[0m\u001b[0m\n\u001b[1;32m    166\u001b[0m             \u001b[0;34m\"or a nonempty sequence of measurements.\"\u001b[0m\u001b[0;34m\u001b[0m\u001b[0;34m\u001b[0m\u001b[0m\n",
      "\u001b[0;31mQuantumFunctionError\u001b[0m: A quantum function must return either a single measurement, or a nonempty sequence of measurements."
     ]
    }
   ],
   "source": [
    "import numpy as np\n",
    "\n",
    "sample_image = np.random.rand(8, 8)\n",
    "theta_layers = [[0.3, 0.6], [0.8, 0.4]]  # 每層的池化參數\n",
    "features = qcnn_param(sample_image, theta_layers)\n",
    "\n",
    "print(\"最終特徵維度：\", features.shape)\n",
    "print(\"量子特徵向量：\", features)"
   ]
  },
  {
   "cell_type": "markdown",
   "metadata": {},
   "source": [
    "# Data qcnn"
   ]
  },
  {
   "cell_type": "code",
   "execution_count": 63,
   "metadata": {},
   "outputs": [],
   "source": [
    "theta_layers = [(0.3, 0.6), (0.8, 0.4)]"
   ]
  },
  {
   "cell_type": "code",
   "execution_count": 72,
   "metadata": {
    "colab": {
     "base_uri": "https://localhost:8080/"
    },
    "id": "CSJERG6FPdwr",
    "outputId": "cc20b632-9777-40c1-85bd-d231c399936b"
   },
   "outputs": [
    {
     "name": "stdout",
     "output_type": "stream",
     "text": [
      " X_train_0 shape: (612, 4096)\n",
      " X_val_0 shape: (140, 4096)\n",
      "X_test_0 shape: (131, 4096)\n"
     ]
    }
   ],
   "source": [
    "X_train_0 = np.array([qcnn_with_pooling(img, theta_layers) for img in X_train_0])\n",
    "X_val_0 = np.array([qcnn_with_pooling(img, theta_layers) for img in X_val_0])\n",
    "X_test_0 = np.array([qcnn_with_pooling(img, theta_layers) for img in X_test_0])\n",
    "\n",
    "print(\" X_train_0 shape:\", X_train_0.shape)  # (84, 特徵數)\n",
    "print(\" X_val_0 shape:\", X_val_0.shape)      # (88, 特徵數)\n",
    "print(\"X_test_0 shape:\", X_test_0.shape)    # (79, 特徵數)"
   ]
  },
  {
   "cell_type": "code",
   "execution_count": 73,
   "metadata": {
    "colab": {
     "base_uri": "https://localhost:8080/"
    },
    "id": "Er6zzd8gLKDd",
    "outputId": "da83f23b-3670-43af-b242-0b50465f747b"
   },
   "outputs": [
    {
     "name": "stdout",
     "output_type": "stream",
     "text": [
      " X_train_1 shape: (568, 4096)\n",
      " X_val_1 shape: (130, 4096)\n",
      "X_test_1 shape: (138, 4096)\n"
     ]
    }
   ],
   "source": [
    "X_train_1 = np.array([qcnn_with_pooling(img, theta_layers) for img in X_train_1])\n",
    "X_val_1 = np.array([qcnn_with_pooling(img, theta_layers) for img in X_val_1])\n",
    "X_test_1 = np.array([qcnn_with_pooling(img, theta_layers) for img in X_test_1])\n",
    "\n",
    "print(\" X_train_1 shape:\", X_train_1.shape)  # (84, 特徵數)\n",
    "print(\" X_val_1 shape:\", X_val_1.shape)      # (82, 特徵數)\n",
    "print(\"X_test_1 shape:\", X_test_1.shape)    # (84, 特徵數)"
   ]
  },
  {
   "cell_type": "code",
   "execution_count": 76,
   "metadata": {
    "colab": {
     "base_uri": "https://localhost:8080/"
    },
    "id": "Mmyc2JbFU8i-",
    "outputId": "edc49e79-be87-435f-a999-e0898df17738"
   },
   "outputs": [
    {
     "name": "stdout",
     "output_type": "stream",
     "text": [
      "合併後的訓練數據: (1180, 4096)\n",
      "合併後的標籤數據: (1180,)\n",
      "合併後的訓練數據: (270, 4096)\n",
      "合併後的標籤數據: (270,)\n",
      "合併後的訓練數據: (269, 4096)\n",
      "合併後的標籤數據: (269,)\n"
     ]
    }
   ],
   "source": [
    "# 合併 label=0 和 label=1 的量子特徵數據\n",
    "X_train_01 = np.vstack([X_train_0, X_train_1])\n",
    "y_train_01 = np.hstack([y_train_0, y_train_1])\n",
    "\n",
    "print(f\"合併後的訓練數據: {X_train_01.shape}\")\n",
    "print(f\"合併後的標籤數據: {y_train_01.shape}\")\n",
    "\n",
    "X_val_01 = np.vstack([X_val_0, X_val_1])\n",
    "y_val_01 = np.hstack([y_val_0, y_val_1])\n",
    "\n",
    "print(f\"合併後的訓練數據: {X_val_01.shape}\")\n",
    "print(f\"合併後的標籤數據: {y_val_01.shape}\")\n",
    "\n",
    "X_test_01 = np.vstack([X_test_0, X_test_1])\n",
    "y_test_01 = np.hstack([y_test_0, y_test_1])\n",
    "\n",
    "print(f\"合併後的訓練數據: {X_test_01.shape}\")\n",
    "print(f\"合併後的標籤數據: {y_test_01.shape}\")"
   ]
  },
  {
   "cell_type": "code",
   "execution_count": 78,
   "metadata": {
    "id": "KUR_wIgjan2T"
   },
   "outputs": [],
   "source": [
    "np.save(\"qcnn_features_X_train_01p.npy\", X_train_01)\n",
    "np.save(\"qcnn_labels_y_train_01p.npy\", y_train_01)\n",
    "\n",
    "np.save(\"qcnn_features_X_val_01p.npy\", X_val_01)\n",
    "np.save(\"qcnn_labels_y_val_01p.npy\", y_val_01)\n",
    "\n",
    "np.save(\"qcnn_features_X_test_01p.npy\", X_test_01)\n",
    "np.save(\"qcnn_labels_y_test_01p.npy\", y_test_01)"
   ]
  },
  {
   "cell_type": "code",
   "execution_count": null,
   "metadata": {},
   "outputs": [],
   "source": []
  }
 ],
 "metadata": {
  "accelerator": "GPU",
  "colab": {
   "gpuType": "T4",
   "include_colab_link": true,
   "provenance": []
  },
  "kernelspec": {
   "display_name": "Python [conda env:base] *",
   "language": "python",
   "name": "conda-base-py"
  },
  "language_info": {
   "codemirror_mode": {
    "name": "ipython",
    "version": 3
   },
   "file_extension": ".py",
   "mimetype": "text/x-python",
   "name": "python",
   "nbconvert_exporter": "python",
   "pygments_lexer": "ipython3",
   "version": "3.12.7"
  }
 },
 "nbformat": 4,
 "nbformat_minor": 4
}
