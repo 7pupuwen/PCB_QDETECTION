{
  "nbformat": 4,
  "nbformat_minor": 0,
  "metadata": {
    "colab": {
      "provenance": [],
      "gpuType": "T4",
      "include_colab_link": true
    },
    "kernelspec": {
      "name": "python3",
      "display_name": "Python 3"
    },
    "language_info": {
      "name": "python"
    },
    "accelerator": "GPU"
  },
  "cells": [
    {
      "cell_type": "markdown",
      "metadata": {
        "id": "view-in-github",
        "colab_type": "text"
      },
      "source": [
        "<a href=\"https://colab.research.google.com/github/7pupuwen/PCB_QDETECTION/blob/main/PCB_Detection_5.ipynb\" target=\"_parent\"><img src=\"https://colab.research.google.com/assets/colab-badge.svg\" alt=\"Open In Colab\"/></a>"
      ]
    },
    {
      "cell_type": "code",
      "execution_count": 1,
      "metadata": {
        "id": "X68hOa5RsQgo",
        "outputId": "b1e83249-c4a1-44ab-b093-5bc9fdd05e1d",
        "colab": {
          "base_uri": "https://localhost:8080/"
        }
      },
      "outputs": [
        {
          "output_type": "stream",
          "name": "stdout",
          "text": [
            "Dataset URL: https://www.kaggle.com/datasets/norbertelter/pcb-defect-dataset\n",
            "License(s): unknown\n"
          ]
        }
      ],
      "source": [
        "!kaggle datasets download -d norbertelter/pcb-defect-dataset -q\n",
        "!unzip -q pcb-defect-dataset.zip -d pcb_data"
      ]
    },
    {
      "cell_type": "code",
      "source": [
        "! pip install pennylane -q"
      ],
      "metadata": {
        "id": "obM8w9kTsVMW",
        "outputId": "a5a3c0ff-2286-438f-82cd-92ae2bbc2fd7",
        "colab": {
          "base_uri": "https://localhost:8080/"
        }
      },
      "execution_count": 2,
      "outputs": [
        {
          "output_type": "stream",
          "name": "stdout",
          "text": [
            "\u001b[2K     \u001b[90m━━━━━━━━━━━━━━━━━━━━━━━━━━━━━━━━━━━━━━━━\u001b[0m \u001b[32m56.1/56.1 kB\u001b[0m \u001b[31m4.5 MB/s\u001b[0m eta \u001b[36m0:00:00\u001b[0m\n",
            "\u001b[2K   \u001b[90m━━━━━━━━━━━━━━━━━━━━━━━━━━━━━━━━━━━━━━━━\u001b[0m \u001b[32m2.0/2.0 MB\u001b[0m \u001b[31m47.0 MB/s\u001b[0m eta \u001b[36m0:00:00\u001b[0m\n",
            "\u001b[2K   \u001b[90m━━━━━━━━━━━━━━━━━━━━━━━━━━━━━━━━━━━━━━━━\u001b[0m \u001b[32m930.0/930.0 kB\u001b[0m \u001b[31m60.9 MB/s\u001b[0m eta \u001b[36m0:00:00\u001b[0m\n",
            "\u001b[2K   \u001b[90m━━━━━━━━━━━━━━━━━━━━━━━━━━━━━━━━━━━━━━━━\u001b[0m \u001b[32m2.4/2.4 MB\u001b[0m \u001b[31m80.8 MB/s\u001b[0m eta \u001b[36m0:00:00\u001b[0m\n",
            "\u001b[2K   \u001b[90m━━━━━━━━━━━━━━━━━━━━━━━━━━━━━━━━━━━━━━━━\u001b[0m \u001b[32m2.1/2.1 MB\u001b[0m \u001b[31m81.0 MB/s\u001b[0m eta \u001b[36m0:00:00\u001b[0m\n",
            "\u001b[2K   \u001b[90m━━━━━━━━━━━━━━━━━━━━━━━━━━━━━━━━━━━━━━━━\u001b[0m \u001b[32m167.9/167.9 kB\u001b[0m \u001b[31m19.2 MB/s\u001b[0m eta \u001b[36m0:00:00\u001b[0m\n",
            "\u001b[2K   \u001b[90m━━━━━━━━━━━━━━━━━━━━━━━━━━━━━━━━━━━━━━━━\u001b[0m \u001b[32m8.6/8.6 MB\u001b[0m \u001b[31m77.1 MB/s\u001b[0m eta \u001b[36m0:00:00\u001b[0m\n",
            "\u001b[?25h"
          ]
        }
      ]
    },
    {
      "cell_type": "code",
      "source": [
        "import os\n",
        "import pandas as pd\n",
        "\n",
        "# Set the label files\n",
        "train_labels_path = \"/content/pcb_data/pcb-defect-dataset/train/labels\"\n",
        "val_labels_path = \"/content/pcb_data/pcb-defect-dataset/val/labels\"\n",
        "test_labels_path = \"/content/pcb_data/pcb-defect-dataset/test/labels\"\n",
        "\n",
        "# Definition of convert label to csv\n",
        "def convert_labels_to_csv(labels_path, output_csv):\n",
        "    data = []\n",
        "\n",
        "    # read every .txt file\n",
        "    for file in os.listdir(labels_path):\n",
        "        if file.endswith(\".txt\"):\n",
        "            file_path = os.path.join(labels_path, file)\n",
        "            image_name = file.replace(\".txt\", \".jpg\")  # The file name corresponding to the image\n",
        "            with open(file_path, \"r\") as f:\n",
        "                lines = f.readlines()  #A .txt may have multiple lines of tags\n",
        "\n",
        "                for line in lines:\n",
        "                    values = line.strip().split()\n",
        "                    class_id = int(values[0])  # Defect category\n",
        "                    x_center, y_center, width, height = map(float, values[1:])  # Analyze numerical values\n",
        "\n",
        "                    # Save to DataFrame\n",
        "                    data.append([image_name, class_id, x_center, y_center, width, height])\n",
        "\n",
        "    # create DataFrame\n",
        "    df = pd.DataFrame(data, columns=[\"image_name\", \"class_id\", \"x_center\", \"y_center\", \"width\", \"height\"])\n",
        "\n",
        "    # Save as CSV\n",
        "    df.to_csv(output_csv, index=False)\n",
        "\n",
        "    print(f\"{output_csv} convert finish！\")\n",
        "    print(df.head(10))  # show the first 10 data\n",
        "\n",
        "# covert `train`、`val`、`test` labels\n",
        "convert_labels_to_csv(train_labels_path, \"train_labels.csv\")\n",
        "convert_labels_to_csv(val_labels_path, \"val_labels.csv\")\n",
        "convert_labels_to_csv(test_labels_path, \"test_labels.csv\")"
      ],
      "metadata": {
        "id": "_Q70o3GnsXKh",
        "outputId": "01352bdd-a2b7-4312-f7d5-60474ebe6eb5",
        "colab": {
          "base_uri": "https://localhost:8080/"
        }
      },
      "execution_count": 3,
      "outputs": [
        {
          "output_type": "stream",
          "name": "stdout",
          "text": [
            "train_labels.csv convert finish！\n",
            "                                     image_name  class_id  x_center  y_center  \\\n",
            "0       rotation_90_light_05_short_10_1_600.jpg         3    0.3317    0.0992   \n",
            "1            l_light_08_mouse_bite_09_4_600.jpg         0    0.4958    0.1808   \n",
            "2            l_light_08_mouse_bite_09_4_600.jpg         0    0.8617    0.6375   \n",
            "3  rotation_90_light_11_mouse_bite_03_2_600.jpg         0    0.4517    0.1783   \n",
            "4  rotation_90_light_11_mouse_bite_03_2_600.jpg         0    0.4433    0.5958   \n",
            "5  rotation_90_light_11_mouse_bite_03_2_600.jpg         0    0.2100    0.5217   \n",
            "6                 l_light_09_short_10_3_600.jpg         3    0.5092    0.0333   \n",
            "7                 l_light_09_short_10_3_600.jpg         3    0.9233    0.4333   \n",
            "8         light_11_spurious_copper_03_5_256.jpg         5    0.1592    0.1408   \n",
            "9         light_11_spurious_copper_03_5_256.jpg         5    0.7342    0.5558   \n",
            "\n",
            "    width  height  \n",
            "0  0.0567  0.0717  \n",
            "1  0.0383  0.0417  \n",
            "2  0.0400  0.0483  \n",
            "3  0.0567  0.0333  \n",
            "4  0.0533  0.0417  \n",
            "5  0.0500  0.0467  \n",
            "6  0.0983  0.0467  \n",
            "7  0.0467  0.0433  \n",
            "8  0.0550  0.0450  \n",
            "9  0.0450  0.0517  \n",
            "val_labels.csv convert finish！\n",
            "                                       image_name  class_id  x_center  \\\n",
            "0         rotation_90_light_08_short_05_3_600.jpg         3    0.2850   \n",
            "1         rotation_90_light_08_short_05_3_600.jpg         3    0.2983   \n",
            "2         rotation_90_light_08_short_05_3_600.jpg         3    0.3833   \n",
            "3         rotation_90_light_11_short_03_4_600.jpg         3    0.1933   \n",
            "4                      light_05_spur_08_5_256.jpg         1    0.7425   \n",
            "5                      light_05_spur_08_5_256.jpg         1    0.0708   \n",
            "6                      light_05_spur_08_5_256.jpg         1    0.0150   \n",
            "7  rotation_90_light_07_missing_hole_07_3_600.jpg         2    0.6667   \n",
            "8  rotation_90_light_07_missing_hole_07_3_600.jpg         2    0.3517   \n",
            "9                light_01_mouse_bite_13_1_256.jpg         0    0.5433   \n",
            "\n",
            "   y_center   width  height  \n",
            "0    0.5825  0.0433  0.0717  \n",
            "1    0.3633  0.0433  0.0567  \n",
            "2    0.2617  0.0467  0.0500  \n",
            "3    0.7533  0.0800  0.0667  \n",
            "4    0.1842  0.0617  0.0417  \n",
            "5    0.1833  0.0783  0.0467  \n",
            "6    0.7008  0.0267  0.0450  \n",
            "7    0.6558  0.0733  0.0650  \n",
            "8    0.8750  0.0833  0.0733  \n",
            "9    0.9092  0.0367  0.0383  \n",
            "test_labels.csv convert finish！\n",
            "                                        image_name  class_id  x_center  \\\n",
            "0               light_08_open_circuit_06_4_256.jpg         4    0.3067   \n",
            "1               light_08_open_circuit_06_4_256.jpg         4    0.0225   \n",
            "2    rotation_270_light_09_mouse_bite_08_2_600.jpg         0    0.6597   \n",
            "3           rotation_90_light_07_spur_01_2_600.jpg         1    0.7433   \n",
            "4           rotation_90_light_07_spur_01_2_600.jpg         1    0.7458   \n",
            "5                    l_light_04_short_15_1_600.jpg         3    0.3733   \n",
            "6                    l_light_04_short_15_1_600.jpg         3    0.7183   \n",
            "7                    l_light_04_short_15_1_600.jpg         3    0.4917   \n",
            "8  rotation_270_light_12_open_circuit_07_2_600.jpg         4    0.5266   \n",
            "9                    l_light_01_short_11_2_600.jpg         3    0.6700   \n",
            "\n",
            "   y_center   width  height  \n",
            "0    0.3542  0.0333  0.0250  \n",
            "1    0.7600  0.0383  0.0267  \n",
            "2    0.4559  0.0449  0.0333  \n",
            "3    0.6300  0.0600  0.0833  \n",
            "4    0.9567  0.0617  0.0600  \n",
            "5    0.4467  0.0767  0.0800  \n",
            "6    0.7042  0.0767  0.0783  \n",
            "7    0.8225  0.0767  0.0783  \n",
            "8    0.5749  0.0316  0.0316  \n",
            "9    0.2858  0.0433  0.0483  \n"
          ]
        }
      ]
    },
    {
      "cell_type": "code",
      "source": [
        "import os\n",
        "import cv2\n",
        "import numpy as np\n",
        "import pandas as pd\n",
        "\n",
        "#Set up image folder\n",
        "train_images_path = \"/content/pcb_data/pcb-defect-dataset/train/images\"\n",
        "val_images_path = \"/content/pcb_data/pcb-defect-dataset/val/images\"\n",
        "test_images_path = \"/content/pcb_data/pcb-defect-dataset/test/images\"\n",
        "\n",
        "# Read tag CSV\n",
        "train_labels_csv = \"train_labels.csv\"\n",
        "val_labels_csv = \"val_labels.csv\"\n",
        "test_labels_csv = \"test_labels.csv\"\n",
        "\n",
        "# Define functions to read images and match tags\n",
        "def load_images_and_labels(images_path, labels_csv):\n",
        "    df = pd.read_csv(labels_csv)  # Read CSV\n",
        "    X, y = [], []  # Store images and labels\n",
        "\n",
        "    # Read images and match tags\n",
        "    for _, row in df.iterrows():\n",
        "        img_path = os.path.join(images_path, row[\"image_name\"])\n",
        "\n",
        "        if os.path.exists(img_path):\n",
        "            img = cv2.imread(img_path, cv2.IMREAD_GRAYSCALE)  # Convert to grayscale\n",
        "            img = cv2.resize(img, (64, 64)) / 255.0  # standardization\n",
        "            X.append(img)\n",
        "            y.append(row[\"class_id\"])  # Take only defect categories as labels\n",
        "\n",
        "    # NumPy array\n",
        "    X = np.array(X)\n",
        "    y = np.array(y)\n",
        "\n",
        "    print(f\"{labels_csv} processed, image data size: {X.shape}, label data size: {y.shape}\")\n",
        "    return X, y\n",
        "\n",
        "# read `train`、`val`、`test` data\n",
        "X_train, y_train = load_images_and_labels(train_images_path, train_labels_csv)\n",
        "X_val, y_val = load_images_and_labels(val_images_path, val_labels_csv)\n",
        "X_test, y_test = load_images_and_labels(test_images_path, test_labels_csv)"
      ],
      "metadata": {
        "id": "-gA_Gh4asuF_",
        "outputId": "3a3b5f37-6d1a-43f2-9ab4-11157d1754c7",
        "colab": {
          "base_uri": "https://localhost:8080/"
        }
      },
      "execution_count": 4,
      "outputs": [
        {
          "output_type": "stream",
          "name": "stdout",
          "text": [
            "train_labels.csv processed, image data size: (12991, 64, 64), label data size: (12991,)\n",
            "val_labels.csv processed, image data size: (1595, 64, 64), label data size: (1595,)\n",
            "test_labels.csv processed, image data size: (1662, 64, 64), label data size: (1662,)\n"
          ]
        }
      ]
    },
    {
      "cell_type": "code",
      "source": [
        "from sklearn.model_selection import train_test_split\n",
        "import numpy as np\n",
        "\n",
        "# take 500 data\n",
        "X_train, _, y_train, _ = train_test_split(X_train, y_train, train_size=500, random_state=42, stratify=y_train)\n",
        "X_val, _, y_val, _ = train_test_split(X_val, y_val, train_size=500, random_state=42, stratify=y_val)\n",
        "X_test, _, y_test, _ = train_test_split(X_test, y_test, train_size=500, random_state=42, stratify=y_test)\n",
        "\n",
        "# Confirm data shape\n",
        "print(\"取樣後的影像數據 (Train):\", X_train.shape)  # (500, 64, 64)\n",
        "print(\"取樣後的標籤數據 (Train):\", y_train.shape)  # (500,)\n",
        "\n",
        "print(\"取樣後的影像數據 (Val):\", X_val.shape)  # (500, 64, 64)\n",
        "print(\"取樣後的標籤數據 (Val):\", y_val.shape)  # (500,)\n",
        "\n",
        "print(\"取樣後的影像數據 (Test):\", X_test.shape)  # (500, 64, 64)\n",
        "print(\"取樣後的標籤數據 (Test):\", y_test.shape)  # (500,)\n"
      ],
      "metadata": {
        "id": "QZp8JU4vwlu3",
        "outputId": "7bc71926-83f9-43f5-d218-901df9bd5f39",
        "colab": {
          "base_uri": "https://localhost:8080/"
        }
      },
      "execution_count": 5,
      "outputs": [
        {
          "output_type": "stream",
          "name": "stdout",
          "text": [
            "取樣後的影像數據 (Train): (500, 64, 64)\n",
            "取樣後的標籤數據 (Train): (500,)\n",
            "取樣後的影像數據 (Val): (500, 64, 64)\n",
            "取樣後的標籤數據 (Val): (500,)\n",
            "取樣後的影像數據 (Test): (500, 64, 64)\n",
            "取樣後的標籤數據 (Test): (500,)\n"
          ]
        }
      ]
    },
    {
      "cell_type": "code",
      "source": [
        "import pennylane as qml\n",
        "\n",
        "# Set up the quantum computer simulator (4 qubits, corresponding to 2x2 patch)\n",
        "n_qubits = 4\n",
        "dev = qml.device(\"default.qubit\", wires=n_qubits)\n",
        "\n",
        "@qml.qnode(dev)\n",
        "def quantum_kernel(x):\n",
        "    \"\"\"\n",
        "    This is a quantum circuit that converts image patches into quantum features\n",
        "    \"\"\"\n",
        "    for i in range(n_qubits):\n",
        "        qml.RY(x[i] * np.pi, wires=i)  # Embedding image data using Ry gates\n",
        "        qml.Hadamard(wires=i)  # Join Hadamard Gate\n",
        "\n",
        "    # oin Quantum Entanglement\n",
        "    for i in range(n_qubits - 1):\n",
        "        qml.CNOT(wires=[i, i+1])\n",
        "\n",
        "    return qml.expval(qml.PauliZ(0))  # Output quantum features"
      ],
      "metadata": {
        "id": "7wxBGd0YwrXY"
      },
      "execution_count": 6,
      "outputs": []
    },
    {
      "cell_type": "code",
      "source": [
        "def quanvolution(image):\n",
        "    output_size = (image.shape[0] //2, image.shape[1] //2)\n",
        "    q_image = np.zeros(output_size)\n",
        "\n",
        "    for i in range(0, image.shape[0], 2):\n",
        "        for j in range(0, image.shape[1], 2):\n",
        "          patch = image[i:i+2, j:j+2].flatten()\n",
        "          q_image[i//2, j//2] = quantum_kernel(patch)\n",
        "\n",
        "    return q_image.flatten()"
      ],
      "metadata": {
        "id": "HUgTzit7wxCB"
      },
      "execution_count": 7,
      "outputs": []
    },
    {
      "cell_type": "code",
      "source": [
        "# Do Quanvolution to data\n",
        "X_train_quanv = np.array([quanvolution(img) for img in X_train])\n",
        "X_val_quanv = np.array([quanvolution(img) for img in X_val])\n",
        "X_test_quanv = np.array([quanvolution(img) for img in X_test])\n",
        "\n",
        "print(\"Quantum feature size（Train）:\", X_train_quanv.shape)\n",
        "print(\"Quantum feature size（Val）:\", X_val_quanv.shape)\n",
        "print(\"Quantum feature size（Test）:\", X_test_quanv.shape)\n"
      ],
      "metadata": {
        "id": "iftUVz-IwzYS",
        "outputId": "fe901341-38b8-4613-d1c2-edfe3ab6d891",
        "colab": {
          "base_uri": "https://localhost:8080/"
        }
      },
      "execution_count": 8,
      "outputs": [
        {
          "output_type": "stream",
          "name": "stdout",
          "text": [
            "Quantum feature size（Train）: (500, 1024)\n",
            "Quantum feature size（Val）: (500, 1024)\n",
            "Quantum feature size（Test）: (500, 1024)\n"
          ]
        }
      ]
    },
    {
      "cell_type": "code",
      "source": [
        "# import numpy as np\n",
        "\n",
        "# def compute_kernel_matrix(X):\n",
        "#     \"\"\"\n",
        "#     Compute Quantum Kernel Matrix\n",
        "#     - X: quantum eigenvector (N, d), where N is the number of samples and d is the number of features\n",
        "#     - returns the Kernel matrix of (N, N)\n",
        "#     \"\"\"\n",
        "#     N = len(X)\n",
        "#     kernel_matrix = np.zeros((N, N))\n",
        "\n",
        "#     for i in range(N):\n",
        "#         for j in range(i, N):  # 只計算上三角矩陣（因為對稱）\n",
        "#             kernel_matrix[i, j] = np.dot(X[i], X[j])  # 內積當作 Kernel\n",
        "#             kernel_matrix[j, i] = kernel_matrix[i, j]  # 利用對稱性\n",
        "\n",
        "#     return kernel_matrix"
      ],
      "metadata": {
        "id": "58ja_fa5Dv9t"
      },
      "execution_count": 9,
      "outputs": []
    },
    {
      "cell_type": "code",
      "source": [
        "def compute_kernel_matrix(X, gamma=0.5):\n",
        "    N = len(X)\n",
        "    kernel_matrix = np.zeros((N, N))\n",
        "\n",
        "    for i in range(N):\n",
        "        for j in range(i, N):\n",
        "            dist = np.linalg.norm(X[i] - X[j]) ** 2\n",
        "            kernel_matrix[i, j] = np.exp(-gamma * dist)  # Gaussian Kernel\n",
        "            kernel_matrix[j, i] = kernel_matrix[i, j]\n",
        "\n",
        "    return kernel_matrix"
      ],
      "metadata": {
        "id": "-yeGsvXwI5I-"
      },
      "execution_count": 13,
      "outputs": []
    },
    {
      "cell_type": "code",
      "source": [
        "# Quantum Kernel Matrix\n",
        "train_kernel_matrix = compute_kernel_matrix(X_train_quanv)\n",
        "val_kernel_matrix = np.array([[np.dot(x1, x2) for x2 in X_train_quanv] for x1 in X_val_quanv])\n",
        "test_kernel_matrix = np.array([[np.dot(x1, x2) for x2 in X_train_quanv] for x1 in X_test_quanv])\n",
        "\n",
        "print(\"Train Kernel Matrix:\", train_kernel_matrix.shape)  # (N_train, N_train)\n",
        "print(\"Val Kernel Matrix:\", val_kernel_matrix.shape)      # (N_val, N_train)\n",
        "print(\"Test Kernel Matrix:\", test_kernel_matrix.shape)    # (N_test, N_train)"
      ],
      "metadata": {
        "id": "z96gGP0KxBqf",
        "outputId": "7caad8e2-7f09-4ff7-f4f6-be0af7a73e84",
        "colab": {
          "base_uri": "https://localhost:8080/"
        }
      },
      "execution_count": 14,
      "outputs": [
        {
          "output_type": "stream",
          "name": "stdout",
          "text": [
            "Train Kernel Matrix: (500, 500)\n",
            "Val Kernel Matrix: (500, 500)\n",
            "Test Kernel Matrix: (500, 500)\n"
          ]
        }
      ]
    },
    {
      "cell_type": "code",
      "source": [
        "from sklearn import svm\n",
        "from sklearn.metrics import accuracy_score\n",
        "\n",
        "# train Quantum SVM\n",
        "qsvm = svm.SVC(kernel=\"precomputed\")\n",
        "qsvm.fit(train_kernel_matrix, y_train)\n"
      ],
      "metadata": {
        "id": "0smAhdcPxCuj",
        "outputId": "686ebeca-9e16-4f1c-d4fe-0af002f22c9d",
        "colab": {
          "base_uri": "https://localhost:8080/",
          "height": 80
        }
      },
      "execution_count": 15,
      "outputs": [
        {
          "output_type": "execute_result",
          "data": {
            "text/plain": [
              "SVC(kernel='precomputed')"
            ],
            "text/html": [
              "<style>#sk-container-id-2 {\n",
              "  /* Definition of color scheme common for light and dark mode */\n",
              "  --sklearn-color-text: #000;\n",
              "  --sklearn-color-text-muted: #666;\n",
              "  --sklearn-color-line: gray;\n",
              "  /* Definition of color scheme for unfitted estimators */\n",
              "  --sklearn-color-unfitted-level-0: #fff5e6;\n",
              "  --sklearn-color-unfitted-level-1: #f6e4d2;\n",
              "  --sklearn-color-unfitted-level-2: #ffe0b3;\n",
              "  --sklearn-color-unfitted-level-3: chocolate;\n",
              "  /* Definition of color scheme for fitted estimators */\n",
              "  --sklearn-color-fitted-level-0: #f0f8ff;\n",
              "  --sklearn-color-fitted-level-1: #d4ebff;\n",
              "  --sklearn-color-fitted-level-2: #b3dbfd;\n",
              "  --sklearn-color-fitted-level-3: cornflowerblue;\n",
              "\n",
              "  /* Specific color for light theme */\n",
              "  --sklearn-color-text-on-default-background: var(--sg-text-color, var(--theme-code-foreground, var(--jp-content-font-color1, black)));\n",
              "  --sklearn-color-background: var(--sg-background-color, var(--theme-background, var(--jp-layout-color0, white)));\n",
              "  --sklearn-color-border-box: var(--sg-text-color, var(--theme-code-foreground, var(--jp-content-font-color1, black)));\n",
              "  --sklearn-color-icon: #696969;\n",
              "\n",
              "  @media (prefers-color-scheme: dark) {\n",
              "    /* Redefinition of color scheme for dark theme */\n",
              "    --sklearn-color-text-on-default-background: var(--sg-text-color, var(--theme-code-foreground, var(--jp-content-font-color1, white)));\n",
              "    --sklearn-color-background: var(--sg-background-color, var(--theme-background, var(--jp-layout-color0, #111)));\n",
              "    --sklearn-color-border-box: var(--sg-text-color, var(--theme-code-foreground, var(--jp-content-font-color1, white)));\n",
              "    --sklearn-color-icon: #878787;\n",
              "  }\n",
              "}\n",
              "\n",
              "#sk-container-id-2 {\n",
              "  color: var(--sklearn-color-text);\n",
              "}\n",
              "\n",
              "#sk-container-id-2 pre {\n",
              "  padding: 0;\n",
              "}\n",
              "\n",
              "#sk-container-id-2 input.sk-hidden--visually {\n",
              "  border: 0;\n",
              "  clip: rect(1px 1px 1px 1px);\n",
              "  clip: rect(1px, 1px, 1px, 1px);\n",
              "  height: 1px;\n",
              "  margin: -1px;\n",
              "  overflow: hidden;\n",
              "  padding: 0;\n",
              "  position: absolute;\n",
              "  width: 1px;\n",
              "}\n",
              "\n",
              "#sk-container-id-2 div.sk-dashed-wrapped {\n",
              "  border: 1px dashed var(--sklearn-color-line);\n",
              "  margin: 0 0.4em 0.5em 0.4em;\n",
              "  box-sizing: border-box;\n",
              "  padding-bottom: 0.4em;\n",
              "  background-color: var(--sklearn-color-background);\n",
              "}\n",
              "\n",
              "#sk-container-id-2 div.sk-container {\n",
              "  /* jupyter's `normalize.less` sets `[hidden] { display: none; }`\n",
              "     but bootstrap.min.css set `[hidden] { display: none !important; }`\n",
              "     so we also need the `!important` here to be able to override the\n",
              "     default hidden behavior on the sphinx rendered scikit-learn.org.\n",
              "     See: https://github.com/scikit-learn/scikit-learn/issues/21755 */\n",
              "  display: inline-block !important;\n",
              "  position: relative;\n",
              "}\n",
              "\n",
              "#sk-container-id-2 div.sk-text-repr-fallback {\n",
              "  display: none;\n",
              "}\n",
              "\n",
              "div.sk-parallel-item,\n",
              "div.sk-serial,\n",
              "div.sk-item {\n",
              "  /* draw centered vertical line to link estimators */\n",
              "  background-image: linear-gradient(var(--sklearn-color-text-on-default-background), var(--sklearn-color-text-on-default-background));\n",
              "  background-size: 2px 100%;\n",
              "  background-repeat: no-repeat;\n",
              "  background-position: center center;\n",
              "}\n",
              "\n",
              "/* Parallel-specific style estimator block */\n",
              "\n",
              "#sk-container-id-2 div.sk-parallel-item::after {\n",
              "  content: \"\";\n",
              "  width: 100%;\n",
              "  border-bottom: 2px solid var(--sklearn-color-text-on-default-background);\n",
              "  flex-grow: 1;\n",
              "}\n",
              "\n",
              "#sk-container-id-2 div.sk-parallel {\n",
              "  display: flex;\n",
              "  align-items: stretch;\n",
              "  justify-content: center;\n",
              "  background-color: var(--sklearn-color-background);\n",
              "  position: relative;\n",
              "}\n",
              "\n",
              "#sk-container-id-2 div.sk-parallel-item {\n",
              "  display: flex;\n",
              "  flex-direction: column;\n",
              "}\n",
              "\n",
              "#sk-container-id-2 div.sk-parallel-item:first-child::after {\n",
              "  align-self: flex-end;\n",
              "  width: 50%;\n",
              "}\n",
              "\n",
              "#sk-container-id-2 div.sk-parallel-item:last-child::after {\n",
              "  align-self: flex-start;\n",
              "  width: 50%;\n",
              "}\n",
              "\n",
              "#sk-container-id-2 div.sk-parallel-item:only-child::after {\n",
              "  width: 0;\n",
              "}\n",
              "\n",
              "/* Serial-specific style estimator block */\n",
              "\n",
              "#sk-container-id-2 div.sk-serial {\n",
              "  display: flex;\n",
              "  flex-direction: column;\n",
              "  align-items: center;\n",
              "  background-color: var(--sklearn-color-background);\n",
              "  padding-right: 1em;\n",
              "  padding-left: 1em;\n",
              "}\n",
              "\n",
              "\n",
              "/* Toggleable style: style used for estimator/Pipeline/ColumnTransformer box that is\n",
              "clickable and can be expanded/collapsed.\n",
              "- Pipeline and ColumnTransformer use this feature and define the default style\n",
              "- Estimators will overwrite some part of the style using the `sk-estimator` class\n",
              "*/\n",
              "\n",
              "/* Pipeline and ColumnTransformer style (default) */\n",
              "\n",
              "#sk-container-id-2 div.sk-toggleable {\n",
              "  /* Default theme specific background. It is overwritten whether we have a\n",
              "  specific estimator or a Pipeline/ColumnTransformer */\n",
              "  background-color: var(--sklearn-color-background);\n",
              "}\n",
              "\n",
              "/* Toggleable label */\n",
              "#sk-container-id-2 label.sk-toggleable__label {\n",
              "  cursor: pointer;\n",
              "  display: flex;\n",
              "  width: 100%;\n",
              "  margin-bottom: 0;\n",
              "  padding: 0.5em;\n",
              "  box-sizing: border-box;\n",
              "  text-align: center;\n",
              "  align-items: start;\n",
              "  justify-content: space-between;\n",
              "  gap: 0.5em;\n",
              "}\n",
              "\n",
              "#sk-container-id-2 label.sk-toggleable__label .caption {\n",
              "  font-size: 0.6rem;\n",
              "  font-weight: lighter;\n",
              "  color: var(--sklearn-color-text-muted);\n",
              "}\n",
              "\n",
              "#sk-container-id-2 label.sk-toggleable__label-arrow:before {\n",
              "  /* Arrow on the left of the label */\n",
              "  content: \"▸\";\n",
              "  float: left;\n",
              "  margin-right: 0.25em;\n",
              "  color: var(--sklearn-color-icon);\n",
              "}\n",
              "\n",
              "#sk-container-id-2 label.sk-toggleable__label-arrow:hover:before {\n",
              "  color: var(--sklearn-color-text);\n",
              "}\n",
              "\n",
              "/* Toggleable content - dropdown */\n",
              "\n",
              "#sk-container-id-2 div.sk-toggleable__content {\n",
              "  max-height: 0;\n",
              "  max-width: 0;\n",
              "  overflow: hidden;\n",
              "  text-align: left;\n",
              "  /* unfitted */\n",
              "  background-color: var(--sklearn-color-unfitted-level-0);\n",
              "}\n",
              "\n",
              "#sk-container-id-2 div.sk-toggleable__content.fitted {\n",
              "  /* fitted */\n",
              "  background-color: var(--sklearn-color-fitted-level-0);\n",
              "}\n",
              "\n",
              "#sk-container-id-2 div.sk-toggleable__content pre {\n",
              "  margin: 0.2em;\n",
              "  border-radius: 0.25em;\n",
              "  color: var(--sklearn-color-text);\n",
              "  /* unfitted */\n",
              "  background-color: var(--sklearn-color-unfitted-level-0);\n",
              "}\n",
              "\n",
              "#sk-container-id-2 div.sk-toggleable__content.fitted pre {\n",
              "  /* unfitted */\n",
              "  background-color: var(--sklearn-color-fitted-level-0);\n",
              "}\n",
              "\n",
              "#sk-container-id-2 input.sk-toggleable__control:checked~div.sk-toggleable__content {\n",
              "  /* Expand drop-down */\n",
              "  max-height: 200px;\n",
              "  max-width: 100%;\n",
              "  overflow: auto;\n",
              "}\n",
              "\n",
              "#sk-container-id-2 input.sk-toggleable__control:checked~label.sk-toggleable__label-arrow:before {\n",
              "  content: \"▾\";\n",
              "}\n",
              "\n",
              "/* Pipeline/ColumnTransformer-specific style */\n",
              "\n",
              "#sk-container-id-2 div.sk-label input.sk-toggleable__control:checked~label.sk-toggleable__label {\n",
              "  color: var(--sklearn-color-text);\n",
              "  background-color: var(--sklearn-color-unfitted-level-2);\n",
              "}\n",
              "\n",
              "#sk-container-id-2 div.sk-label.fitted input.sk-toggleable__control:checked~label.sk-toggleable__label {\n",
              "  background-color: var(--sklearn-color-fitted-level-2);\n",
              "}\n",
              "\n",
              "/* Estimator-specific style */\n",
              "\n",
              "/* Colorize estimator box */\n",
              "#sk-container-id-2 div.sk-estimator input.sk-toggleable__control:checked~label.sk-toggleable__label {\n",
              "  /* unfitted */\n",
              "  background-color: var(--sklearn-color-unfitted-level-2);\n",
              "}\n",
              "\n",
              "#sk-container-id-2 div.sk-estimator.fitted input.sk-toggleable__control:checked~label.sk-toggleable__label {\n",
              "  /* fitted */\n",
              "  background-color: var(--sklearn-color-fitted-level-2);\n",
              "}\n",
              "\n",
              "#sk-container-id-2 div.sk-label label.sk-toggleable__label,\n",
              "#sk-container-id-2 div.sk-label label {\n",
              "  /* The background is the default theme color */\n",
              "  color: var(--sklearn-color-text-on-default-background);\n",
              "}\n",
              "\n",
              "/* On hover, darken the color of the background */\n",
              "#sk-container-id-2 div.sk-label:hover label.sk-toggleable__label {\n",
              "  color: var(--sklearn-color-text);\n",
              "  background-color: var(--sklearn-color-unfitted-level-2);\n",
              "}\n",
              "\n",
              "/* Label box, darken color on hover, fitted */\n",
              "#sk-container-id-2 div.sk-label.fitted:hover label.sk-toggleable__label.fitted {\n",
              "  color: var(--sklearn-color-text);\n",
              "  background-color: var(--sklearn-color-fitted-level-2);\n",
              "}\n",
              "\n",
              "/* Estimator label */\n",
              "\n",
              "#sk-container-id-2 div.sk-label label {\n",
              "  font-family: monospace;\n",
              "  font-weight: bold;\n",
              "  display: inline-block;\n",
              "  line-height: 1.2em;\n",
              "}\n",
              "\n",
              "#sk-container-id-2 div.sk-label-container {\n",
              "  text-align: center;\n",
              "}\n",
              "\n",
              "/* Estimator-specific */\n",
              "#sk-container-id-2 div.sk-estimator {\n",
              "  font-family: monospace;\n",
              "  border: 1px dotted var(--sklearn-color-border-box);\n",
              "  border-radius: 0.25em;\n",
              "  box-sizing: border-box;\n",
              "  margin-bottom: 0.5em;\n",
              "  /* unfitted */\n",
              "  background-color: var(--sklearn-color-unfitted-level-0);\n",
              "}\n",
              "\n",
              "#sk-container-id-2 div.sk-estimator.fitted {\n",
              "  /* fitted */\n",
              "  background-color: var(--sklearn-color-fitted-level-0);\n",
              "}\n",
              "\n",
              "/* on hover */\n",
              "#sk-container-id-2 div.sk-estimator:hover {\n",
              "  /* unfitted */\n",
              "  background-color: var(--sklearn-color-unfitted-level-2);\n",
              "}\n",
              "\n",
              "#sk-container-id-2 div.sk-estimator.fitted:hover {\n",
              "  /* fitted */\n",
              "  background-color: var(--sklearn-color-fitted-level-2);\n",
              "}\n",
              "\n",
              "/* Specification for estimator info (e.g. \"i\" and \"?\") */\n",
              "\n",
              "/* Common style for \"i\" and \"?\" */\n",
              "\n",
              ".sk-estimator-doc-link,\n",
              "a:link.sk-estimator-doc-link,\n",
              "a:visited.sk-estimator-doc-link {\n",
              "  float: right;\n",
              "  font-size: smaller;\n",
              "  line-height: 1em;\n",
              "  font-family: monospace;\n",
              "  background-color: var(--sklearn-color-background);\n",
              "  border-radius: 1em;\n",
              "  height: 1em;\n",
              "  width: 1em;\n",
              "  text-decoration: none !important;\n",
              "  margin-left: 0.5em;\n",
              "  text-align: center;\n",
              "  /* unfitted */\n",
              "  border: var(--sklearn-color-unfitted-level-1) 1pt solid;\n",
              "  color: var(--sklearn-color-unfitted-level-1);\n",
              "}\n",
              "\n",
              ".sk-estimator-doc-link.fitted,\n",
              "a:link.sk-estimator-doc-link.fitted,\n",
              "a:visited.sk-estimator-doc-link.fitted {\n",
              "  /* fitted */\n",
              "  border: var(--sklearn-color-fitted-level-1) 1pt solid;\n",
              "  color: var(--sklearn-color-fitted-level-1);\n",
              "}\n",
              "\n",
              "/* On hover */\n",
              "div.sk-estimator:hover .sk-estimator-doc-link:hover,\n",
              ".sk-estimator-doc-link:hover,\n",
              "div.sk-label-container:hover .sk-estimator-doc-link:hover,\n",
              ".sk-estimator-doc-link:hover {\n",
              "  /* unfitted */\n",
              "  background-color: var(--sklearn-color-unfitted-level-3);\n",
              "  color: var(--sklearn-color-background);\n",
              "  text-decoration: none;\n",
              "}\n",
              "\n",
              "div.sk-estimator.fitted:hover .sk-estimator-doc-link.fitted:hover,\n",
              ".sk-estimator-doc-link.fitted:hover,\n",
              "div.sk-label-container:hover .sk-estimator-doc-link.fitted:hover,\n",
              ".sk-estimator-doc-link.fitted:hover {\n",
              "  /* fitted */\n",
              "  background-color: var(--sklearn-color-fitted-level-3);\n",
              "  color: var(--sklearn-color-background);\n",
              "  text-decoration: none;\n",
              "}\n",
              "\n",
              "/* Span, style for the box shown on hovering the info icon */\n",
              ".sk-estimator-doc-link span {\n",
              "  display: none;\n",
              "  z-index: 9999;\n",
              "  position: relative;\n",
              "  font-weight: normal;\n",
              "  right: .2ex;\n",
              "  padding: .5ex;\n",
              "  margin: .5ex;\n",
              "  width: min-content;\n",
              "  min-width: 20ex;\n",
              "  max-width: 50ex;\n",
              "  color: var(--sklearn-color-text);\n",
              "  box-shadow: 2pt 2pt 4pt #999;\n",
              "  /* unfitted */\n",
              "  background: var(--sklearn-color-unfitted-level-0);\n",
              "  border: .5pt solid var(--sklearn-color-unfitted-level-3);\n",
              "}\n",
              "\n",
              ".sk-estimator-doc-link.fitted span {\n",
              "  /* fitted */\n",
              "  background: var(--sklearn-color-fitted-level-0);\n",
              "  border: var(--sklearn-color-fitted-level-3);\n",
              "}\n",
              "\n",
              ".sk-estimator-doc-link:hover span {\n",
              "  display: block;\n",
              "}\n",
              "\n",
              "/* \"?\"-specific style due to the `<a>` HTML tag */\n",
              "\n",
              "#sk-container-id-2 a.estimator_doc_link {\n",
              "  float: right;\n",
              "  font-size: 1rem;\n",
              "  line-height: 1em;\n",
              "  font-family: monospace;\n",
              "  background-color: var(--sklearn-color-background);\n",
              "  border-radius: 1rem;\n",
              "  height: 1rem;\n",
              "  width: 1rem;\n",
              "  text-decoration: none;\n",
              "  /* unfitted */\n",
              "  color: var(--sklearn-color-unfitted-level-1);\n",
              "  border: var(--sklearn-color-unfitted-level-1) 1pt solid;\n",
              "}\n",
              "\n",
              "#sk-container-id-2 a.estimator_doc_link.fitted {\n",
              "  /* fitted */\n",
              "  border: var(--sklearn-color-fitted-level-1) 1pt solid;\n",
              "  color: var(--sklearn-color-fitted-level-1);\n",
              "}\n",
              "\n",
              "/* On hover */\n",
              "#sk-container-id-2 a.estimator_doc_link:hover {\n",
              "  /* unfitted */\n",
              "  background-color: var(--sklearn-color-unfitted-level-3);\n",
              "  color: var(--sklearn-color-background);\n",
              "  text-decoration: none;\n",
              "}\n",
              "\n",
              "#sk-container-id-2 a.estimator_doc_link.fitted:hover {\n",
              "  /* fitted */\n",
              "  background-color: var(--sklearn-color-fitted-level-3);\n",
              "}\n",
              "</style><div id=\"sk-container-id-2\" class=\"sk-top-container\"><div class=\"sk-text-repr-fallback\"><pre>SVC(kernel=&#x27;precomputed&#x27;)</pre><b>In a Jupyter environment, please rerun this cell to show the HTML representation or trust the notebook. <br />On GitHub, the HTML representation is unable to render, please try loading this page with nbviewer.org.</b></div><div class=\"sk-container\" hidden><div class=\"sk-item\"><div class=\"sk-estimator fitted sk-toggleable\"><input class=\"sk-toggleable__control sk-hidden--visually\" id=\"sk-estimator-id-2\" type=\"checkbox\" checked><label for=\"sk-estimator-id-2\" class=\"sk-toggleable__label fitted sk-toggleable__label-arrow\"><div><div>SVC</div></div><div><a class=\"sk-estimator-doc-link fitted\" rel=\"noreferrer\" target=\"_blank\" href=\"https://scikit-learn.org/1.6/modules/generated/sklearn.svm.SVC.html\">?<span>Documentation for SVC</span></a><span class=\"sk-estimator-doc-link fitted\">i<span>Fitted</span></span></div></label><div class=\"sk-toggleable__content fitted\"><pre>SVC(kernel=&#x27;precomputed&#x27;)</pre></div> </div></div></div></div>"
            ]
          },
          "metadata": {},
          "execution_count": 15
        }
      ]
    },
    {
      "cell_type": "code",
      "source": [
        "# test  QSVM in val set\n",
        "preds_val = qsvm.predict(val_kernel_matrix)\n",
        "accuracy_val = accuracy_score(y_val, preds_val)\n",
        "print(f\"QSVM Validation Accuracy: {accuracy_val:.4f}\")\n",
        "\n",
        "# test QSVM in test set\n",
        "preds_test = qsvm.predict(test_kernel_matrix)\n",
        "accuracy_test = accuracy_score(y_test, preds_test)\n",
        "print(f\"QSVM Test Accuracy: {accuracy_test:.4f}\")\n"
      ],
      "metadata": {
        "id": "SeQ00cyhxKVz",
        "outputId": "afc9ffcc-cd8c-4329-d391-51dc7fc0a680",
        "colab": {
          "base_uri": "https://localhost:8080/"
        }
      },
      "execution_count": 16,
      "outputs": [
        {
          "output_type": "stream",
          "name": "stdout",
          "text": [
            "QSVM Validation Accuracy: 0.1620\n",
            "QSVM Test Accuracy: 0.1600\n"
          ]
        }
      ]
    },
    {
      "cell_type": "code",
      "source": [
        "# Choose label=0&1\n",
        "X_train_0 = X_train[y_train == 0]\n",
        "y_train_0 = y_train[y_train == 0]\n",
        "\n",
        "X_train_1 = X_train[y_train == 1]\n",
        "y_train_1 = y_train[y_train == 1]\n",
        "\n",
        "X_val_0 = X_val[y_val == 0]\n",
        "y_val_0 = y_val[y_val == 0]\n",
        "\n",
        "X_val_1 = X_val[y_val == 1]\n",
        "y_val_1 = y_val[y_val == 1]\n",
        "\n",
        "X_test_0 = X_test[y_test == 0]\n",
        "y_test_0 = y_test[y_test == 0]\n",
        "\n",
        "X_test_1 = X_test[y_test == 1]\n",
        "y_test_1 = y_test[y_test == 1]\n",
        "\n",
        "print(f\"label=0 訓練數據數量: {X_train_0.shape}\")\n",
        "print(f\"label=0 訓練數據數量: {X_val_0.shape}\")\n",
        "print(f\"label=0 訓練數據數量: {X_test_0.shape}\")\n",
        "\n",
        "print(f\"訓練資料 label=1 數量: {X_train_1.shape}\")\n",
        "print(f\"驗證資料 label=1 數量: {X_val_1.shape}\")\n",
        "print(f\"測試資料 label=1 數量: {X_test_1.shape}\")\n"
      ],
      "metadata": {
        "id": "gdAmEmfJKFkC",
        "outputId": "16f32260-3812-42cc-dd9c-7c66fec8471f",
        "colab": {
          "base_uri": "https://localhost:8080/"
        }
      },
      "execution_count": 23,
      "outputs": [
        {
          "output_type": "stream",
          "name": "stdout",
          "text": [
            "label=0 訓練數據數量: (85, 64, 64)\n",
            "label=0 訓練數據數量: (88, 64, 64)\n",
            "label=0 訓練數據數量: (79, 64, 64)\n",
            "訓練資料 label=1 數量: (84, 64, 64)\n",
            "驗證資料 label=1 數量: (82, 64, 64)\n",
            "測試資料 label=1 數量: (84, 64, 64)\n"
          ]
        }
      ]
    },
    {
      "cell_type": "code",
      "source": [
        "X_train_0 = np.array([quanvolution(img) for img in X_train_0])\n",
        "X_val_0 = np.array([quanvolution(img) for img in X_val_0])\n",
        "X_test_0 = np.array([quanvolution(img) for img in X_test_0])\n",
        "\n",
        "print(\" X_train_0 shape:\", X_train_0.shape)  # (84, 特徵數)\n",
        "print(\" X_val_0 shape:\", X_val_0.shape)      # (88, 特徵數)\n",
        "print(\"X_test_0 shape:\", X_test_0.shape)    # (79, 特徵數)"
      ],
      "metadata": {
        "id": "CSJERG6FPdwr",
        "outputId": "86ccd4c2-3dee-4e66-9c20-d1c3ee899861",
        "colab": {
          "base_uri": "https://localhost:8080/"
        }
      },
      "execution_count": 24,
      "outputs": [
        {
          "output_type": "stream",
          "name": "stdout",
          "text": [
            " X_train_1 shape: (85, 1024)\n",
            " X_val_1 shape: (88, 1024)\n",
            "X_test_1 shape: (79, 1024)\n"
          ]
        }
      ]
    },
    {
      "cell_type": "code",
      "source": [
        "X_train_1 = np.array([quanvolution(img) for img in X_train_1])\n",
        "X_val_1 = np.array([quanvolution(img) for img in X_val_1])\n",
        "X_test_1 = np.array([quanvolution(img) for img in X_test_1])\n",
        "\n",
        "print(\" X_train_1 shape:\", X_train_1.shape)  # (84, 特徵數)\n",
        "print(\" X_val_1 shape:\", X_val_1.shape)      # (82, 特徵數)\n",
        "print(\"X_test_1 shape:\", X_test_1.shape)    # (84, 特徵數)"
      ],
      "metadata": {
        "id": "Er6zzd8gLKDd",
        "outputId": "3f08fced-1a97-41ed-c62a-56a801445d07",
        "colab": {
          "base_uri": "https://localhost:8080/"
        }
      },
      "execution_count": 29,
      "outputs": [
        {
          "output_type": "stream",
          "name": "stdout",
          "text": [
            " X_train_1 shape: (84, 1024)\n",
            " X_val_1 shape: (82, 1024)\n",
            "X_test_1 shape: (84, 1024)\n"
          ]
        }
      ]
    },
    {
      "cell_type": "code",
      "source": [
        "# 合併 label=0 和 label=1 的量子特徵數據\n",
        "X_train_01 = np.vstack([X_train_0, X_train_1])\n",
        "y_train_01 = np.hstack([y_train_0, y_train_1])\n",
        "\n",
        "print(f\"合併後的訓練數據: {X_train_01.shape}\")\n",
        "print(f\"合併後的標籤數據: {y_train_01.shape}\")\n",
        "\n",
        "X_val_01 = np.vstack([X_val_0, X_val_1])\n",
        "y_val_01 = np.hstack([y_val_0, y_val_1])\n",
        "\n",
        "print(f\"合併後的訓練數據: {X_val_01.shape}\")\n",
        "print(f\"合併後的標籤數據: {y_val_01.shape}\")\n",
        "\n",
        "X_test_01 = np.vstack([X_test_0, X_test_1])\n",
        "y_test_01 = np.hstack([y_test_0, y_test_1])\n",
        "\n",
        "print(f\"合併後的訓練數據: {X_test_01.shape}\")\n",
        "print(f\"合併後的標籤數據: {y_test_01.shape}\")"
      ],
      "metadata": {
        "id": "Mmyc2JbFU8i-",
        "outputId": "1de78ccf-145d-43a3-9784-a63beb965712",
        "colab": {
          "base_uri": "https://localhost:8080/"
        }
      },
      "execution_count": 31,
      "outputs": [
        {
          "output_type": "stream",
          "name": "stdout",
          "text": [
            "合併後的訓練數據: (169, 1024)\n",
            "合併後的標籤數據: (169,)\n",
            "合併後的訓練數據: (170, 1024)\n",
            "合併後的標籤數據: (170,)\n",
            "合併後的訓練數據: (163, 1024)\n",
            "合併後的標籤數據: (163,)\n"
          ]
        }
      ]
    },
    {
      "cell_type": "code",
      "source": [
        "# 計算 Kernel Matrix（只使用 label=1 的數據）\n",
        "train_kernel_matrix_01 = compute_kernel_matrix(X_train_01)\n",
        "val_kernel_matrix_01 = np.array([[np.dot(x1, x2) for x2 in X_train_01] for x1 in X_val_01])\n",
        "test_kernel_matrix_01 = np.array([[np.dot(x1, x2) for x2 in X_train_01] for x1 in X_test_01])\n",
        "\n",
        "print(f\"Train Kernel Matrix (label=1): {train_kernel_matrix_1.shape}\")\n",
        "print(f\"Val Kernel Matrix (label=1): {val_kernel_matrix_1.shape}\")\n",
        "print(f\"Test Kernel Matrix (label=1): {test_kernel_matrix_1.shape}\")"
      ],
      "metadata": {
        "id": "JwNB2hnRKOWT",
        "outputId": "e6f97c87-3d16-4872-a652-9fd2be334fbb",
        "colab": {
          "base_uri": "https://localhost:8080/"
        }
      },
      "execution_count": 33,
      "outputs": [
        {
          "output_type": "stream",
          "name": "stdout",
          "text": [
            "Train Kernel Matrix (label=1): (169, 169)\n",
            "Val Kernel Matrix (label=1): (170, 169)\n",
            "Test Kernel Matrix (label=1): (163, 169)\n"
          ]
        }
      ]
    },
    {
      "cell_type": "code",
      "source": [
        "from sklearn import svm\n",
        "from sklearn.metrics import accuracy_score\n",
        "\n",
        "# 訓練 Quantum SVM\n",
        "qsvm = svm.SVC(kernel=\"precomputed\")\n",
        "qsvm.fit(train_kernel_matrix_01, y_train_01)\n",
        "\n",
        "# 測試 QSVM 在驗證集\n",
        "preds_val_1 = qsvm.predict(val_kernel_matrix_01)\n",
        "accuracy_val_1 = accuracy_score(y_val_01, preds_val_1)\n",
        "print(f\"QSVM Validation Accuracy (label=1): {accuracy_val_1:.4f}\")\n",
        "\n",
        "# 測試 QSVM 在測試集\n",
        "preds_test_1 = qsvm.predict(test_kernel_matrix_01)\n",
        "accuracy_test_1 = accuracy_score(y_test_01, preds_test_1)\n",
        "print(f\"QSVM Test Accuracy (label=1): {accuracy_test_1:.4f}\")"
      ],
      "metadata": {
        "id": "Cf6wM4_xKUXd",
        "outputId": "845a511e-5ce7-4194-dcbf-1a99eb6f53d6",
        "colab": {
          "base_uri": "https://localhost:8080/"
        }
      },
      "execution_count": 35,
      "outputs": [
        {
          "output_type": "stream",
          "name": "stdout",
          "text": [
            "QSVM Validation Accuracy (label=1): 0.5176\n",
            "QSVM Test Accuracy (label=1): 0.4847\n"
          ]
        }
      ]
    },
    {
      "cell_type": "code",
      "source": [
        "# 傳統 SVM（使用 RBF 核）\n",
        "classical_svm = svm.SVC(kernel=\"rbf\")\n",
        "classical_svm.fit(X_train_01, y_train_01)\n",
        "preds_classical = classical_svm.predict(X_test_01)\n",
        "acc_classical = accuracy_score(y_test_01, preds_classical)\n",
        "\n",
        "print(f\"Classical SVM Accuracy: {acc_classical:.4f}\")"
      ],
      "metadata": {
        "id": "xUn2hVvtc_Ju",
        "outputId": "89e51421-e525-40ab-ba4e-ab69d763d25b",
        "colab": {
          "base_uri": "https://localhost:8080/"
        }
      },
      "execution_count": 36,
      "outputs": [
        {
          "output_type": "stream",
          "name": "stdout",
          "text": [
            "Classical SVM Accuracy: 0.4601\n"
          ]
        }
      ]
    },
    {
      "cell_type": "code",
      "source": [],
      "metadata": {
        "id": "KmdA0V5JdhF3"
      },
      "execution_count": null,
      "outputs": []
    }
  ]
}