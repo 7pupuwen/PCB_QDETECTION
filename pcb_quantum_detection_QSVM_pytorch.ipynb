{
 "cells": [
  {
   "cell_type": "code",
   "execution_count": 72,
   "metadata": {
    "id": "j-ZYHy-JuS4r"
   },
   "outputs": [],
   "source": [
    "#office computer\n",
    "\n",
    "# pip3 install torch torchvision torchaudio --index-url https://download.pytorch.org/whl/cu118"
   ]
  },
  {
   "cell_type": "code",
   "execution_count": 73,
   "metadata": {
    "colab": {
     "base_uri": "https://localhost:8080/",
     "height": 332
    },
    "id": "YrZU7PFhaoWP",
    "outputId": "1431ab9d-7485-40b3-b0c3-0a829ac6c5e1"
   },
   "outputs": [],
   "source": [
    "import numpy as np\n",
    "import torch\n",
    "\n",
    "# 假設你有三個檔案：train, val, test\n",
    "X_train_01 = np.load(\"C:/Users/wenwe/Desktop/Lab_QC/Wendy/qcnn_features_X_train_01p.npy\")\n",
    "X_val_01   = np.load(\"C:/Users/wenwe/Desktop/Lab_QC/Wendy/qcnn_features_X_val_01p.npy\")\n",
    "X_test_01  = np.load(\"C:/Users/wenwe/Desktop/Lab_QC/Wendy/qcnn_features_X_test_01p.npy\")\n",
    "\n",
    "# 轉成 torch tensor，放到 GPU（如果你有 GPU 的話）\n",
    "# device = torch.device(\"cuda\" if torch.cuda.is_available() else \"cpu\")\n",
    "\n",
    "device = torch.device(\"cpu\")\n",
    "\n",
    "X_train_01 = torch.tensor(X_train_01, dtype=torch.float32).to(device)\n",
    "X_val_01   = torch.tensor(X_val_01, dtype=torch.float32).to(device)\n",
    "X_test_01  = torch.tensor(X_test_01, dtype=torch.float32).to(device)\n",
    "\n",
    "# Flatten 成 2D（如果需要的話）\n",
    "X_train_flat = X_train_01.view(X_train_01.size(0), -1)\n",
    "X_val_flat   = X_val_01.view(X_val_01.size(0), -1)\n",
    "X_test_flat  = X_test_01.view(X_test_01.size(0), -1)"
   ]
  },
  {
   "cell_type": "code",
   "execution_count": 74,
   "metadata": {},
   "outputs": [],
   "source": [
    "import numpy as np\n",
    "import torch\n",
    "\n",
    "# 假設你有三個檔案：train, val, test\n",
    "y_train_01 = np.load(\"C:/Users/wenwe/Desktop/Lab_QC/Wendy/qcnn_labels_y_train_01p.npy\")\n",
    "y_val_01   = np.load(\"C:/Users/wenwe/Desktop/Lab_QC/Wendy/qcnn_labels_y_val_01p.npy\")\n",
    "y_test_01  = np.load(\"C:/Users/wenwe/Desktop/Lab_QC/Wendy/qcnn_labels_y_test_01p.npy\")\n",
    "\n",
    "# 轉成 torch tensor，放到 GPU（如果你有 GPU 的話）\n",
    "# device = torch.device(\"cuda\" if torch.cuda.is_available() else \"cpu\")\n",
    "\n",
    "device = torch.device(\"cpu\")\n",
    "\n",
    "y_train_01 = torch.tensor(y_train_01, dtype=torch.float32).to(device)\n",
    "y_val_01   = torch.tensor(y_val_01, dtype=torch.float32).to(device)\n",
    "y_test_01  = torch.tensor(y_test_01, dtype=torch.float32).to(device)"
   ]
  },
  {
   "cell_type": "code",
   "execution_count": 75,
   "metadata": {
    "colab": {
     "base_uri": "https://localhost:8080/",
     "height": 211
    },
    "id": "9erIlZ9sdREC",
    "outputId": "e9e01601-aa3c-475f-a272-d76dfd162842"
   },
   "outputs": [
    {
     "name": "stdout",
     "output_type": "stream",
     "text": [
      "torch.Size([1180, 4096])\n",
      "降維後的資料形狀： torch.Size([1180, 16])\n",
      "降維後的資料形狀： torch.Size([270, 16])\n",
      "降維後的資料形狀： torch.Size([269, 16])\n"
     ]
    }
   ],
   "source": [
    "def torch_pca(X, k):\n",
    "    \"\"\"\n",
    "    X: torch tensor of shape (N, D)，已經 flatten 過\n",
    "    k: 降維後維度\n",
    "    回傳: 降維後資料 (N, k)\n",
    "    \"\"\"\n",
    "    # 中心化\n",
    "    X_mean = X.mean(dim=0, keepdim=True)\n",
    "    X_centered = X - X_mean\n",
    "\n",
    "    # SVD 分解\n",
    "    U, S, Vh = torch.linalg.svd(X_centered, full_matrices=False)\n",
    "\n",
    "    # 投影到前 k 個主成分\n",
    "    return X_centered @ Vh[:k].T\n",
    "\n",
    "# 降維\n",
    "n_components = 16\n",
    "X_train_pca = torch_pca(X_train_flat, n_components)\n",
    "X_val_pca   = torch_pca(X_val_flat, n_components)\n",
    "X_test_pca  = torch_pca(X_test_flat, n_components)\n",
    "\n",
    "print(X_train_flat.shape)\n",
    "print(\"降維後的資料形狀：\", X_train_pca.shape)  # (N_train, 16)\n",
    "print(\"降維後的資料形狀：\", X_val_pca.shape)\n",
    "print(\"降維後的資料形狀：\", X_test_pca.shape)"
   ]
  },
  {
   "cell_type": "code",
   "execution_count": 76,
   "metadata": {
    "id": "RBJ0cEeidaHw"
   },
   "outputs": [],
   "source": [
    "import torch\n",
    "import pennylane as qml\n",
    "\n",
    "n_qubits = 16\n",
    "dev = qml.device(\"default.qubit\", wires=n_qubits)\n",
    "\n",
    "@qml.qnode(dev, interface=\"torch\")\n",
    "def feature_map(x):\n",
    "    \"\"\"\n",
    "    x: torch.Tensor of shape (n_qubits,) 或 (d,) <= n_qubits\n",
    "    \"\"\"\n",
    "    qml.AngleEmbedding(x, wires=range(n_qubits))\n",
    "    return [qml.expval(qml.PauliZ(i)) for i in range(n_qubits)]"
   ]
  },
  {
   "cell_type": "code",
   "execution_count": 77,
   "metadata": {
    "id": "eV7Pei6SdtO0"
   },
   "outputs": [],
   "source": [
    "#測試\n",
    "# x = torch.randn(n_qubits, device='cuda')  # 隨機輸入放在 GPU\n",
    "# out = feature_map(x)\n",
    "# print(out)  # 會是 torch.tensor([...])"
   ]
  },
  {
   "cell_type": "code",
   "execution_count": 78,
   "metadata": {
    "id": "HqnzI1od_ttE"
   },
   "outputs": [],
   "source": [
    "#feature_map_batch = torch.vmap(feature_map)\n",
    "\n",
    "# phi1 = feature_map_batch(X1)\n",
    "# phi2 = feature_map(X2)\n",
    "\n",
    "#K = torch.matmul(phi1, phi2.T) ** 2"
   ]
  },
  {
   "cell_type": "code",
   "execution_count": 79,
   "metadata": {
    "id": "CJUId1qbAXK5"
   },
   "outputs": [],
   "source": [
    "def compute_kernel_batch(X1: torch.Tensor, X2: torch.Tensor) -> torch.Tensor:\n",
    "    \"\"\"\n",
    "    使用 batch feature_map + matmul 計算整體 Gram matrix\n",
    "    \"\"\"\n",
    "    phi1 = torch.stack(torch.vmap(feature_map)(X1))\n",
    "    phi2 = torch.stack(torch.vmap(feature_map)(X2))\n",
    "    return torch.matmul(phi1.T, phi2).to(torch.float32) ** 2"
   ]
  },
  {
   "cell_type": "code",
   "execution_count": 80,
   "metadata": {
    "id": "981C71W3A4kP"
   },
   "outputs": [
    {
     "name": "stdout",
     "output_type": "stream",
     "text": [
      "torch.Size([1180, 1180]) torch.Size([270, 1180]) torch.Size([269, 1180])\n"
     ]
    }
   ],
   "source": [
    "K_train = compute_kernel_batch(X_train_pca, X_train_pca)\n",
    "K_val   = compute_kernel_batch(X_val_pca, X_train_pca)\n",
    "K_test  = compute_kernel_batch(X_test_pca, X_train_pca)\n",
    "\n",
    "print(K_train.shape , K_val.shape, K_test.shape)"
   ]
  },
  {
   "cell_type": "code",
   "execution_count": 81,
   "metadata": {},
   "outputs": [
    {
     "name": "stdout",
     "output_type": "stream",
     "text": [
      "torch.float32 tensor(3.6569e-11) tensor(127.8237)\n"
     ]
    }
   ],
   "source": [
    "print(K_train.dtype, K_train.min(), K_train.max())"
   ]
  },
  {
   "cell_type": "code",
   "execution_count": 82,
   "metadata": {},
   "outputs": [],
   "source": [
    "K_min, K_max = K_train.min(), K_train.max()\n",
    "\n",
    "K_train = (K_train - K_min)/(K_max - K_min)\n",
    "K_val = (K_val- K_min)/(K_max - K_min)\n",
    "K_test = (K_test- K_min)/(K_max - K_min)"
   ]
  },
  {
   "cell_type": "code",
   "execution_count": 83,
   "metadata": {
    "id": "Hf2mAmMNvWkm"
   },
   "outputs": [],
   "source": [
    "# def quantum_kernel_fidelity_torch(x1: torch.Tensor, x2: torch.Tensor) -> torch.Tensor:\n",
    "#     \"\"\"\n",
    "#     x1, x2: 單一樣本（1D torch tensors），shape: (n_features,)\n",
    "#     回傳: torch scalar（kernel 值）\n",
    "#     \"\"\"\n",
    "#     phi1 = feature_map(x1)  # torch tensor\n",
    "#     phi2 = feature_map(x2)\n",
    "#     return torch.dot(phi1, phi2) ** 2"
   ]
  },
  {
   "cell_type": "code",
   "execution_count": 84,
   "metadata": {
    "id": "e_nXa0JAzmz3"
   },
   "outputs": [],
   "source": [
    "# x1 = X_train_pca[0]\n",
    "# x2 = X_train_pca[1]\n",
    "# k_val = quantum_kernel_fidelity_torch(x1, x2)\n",
    "# print(k_val)"
   ]
  },
  {
   "cell_type": "code",
   "execution_count": 85,
   "metadata": {
    "id": "4Az_Z8EqzrFo"
   },
   "outputs": [],
   "source": [
    "# def compute_quantum_kernel_matrix_torch(X1: torch.Tensor,\n",
    "#                                         X2: torch.Tensor,\n",
    "#                                         kernel_func=quantum_kernel_fidelity_torch) -> torch.Tensor:\n",
    "#     \"\"\"\n",
    "#     X1: (N1, d), X2: (N2, d)\n",
    "#     kernel_func: 一個接受兩個向量的 kernel 函數\n",
    "#     回傳: (N1, N2) 的 kernel matrix（torch.Tensor）\n",
    "#     \"\"\"\n",
    "#     N1, N2 = X1.size(0), X2.size(0)\n",
    "#     K = torch.zeros((N1, N2), device=X1.device)  # 保留在 GPU 上（若有）\n",
    "\n",
    "#     for i in range(N1):\n",
    "#         for j in range(N2):\n",
    "#             K[i, j] = kernel_func(X1[i], X2[j])\n",
    "\n",
    "#     return K"
   ]
  },
  {
   "cell_type": "code",
   "execution_count": 86,
   "metadata": {
    "id": "LTz3qVBjA0pK"
   },
   "outputs": [],
   "source": [
    "# K_train = compute_quantum_kernel_matrix_torch(X_train_pca, X_train_pca)\n",
    "# K_val   = compute_quantum_kernel_matrix_torch(X_val_pca, X_train_pca)\n",
    "# K_test  = compute_quantum_kernel_matrix_torch(X_test_pca, X_train_pca)\n",
    "\n",
    "# print(K_train.shape, K_val.shape, K_test.shape)"
   ]
  },
  {
   "cell_type": "markdown",
   "metadata": {},
   "source": [
    "# QSVM"
   ]
  },
  {
   "cell_type": "code",
   "execution_count": 88,
   "metadata": {
    "id": "BXojxbbl1H4v"
   },
   "outputs": [],
   "source": [
    "import torch.nn as nn\n",
    "import torch.nn.functional as F\n",
    "\n",
    "class QSVMClassifier(nn.Module):\n",
    "    def __init__(self, input_dim):\n",
    "        super().__init__()\n",
    "        # self.fc = nn.Linear(input_dim, 1)\n",
    "        self.fc = nn.Sequential(\n",
    "            nn.Linear(input_dim, 64),\n",
    "            nn.ReLU(),\n",
    "            nn.Linear(64, 32),\n",
    "            nn.ReLU(),\n",
    "            nn.Linear(32, 1)\n",
    "        )\n",
    "    def forward(self, x):\n",
    "      return self.fc(x)"
   ]
  },
  {
   "cell_type": "code",
   "execution_count": 89,
   "metadata": {
    "id": "4YmP8JaM8MTQ"
   },
   "outputs": [
    {
     "name": "stderr",
     "output_type": "stream",
     "text": [
      "C:\\Users\\wenwe\\AppData\\Local\\Temp\\ipykernel_33820\\2877454210.py:6: UserWarning: To copy construct from a tensor, it is recommended to use sourceTensor.clone().detach() or sourceTensor.clone().detach().requires_grad_(True), rather than torch.tensor(sourceTensor).\n",
      "  y_train_tensor = torch.tensor(y_train_01, dtype=torch.float32).to(device).view(-1, 1)\n",
      "C:\\Users\\wenwe\\AppData\\Local\\Temp\\ipykernel_33820\\2877454210.py:7: UserWarning: To copy construct from a tensor, it is recommended to use sourceTensor.clone().detach() or sourceTensor.clone().detach().requires_grad_(True), rather than torch.tensor(sourceTensor).\n",
      "  y_val_tensor   = torch.tensor(y_val_01, dtype=torch.float32).to(device).view(-1, 1)\n"
     ]
    },
    {
     "name": "stdout",
     "output_type": "stream",
     "text": [
      "Epoch 0, Loss: 0.6925\n",
      "Epoch 20, Loss: 0.6808\n",
      "Epoch 40, Loss: 0.6702\n",
      "Epoch 60, Loss: 0.6564\n",
      "Epoch 80, Loss: 0.6388\n"
     ]
    }
   ],
   "source": [
    "model = QSVMClassifier(input_dim=K_train.shape[1]).to(device)\n",
    "optimizer = torch.optim.Adam(model.parameters(), lr=0.01)\n",
    "loss_fn = nn.BCEWithLogitsLoss()\n",
    "\n",
    "# 將標籤也轉成 tensor\n",
    "y_train_tensor = torch.tensor(y_train_01, dtype=torch.float32).to(device).view(-1, 1)\n",
    "y_val_tensor   = torch.tensor(y_val_01, dtype=torch.float32).to(device).view(-1, 1)\n",
    "\n",
    "# 開始訓練\n",
    "n_epochs = 100\n",
    "for epoch in range(n_epochs):\n",
    "    model.train()\n",
    "    preds = model(K_train)  # 輸入 kernel matrix 的每一列\n",
    "    loss = loss_fn(preds, y_train_tensor)\n",
    "\n",
    "    optimizer.zero_grad()\n",
    "    loss.backward()\n",
    "    optimizer.step()\n",
    "\n",
    "    if epoch % 20 == 0:\n",
    "        print(f\"Epoch {epoch}, Loss: {loss.item():.4f}\")\n"
   ]
  },
  {
   "cell_type": "code",
   "execution_count": 90,
   "metadata": {},
   "outputs": [
    {
     "name": "stdout",
     "output_type": "stream",
     "text": [
      "torch.Size([1180, 1])\n"
     ]
    }
   ],
   "source": [
    "print(y_train_tensor.shape)"
   ]
  },
  {
   "cell_type": "code",
   "execution_count": 91,
   "metadata": {},
   "outputs": [
    {
     "name": "stdout",
     "output_type": "stream",
     "text": [
      "0.0 1.0\n"
     ]
    }
   ],
   "source": [
    "print(K_train.min().item(), K_train.max().item())"
   ]
  },
  {
   "cell_type": "code",
   "execution_count": 92,
   "metadata": {},
   "outputs": [
    {
     "name": "stderr",
     "output_type": "stream",
     "text": [
      "C:\\Users\\wenwe\\AppData\\Local\\Temp\\ipykernel_33820\\4178857608.py:1: UserWarning: To copy construct from a tensor, it is recommended to use sourceTensor.clone().detach() or sourceTensor.clone().detach().requires_grad_(True), rather than torch.tensor(sourceTensor).\n",
      "  y_val_tensor   = torch.tensor(y_test_01, dtype=torch.float32).to(device).view(-1, 1)\n"
     ]
    }
   ],
   "source": [
    "y_val_tensor   = torch.tensor(y_test_01, dtype=torch.float32).to(device).view(-1, 1)"
   ]
  },
  {
   "cell_type": "code",
   "execution_count": 93,
   "metadata": {
    "id": "L0Leao8h8Wg5"
   },
   "outputs": [
    {
     "name": "stdout",
     "output_type": "stream",
     "text": [
      "Validation Accuracy:  0.5148\n",
      "Test Accuracy:  0.5093\n"
     ]
    }
   ],
   "source": [
    "from sklearn.metrics import accuracy_score\n",
    "\n",
    "model.eval()\n",
    "with torch.no_grad():\n",
    "    val_logits = model(K_val)\n",
    "    test_logits = model(K_test)\n",
    "\n",
    "    val_probs = torch.sigmoid(val_logits)\n",
    "    test_probs = torch.sigmoid(test_logits)\n",
    "\n",
    "    val_preds = (val_probs > 0.5).int().cpu().numpy()\n",
    "    test_preds = (test_probs > 0.5).int().cpu().numpy()\n",
    "\n",
    "    y_val_true = y_val_01.cpu().numpy()\n",
    "    y_test_true = y_test_01.cpu().numpy()\n",
    "    \n",
    "    val_acc = accuracy_score(y_val_true, val_preds)\n",
    "    test_acc = accuracy_score(y_test_true, test_preds)\n",
    "\n",
    "print(f\"Validation Accuracy: {val_acc: .4f}\" )\n",
    "print(f\"Test Accuracy: {test_acc : .4f}\")"
   ]
  }
 ],
 "metadata": {
  "colab": {
   "provenance": []
  },
  "kernelspec": {
   "display_name": "QSVM(conda)",
   "language": "python",
   "name": "qsvm_env"
  },
  "language_info": {
   "codemirror_mode": {
    "name": "ipython",
    "version": 3
   },
   "file_extension": ".py",
   "mimetype": "text/x-python",
   "name": "python",
   "nbconvert_exporter": "python",
   "pygments_lexer": "ipython3",
   "version": "3.10.16"
  }
 },
 "nbformat": 4,
 "nbformat_minor": 4
}
