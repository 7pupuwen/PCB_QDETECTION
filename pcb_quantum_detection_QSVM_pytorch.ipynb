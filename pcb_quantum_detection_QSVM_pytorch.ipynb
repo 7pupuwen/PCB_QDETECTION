{
 "cells": [
  {
   "cell_type": "code",
   "execution_count": null,
   "metadata": {
    "colab": {
     "base_uri": "https://localhost:8080/"
    },
    "id": "9DA9oB22raQ4",
    "outputId": "4cdb9752-782d-4fb8-93b6-e28647c24874"
   },
   "outputs": [
    {
     "name": "stdout",
     "output_type": "stream",
     "text": [
      "Requirement already satisfied: torch in /usr/local/lib/python3.11/dist-packages (2.6.0+cu124)\n",
      "Requirement already satisfied: torchaudio in /usr/local/lib/python3.11/dist-packages (2.6.0+cu124)\n",
      "Requirement already satisfied: torchvision in /usr/local/lib/python3.11/dist-packages (0.21.0+cu124)\n",
      "Collecting torchtext\n",
      "  Downloading torchtext-0.18.0-cp311-cp311-manylinux1_x86_64.whl.metadata (7.9 kB)\n",
      "Collecting torchdata\n",
      "  Downloading torchdata-0.11.0-py3-none-any.whl.metadata (6.3 kB)\n",
      "Requirement already satisfied: filelock in /usr/local/lib/python3.11/dist-packages (from torch) (3.18.0)\n",
      "Requirement already satisfied: typing-extensions>=4.10.0 in /usr/local/lib/python3.11/dist-packages (from torch) (4.12.2)\n",
      "Requirement already satisfied: networkx in /usr/local/lib/python3.11/dist-packages (from torch) (3.4.2)\n",
      "Requirement already satisfied: jinja2 in /usr/local/lib/python3.11/dist-packages (from torch) (3.1.6)\n",
      "Requirement already satisfied: fsspec in /usr/local/lib/python3.11/dist-packages (from torch) (2025.3.0)\n",
      "Collecting nvidia-cuda-nvrtc-cu12==12.4.127 (from torch)\n",
      "  Downloading nvidia_cuda_nvrtc_cu12-12.4.127-py3-none-manylinux2014_x86_64.whl.metadata (1.5 kB)\n",
      "Collecting nvidia-cuda-runtime-cu12==12.4.127 (from torch)\n",
      "  Downloading nvidia_cuda_runtime_cu12-12.4.127-py3-none-manylinux2014_x86_64.whl.metadata (1.5 kB)\n",
      "Collecting nvidia-cuda-cupti-cu12==12.4.127 (from torch)\n",
      "  Downloading nvidia_cuda_cupti_cu12-12.4.127-py3-none-manylinux2014_x86_64.whl.metadata (1.6 kB)\n",
      "Collecting nvidia-cudnn-cu12==9.1.0.70 (from torch)\n",
      "  Downloading nvidia_cudnn_cu12-9.1.0.70-py3-none-manylinux2014_x86_64.whl.metadata (1.6 kB)\n",
      "Collecting nvidia-cublas-cu12==12.4.5.8 (from torch)\n",
      "  Downloading nvidia_cublas_cu12-12.4.5.8-py3-none-manylinux2014_x86_64.whl.metadata (1.5 kB)\n",
      "Collecting nvidia-cufft-cu12==11.2.1.3 (from torch)\n",
      "  Downloading nvidia_cufft_cu12-11.2.1.3-py3-none-manylinux2014_x86_64.whl.metadata (1.5 kB)\n",
      "Collecting nvidia-curand-cu12==10.3.5.147 (from torch)\n",
      "  Downloading nvidia_curand_cu12-10.3.5.147-py3-none-manylinux2014_x86_64.whl.metadata (1.5 kB)\n",
      "Collecting nvidia-cusolver-cu12==11.6.1.9 (from torch)\n",
      "  Downloading nvidia_cusolver_cu12-11.6.1.9-py3-none-manylinux2014_x86_64.whl.metadata (1.6 kB)\n",
      "Collecting nvidia-cusparse-cu12==12.3.1.170 (from torch)\n",
      "  Downloading nvidia_cusparse_cu12-12.3.1.170-py3-none-manylinux2014_x86_64.whl.metadata (1.6 kB)\n",
      "Requirement already satisfied: nvidia-cusparselt-cu12==0.6.2 in /usr/local/lib/python3.11/dist-packages (from torch) (0.6.2)\n",
      "Requirement already satisfied: nvidia-nccl-cu12==2.21.5 in /usr/local/lib/python3.11/dist-packages (from torch) (2.21.5)\n",
      "Requirement already satisfied: nvidia-nvtx-cu12==12.4.127 in /usr/local/lib/python3.11/dist-packages (from torch) (12.4.127)\n",
      "Collecting nvidia-nvjitlink-cu12==12.4.127 (from torch)\n",
      "  Downloading nvidia_nvjitlink_cu12-12.4.127-py3-none-manylinux2014_x86_64.whl.metadata (1.5 kB)\n",
      "Requirement already satisfied: triton==3.2.0 in /usr/local/lib/python3.11/dist-packages (from torch) (3.2.0)\n",
      "Requirement already satisfied: sympy==1.13.1 in /usr/local/lib/python3.11/dist-packages (from torch) (1.13.1)\n",
      "Requirement already satisfied: mpmath<1.4,>=1.1.0 in /usr/local/lib/python3.11/dist-packages (from sympy==1.13.1->torch) (1.3.0)\n",
      "Requirement already satisfied: numpy in /usr/local/lib/python3.11/dist-packages (from torchvision) (2.0.2)\n",
      "Requirement already satisfied: pillow!=8.3.*,>=5.3.0 in /usr/local/lib/python3.11/dist-packages (from torchvision) (11.1.0)\n",
      "Requirement already satisfied: tqdm in /usr/local/lib/python3.11/dist-packages (from torchtext) (4.67.1)\n",
      "Requirement already satisfied: requests in /usr/local/lib/python3.11/dist-packages (from torchtext) (2.32.3)\n",
      "Requirement already satisfied: urllib3>=1.25 in /usr/local/lib/python3.11/dist-packages (from torchdata) (2.3.0)\n",
      "Requirement already satisfied: MarkupSafe>=2.0 in /usr/local/lib/python3.11/dist-packages (from jinja2->torch) (3.0.2)\n",
      "Requirement already satisfied: charset-normalizer<4,>=2 in /usr/local/lib/python3.11/dist-packages (from requests->torchtext) (3.4.1)\n",
      "Requirement already satisfied: idna<4,>=2.5 in /usr/local/lib/python3.11/dist-packages (from requests->torchtext) (3.10)\n",
      "Requirement already satisfied: certifi>=2017.4.17 in /usr/local/lib/python3.11/dist-packages (from requests->torchtext) (2025.1.31)\n",
      "Downloading nvidia_cublas_cu12-12.4.5.8-py3-none-manylinux2014_x86_64.whl (363.4 MB)\n",
      "\u001b[2K   \u001b[90m━━━━━━━━━━━━━━━━━━━━━━━━━━━━━━━━━━━━━━━━\u001b[0m \u001b[32m363.4/363.4 MB\u001b[0m \u001b[31m3.8 MB/s\u001b[0m eta \u001b[36m0:00:00\u001b[0m\n",
      "\u001b[?25hDownloading nvidia_cuda_cupti_cu12-12.4.127-py3-none-manylinux2014_x86_64.whl (13.8 MB)\n",
      "\u001b[2K   \u001b[90m━━━━━━━━━━━━━━━━━━━━━━━━━━━━━━━━━━━━━━━━\u001b[0m \u001b[32m13.8/13.8 MB\u001b[0m \u001b[31m51.1 MB/s\u001b[0m eta \u001b[36m0:00:00\u001b[0m\n",
      "\u001b[?25hDownloading nvidia_cuda_nvrtc_cu12-12.4.127-py3-none-manylinux2014_x86_64.whl (24.6 MB)\n",
      "\u001b[2K   \u001b[90m━━━━━━━━━━━━━━━━━━━━━━━━━━━━━━━━━━━━━━━━\u001b[0m \u001b[32m24.6/24.6 MB\u001b[0m \u001b[31m56.9 MB/s\u001b[0m eta \u001b[36m0:00:00\u001b[0m\n",
      "\u001b[?25hDownloading nvidia_cuda_runtime_cu12-12.4.127-py3-none-manylinux2014_x86_64.whl (883 kB)\n",
      "\u001b[2K   \u001b[90m━━━━━━━━━━━━━━━━━━━━━━━━━━━━━━━━━━━━━━━━\u001b[0m \u001b[32m883.7/883.7 kB\u001b[0m \u001b[31m33.6 MB/s\u001b[0m eta \u001b[36m0:00:00\u001b[0m\n",
      "\u001b[?25hDownloading nvidia_cudnn_cu12-9.1.0.70-py3-none-manylinux2014_x86_64.whl (664.8 MB)\n",
      "\u001b[2K   \u001b[90m━━━━━━━━━━━━━━━━━━━━━━━━━━━━━━━━━━━━━━━━\u001b[0m \u001b[32m664.8/664.8 MB\u001b[0m \u001b[31m2.6 MB/s\u001b[0m eta \u001b[36m0:00:00\u001b[0m\n",
      "\u001b[?25hDownloading nvidia_cufft_cu12-11.2.1.3-py3-none-manylinux2014_x86_64.whl (211.5 MB)\n",
      "\u001b[2K   \u001b[90m━━━━━━━━━━━━━━━━━━━━━━━━━━━━━━━━━━━━━━━━\u001b[0m \u001b[32m211.5/211.5 MB\u001b[0m \u001b[31m4.5 MB/s\u001b[0m eta \u001b[36m0:00:00\u001b[0m\n",
      "\u001b[?25hDownloading nvidia_curand_cu12-10.3.5.147-py3-none-manylinux2014_x86_64.whl (56.3 MB)\n",
      "\u001b[2K   \u001b[90m━━━━━━━━━━━━━━━━━━━━━━━━━━━━━━━━━━━━━━━━\u001b[0m \u001b[32m56.3/56.3 MB\u001b[0m \u001b[31m11.5 MB/s\u001b[0m eta \u001b[36m0:00:00\u001b[0m\n",
      "\u001b[?25hDownloading nvidia_cusolver_cu12-11.6.1.9-py3-none-manylinux2014_x86_64.whl (127.9 MB)\n",
      "\u001b[2K   \u001b[90m━━━━━━━━━━━━━━━━━━━━━━━━━━━━━━━━━━━━━━━━\u001b[0m \u001b[32m127.9/127.9 MB\u001b[0m \u001b[31m7.4 MB/s\u001b[0m eta \u001b[36m0:00:00\u001b[0m\n",
      "\u001b[?25hDownloading nvidia_cusparse_cu12-12.3.1.170-py3-none-manylinux2014_x86_64.whl (207.5 MB)\n",
      "\u001b[2K   \u001b[90m━━━━━━━━━━━━━━━━━━━━━━━━━━━━━━━━━━━━━━━━\u001b[0m \u001b[32m207.5/207.5 MB\u001b[0m \u001b[31m5.6 MB/s\u001b[0m eta \u001b[36m0:00:00\u001b[0m\n",
      "\u001b[?25hDownloading nvidia_nvjitlink_cu12-12.4.127-py3-none-manylinux2014_x86_64.whl (21.1 MB)\n",
      "\u001b[2K   \u001b[90m━━━━━━━━━━━━━━━━━━━━━━━━━━━━━━━━━━━━━━━━\u001b[0m \u001b[32m21.1/21.1 MB\u001b[0m \u001b[31m54.1 MB/s\u001b[0m eta \u001b[36m0:00:00\u001b[0m\n",
      "\u001b[?25hDownloading torchtext-0.18.0-cp311-cp311-manylinux1_x86_64.whl (2.0 MB)\n",
      "\u001b[2K   \u001b[90m━━━━━━━━━━━━━━━━━━━━━━━━━━━━━━━━━━━━━━━━\u001b[0m \u001b[32m2.0/2.0 MB\u001b[0m \u001b[31m54.1 MB/s\u001b[0m eta \u001b[36m0:00:00\u001b[0m\n",
      "\u001b[?25hDownloading torchdata-0.11.0-py3-none-any.whl (61 kB)\n",
      "\u001b[2K   \u001b[90m━━━━━━━━━━━━━━━━━━━━━━━━━━━━━━━━━━━━━━━━\u001b[0m \u001b[32m62.0/62.0 kB\u001b[0m \u001b[31m4.3 MB/s\u001b[0m eta \u001b[36m0:00:00\u001b[0m\n",
      "\u001b[?25hInstalling collected packages: nvidia-nvjitlink-cu12, nvidia-curand-cu12, nvidia-cufft-cu12, nvidia-cuda-runtime-cu12, nvidia-cuda-nvrtc-cu12, nvidia-cuda-cupti-cu12, nvidia-cublas-cu12, nvidia-cusparse-cu12, nvidia-cudnn-cu12, nvidia-cusolver-cu12, torchtext, torchdata\n",
      "  Attempting uninstall: nvidia-nvjitlink-cu12\n",
      "    Found existing installation: nvidia-nvjitlink-cu12 12.5.82\n",
      "    Uninstalling nvidia-nvjitlink-cu12-12.5.82:\n",
      "      Successfully uninstalled nvidia-nvjitlink-cu12-12.5.82\n",
      "  Attempting uninstall: nvidia-curand-cu12\n",
      "    Found existing installation: nvidia-curand-cu12 10.3.6.82\n",
      "    Uninstalling nvidia-curand-cu12-10.3.6.82:\n",
      "      Successfully uninstalled nvidia-curand-cu12-10.3.6.82\n",
      "  Attempting uninstall: nvidia-cufft-cu12\n",
      "    Found existing installation: nvidia-cufft-cu12 11.2.3.61\n",
      "    Uninstalling nvidia-cufft-cu12-11.2.3.61:\n",
      "      Successfully uninstalled nvidia-cufft-cu12-11.2.3.61\n",
      "  Attempting uninstall: nvidia-cuda-runtime-cu12\n",
      "    Found existing installation: nvidia-cuda-runtime-cu12 12.5.82\n",
      "    Uninstalling nvidia-cuda-runtime-cu12-12.5.82:\n",
      "      Successfully uninstalled nvidia-cuda-runtime-cu12-12.5.82\n",
      "  Attempting uninstall: nvidia-cuda-nvrtc-cu12\n",
      "    Found existing installation: nvidia-cuda-nvrtc-cu12 12.5.82\n",
      "    Uninstalling nvidia-cuda-nvrtc-cu12-12.5.82:\n",
      "      Successfully uninstalled nvidia-cuda-nvrtc-cu12-12.5.82\n",
      "  Attempting uninstall: nvidia-cuda-cupti-cu12\n",
      "    Found existing installation: nvidia-cuda-cupti-cu12 12.5.82\n",
      "    Uninstalling nvidia-cuda-cupti-cu12-12.5.82:\n",
      "      Successfully uninstalled nvidia-cuda-cupti-cu12-12.5.82\n",
      "  Attempting uninstall: nvidia-cublas-cu12\n",
      "    Found existing installation: nvidia-cublas-cu12 12.5.3.2\n",
      "    Uninstalling nvidia-cublas-cu12-12.5.3.2:\n",
      "      Successfully uninstalled nvidia-cublas-cu12-12.5.3.2\n",
      "  Attempting uninstall: nvidia-cusparse-cu12\n",
      "    Found existing installation: nvidia-cusparse-cu12 12.5.1.3\n",
      "    Uninstalling nvidia-cusparse-cu12-12.5.1.3:\n",
      "      Successfully uninstalled nvidia-cusparse-cu12-12.5.1.3\n",
      "  Attempting uninstall: nvidia-cudnn-cu12\n",
      "    Found existing installation: nvidia-cudnn-cu12 9.3.0.75\n",
      "    Uninstalling nvidia-cudnn-cu12-9.3.0.75:\n",
      "      Successfully uninstalled nvidia-cudnn-cu12-9.3.0.75\n",
      "  Attempting uninstall: nvidia-cusolver-cu12\n",
      "    Found existing installation: nvidia-cusolver-cu12 11.6.3.83\n",
      "    Uninstalling nvidia-cusolver-cu12-11.6.3.83:\n",
      "      Successfully uninstalled nvidia-cusolver-cu12-11.6.3.83\n",
      "Successfully installed nvidia-cublas-cu12-12.4.5.8 nvidia-cuda-cupti-cu12-12.4.127 nvidia-cuda-nvrtc-cu12-12.4.127 nvidia-cuda-runtime-cu12-12.4.127 nvidia-cudnn-cu12-9.1.0.70 nvidia-cufft-cu12-11.2.1.3 nvidia-curand-cu12-10.3.5.147 nvidia-cusolver-cu12-11.6.1.9 nvidia-cusparse-cu12-12.3.1.170 nvidia-nvjitlink-cu12-12.4.127 torchdata-0.11.0 torchtext-0.18.0\n"
     ]
    }
   ],
   "source": [
    "#colab 版本\n",
    "\n",
    "#!pip3 install torch torchaudio torchvision torchtext torchdata"
   ]
  },
  {
   "cell_type": "code",
   "execution_count": null,
   "metadata": {
    "id": "j-ZYHy-JuS4r"
   },
   "outputs": [],
   "source": [
    "#office computer\n",
    "\n",
    "# pip3 install torch torchvision torchaudio --index-url https://download.pytorch.org/whl/cu118"
   ]
  },
  {
   "cell_type": "code",
   "execution_count": 5,
   "metadata": {
    "colab": {
     "base_uri": "https://localhost:8080/",
     "height": 332
    },
    "id": "YrZU7PFhaoWP",
    "outputId": "1431ab9d-7485-40b3-b0c3-0a829ac6c5e1"
   },
   "outputs": [],
   "source": [
    "import numpy as np\n",
    "import torch\n",
    "\n",
    "# 假設你有三個檔案：train, val, test\n",
    "X_train_01 = np.load(\"C:/Users/wenwe/Desktop/Lab_QC/Wendy/qcnn_features_X_train_01.npy\")\n",
    "X_val_01   = np.load(\"C:/Users/wenwe/Desktop/Lab_QC/Wendy/qcnn_features_X_val_01.npy\")\n",
    "X_test_01  = np.load(\"C:/Users/wenwe/Desktop/Lab_QC/Wendy/qcnn_features_X_test_01.npy\")\n",
    "\n",
    "# 轉成 torch tensor，放到 GPU（如果你有 GPU 的話）\n",
    "device = torch.device(\"cuda\" if torch.cuda.is_available() else \"cpu\")\n",
    "\n",
    "X_train_01 = torch.tensor(X_train_01, dtype=torch.float32).to(device)\n",
    "X_val_01   = torch.tensor(X_val_01, dtype=torch.float32).to(device)\n",
    "X_test_01  = torch.tensor(X_test_01, dtype=torch.float32).to(device)\n",
    "\n",
    "# Flatten 成 2D（如果需要的話）\n",
    "X_train_flat = X_train_01.view(X_train_01.size(0), -1)\n",
    "X_val_flat   = X_val_01.view(X_val_01.size(0), -1)\n",
    "X_test_flat  = X_test_01.view(X_test_01.size(0), -1)"
   ]
  },
  {
   "cell_type": "code",
   "execution_count": 92,
   "metadata": {},
   "outputs": [],
   "source": [
    "import numpy as np\n",
    "import torch\n",
    "\n",
    "# 假設你有三個檔案：train, val, test\n",
    "y_train_01 = np.load(\"C:/Users/wenwe/Desktop/Lab_QC/Wendy/qcnn_labels_y_train_01.npy\")\n",
    "y_val_01   = np.load(\"C:/Users/wenwe/Desktop/Lab_QC/Wendy/qcnn_labels_y_val_01.npy\")\n",
    "y_test_01  = np.load(\"C:/Users/wenwe/Desktop/Lab_QC/Wendy/qcnn_labels_y_test_01.npy\")\n",
    "\n",
    "# 轉成 torch tensor，放到 GPU（如果你有 GPU 的話）\n",
    "device = torch.device(\"cuda\" if torch.cuda.is_available() else \"cpu\")\n",
    "\n",
    "y_train_01 = torch.tensor(y_train_01, dtype=torch.float32).to(device)\n",
    "y_val_01   = torch.tensor(y_val_01, dtype=torch.float32).to(device)\n",
    "y_test_01  = torch.tensor(y_test_01, dtype=torch.float32).to(device)"
   ]
  },
  {
   "cell_type": "code",
   "execution_count": 9,
   "metadata": {
    "colab": {
     "base_uri": "https://localhost:8080/",
     "height": 211
    },
    "id": "9erIlZ9sdREC",
    "outputId": "e9e01601-aa3c-475f-a272-d76dfd162842"
   },
   "outputs": [
    {
     "name": "stdout",
     "output_type": "stream",
     "text": [
      "降維後的資料形狀： torch.Size([679, 16])\n",
      "降維後的資料形狀： torch.Size([270, 16])\n",
      "降維後的資料形狀： torch.Size([269, 16])\n"
     ]
    }
   ],
   "source": [
    "def torch_pca(X, k):\n",
    "    \"\"\"\n",
    "    X: torch tensor of shape (N, D)，已經 flatten 過\n",
    "    k: 降維後維度\n",
    "    回傳: 降維後資料 (N, k)\n",
    "    \"\"\"\n",
    "    # 中心化\n",
    "    X_mean = X.mean(dim=0, keepdim=True)\n",
    "    X_centered = X - X_mean\n",
    "\n",
    "    # SVD 分解\n",
    "    U, S, Vh = torch.linalg.svd(X_centered, full_matrices=False)\n",
    "\n",
    "    # 投影到前 k 個主成分\n",
    "    return X_centered @ Vh[:k].T\n",
    "\n",
    "# 降維\n",
    "n_components = 16\n",
    "X_train_pca = torch_pca(X_train_flat, n_components)\n",
    "X_val_pca   = torch_pca(X_val_flat, n_components)\n",
    "X_test_pca  = torch_pca(X_test_flat, n_components)\n",
    "\n",
    "print(\"降維後的資料形狀：\", X_train_pca.shape)  # (N_train, 16)\n",
    "print(\"降維後的資料形狀：\", X_val_pca.shape)\n",
    "print(\"降維後的資料形狀：\", X_test_pca.shape)"
   ]
  },
  {
   "cell_type": "code",
   "execution_count": 56,
   "metadata": {
    "id": "RBJ0cEeidaHw"
   },
   "outputs": [],
   "source": [
    "import torch\n",
    "import pennylane as qml\n",
    "\n",
    "n_qubits = 16\n",
    "dev = qml.device(\"default.qubit\", wires=n_qubits)\n",
    "\n",
    "@qml.qnode(dev, interface=\"torch\")\n",
    "def feature_map(x):\n",
    "    \"\"\"\n",
    "    x: torch.Tensor of shape (n_qubits,) 或 (d,) <= n_qubits\n",
    "    \"\"\"\n",
    "    qml.AngleEmbedding(x, wires=range(n_qubits))\n",
    "    return [qml.expval(qml.PauliZ(i)) for i in range(n_qubits)]"
   ]
  },
  {
   "cell_type": "code",
   "execution_count": 58,
   "metadata": {
    "id": "eV7Pei6SdtO0"
   },
   "outputs": [
    {
     "name": "stdout",
     "output_type": "stream",
     "text": [
      "[tensor(0.7360, device='cuda:0', dtype=torch.float64), tensor(-0.7987, device='cuda:0', dtype=torch.float64), tensor(0.9251, device='cuda:0', dtype=torch.float64), tensor(0.7432, device='cuda:0', dtype=torch.float64), tensor(0.7657, device='cuda:0', dtype=torch.float64), tensor(0.8086, device='cuda:0', dtype=torch.float64), tensor(0.9652, device='cuda:0', dtype=torch.float64), tensor(0.9282, device='cuda:0', dtype=torch.float64), tensor(0.3001, device='cuda:0', dtype=torch.float64), tensor(0.8599, device='cuda:0', dtype=torch.float64), tensor(0.3294, device='cuda:0', dtype=torch.float64), tensor(0.9963, device='cuda:0', dtype=torch.float64), tensor(0.2336, device='cuda:0', dtype=torch.float64), tensor(0.4859, device='cuda:0', dtype=torch.float64), tensor(0.4954, device='cuda:0', dtype=torch.float64), tensor(0.3334, device='cuda:0', dtype=torch.float64)]\n"
     ]
    }
   ],
   "source": [
    "#測試\n",
    "x = torch.randn(n_qubits, device='cuda')  # 隨機輸入放在 GPU\n",
    "out = feature_map(x)\n",
    "print(out)  # 會是 torch.tensor([...])"
   ]
  },
  {
   "cell_type": "code",
   "execution_count": null,
   "metadata": {
    "id": "HqnzI1od_ttE"
   },
   "outputs": [],
   "source": [
    "#feature_map_batch = torch.vmap(feature_map)\n",
    "\n",
    "# phi1 = feature_map_batch(X1)\n",
    "# phi2 = feature_map(X2)\n",
    "\n",
    "#K = torch.matmul(phi1, phi2.T) ** 2"
   ]
  },
  {
   "cell_type": "code",
   "execution_count": 110,
   "metadata": {
    "id": "CJUId1qbAXK5"
   },
   "outputs": [],
   "source": [
    "def compute_kernel_batch(X1: torch.Tensor, X2: torch.Tensor) -> torch.Tensor:\n",
    "    \"\"\"\n",
    "    使用 batch feature_map + matmul 計算整體 Gram matrix\n",
    "    \"\"\"\n",
    "    phi1 = torch.stack(torch.vmap(feature_map)(X1))\n",
    "    phi2 = torch.stack(torch.vmap(feature_map)(X2))\n",
    "    return torch.matmul(phi1.T, phi2).to(torch.float32) ** 2"
   ]
  },
  {
   "cell_type": "code",
   "execution_count": 112,
   "metadata": {
    "id": "981C71W3A4kP"
   },
   "outputs": [
    {
     "name": "stdout",
     "output_type": "stream",
     "text": [
      "torch.Size([679, 679]) torch.Size([270, 679]) torch.Size([269, 679])\n"
     ]
    }
   ],
   "source": [
    "K_train = compute_kernel_batch(X_train_pca, X_train_pca)\n",
    "K_val   = compute_kernel_batch(X_val_pca, X_train_pca)\n",
    "K_test  = compute_kernel_batch(X_test_pca, X_train_pca)\n",
    "\n",
    "print(K_train.shape , K_val.shape, K_test.shape)"
   ]
  },
  {
   "cell_type": "code",
   "execution_count": 113,
   "metadata": {},
   "outputs": [
    {
     "name": "stdout",
     "output_type": "stream",
     "text": [
      "torch.float32\n"
     ]
    }
   ],
   "source": [
    "print(K_train.dtype)"
   ]
  },
  {
   "cell_type": "code",
   "execution_count": 136,
   "metadata": {},
   "outputs": [],
   "source": [
    "K_min, K_max = K_train.min(), K_train.max()\n",
    "\n",
    "K_train = (K_train - K_min)/(K_max - K_min)\n",
    "K_val = (K_val- K_min)/(K_max - K_min)\n",
    "K_test = (K_test- K_min)/(K_max - K_min)"
   ]
  },
  {
   "cell_type": "code",
   "execution_count": null,
   "metadata": {
    "id": "Hf2mAmMNvWkm"
   },
   "outputs": [],
   "source": [
    "# def quantum_kernel_fidelity_torch(x1: torch.Tensor, x2: torch.Tensor) -> torch.Tensor:\n",
    "#     \"\"\"\n",
    "#     x1, x2: 單一樣本（1D torch tensors），shape: (n_features,)\n",
    "#     回傳: torch scalar（kernel 值）\n",
    "#     \"\"\"\n",
    "#     phi1 = feature_map(x1)  # torch tensor\n",
    "#     phi2 = feature_map(x2)\n",
    "#     return torch.dot(phi1, phi2) ** 2"
   ]
  },
  {
   "cell_type": "code",
   "execution_count": null,
   "metadata": {
    "id": "e_nXa0JAzmz3"
   },
   "outputs": [],
   "source": [
    "# x1 = X_train_pca[0]\n",
    "# x2 = X_train_pca[1]\n",
    "# k_val = quantum_kernel_fidelity_torch(x1, x2)\n",
    "# print(k_val)"
   ]
  },
  {
   "cell_type": "code",
   "execution_count": null,
   "metadata": {
    "id": "4Az_Z8EqzrFo"
   },
   "outputs": [],
   "source": [
    "# def compute_quantum_kernel_matrix_torch(X1: torch.Tensor,\n",
    "#                                         X2: torch.Tensor,\n",
    "#                                         kernel_func=quantum_kernel_fidelity_torch) -> torch.Tensor:\n",
    "#     \"\"\"\n",
    "#     X1: (N1, d), X2: (N2, d)\n",
    "#     kernel_func: 一個接受兩個向量的 kernel 函數\n",
    "#     回傳: (N1, N2) 的 kernel matrix（torch.Tensor）\n",
    "#     \"\"\"\n",
    "#     N1, N2 = X1.size(0), X2.size(0)\n",
    "#     K = torch.zeros((N1, N2), device=X1.device)  # 保留在 GPU 上（若有）\n",
    "\n",
    "#     for i in range(N1):\n",
    "#         for j in range(N2):\n",
    "#             K[i, j] = kernel_func(X1[i], X2[j])\n",
    "\n",
    "#     return K"
   ]
  },
  {
   "cell_type": "code",
   "execution_count": null,
   "metadata": {
    "id": "LTz3qVBjA0pK"
   },
   "outputs": [],
   "source": [
    "# K_train = compute_quantum_kernel_matrix_torch(X_train_pca, X_train_pca)\n",
    "# K_val   = compute_quantum_kernel_matrix_torch(X_val_pca, X_train_pca)\n",
    "# K_test  = compute_quantum_kernel_matrix_torch(X_test_pca, X_train_pca)\n",
    "\n",
    "# print(K_train.shape, K_val.shape, K_test.shape)"
   ]
  },
  {
   "cell_type": "markdown",
   "metadata": {},
   "source": [
    "# QSVM"
   ]
  },
  {
   "cell_type": "code",
   "execution_count": 190,
   "metadata": {
    "id": "BXojxbbl1H4v"
   },
   "outputs": [],
   "source": [
    "import torch.nn as nn\n",
    "import torch.nn.functional as F\n",
    "\n",
    "class QSVMClassifier(nn.Module):\n",
    "    def __init__(self, input_dim):\n",
    "        super().__init__()\n",
    "        # self.fc = nn.Linear(input_dim, 1)\n",
    "        self.fc = nn.Sequential(\n",
    "            nn.Linear(input_dim, 64),\n",
    "            nn.ReLU(),\n",
    "            nn.Linear(64, 32),\n",
    "            nn.ReLU(),\n",
    "            nn.Linear(32, 1)\n",
    "        )\n",
    "    def forward(self, x):\n",
    "      return self.fc(x)"
   ]
  },
  {
   "cell_type": "code",
   "execution_count": 196,
   "metadata": {
    "id": "4YmP8JaM8MTQ"
   },
   "outputs": [
    {
     "name": "stderr",
     "output_type": "stream",
     "text": [
      "C:\\Users\\wenwe\\AppData\\Local\\Temp\\ipykernel_34424\\2877454210.py:6: UserWarning: To copy construct from a tensor, it is recommended to use sourceTensor.clone().detach() or sourceTensor.clone().detach().requires_grad_(True), rather than torch.tensor(sourceTensor).\n",
      "  y_train_tensor = torch.tensor(y_train_01, dtype=torch.float32).to(device).view(-1, 1)\n",
      "C:\\Users\\wenwe\\AppData\\Local\\Temp\\ipykernel_34424\\2877454210.py:7: UserWarning: To copy construct from a tensor, it is recommended to use sourceTensor.clone().detach() or sourceTensor.clone().detach().requires_grad_(True), rather than torch.tensor(sourceTensor).\n",
      "  y_val_tensor   = torch.tensor(y_val_01, dtype=torch.float32).to(device).view(-1, 1)\n"
     ]
    },
    {
     "name": "stdout",
     "output_type": "stream",
     "text": [
      "Epoch 0, Loss: 0.6930\n",
      "Epoch 20, Loss: 0.6428\n",
      "Epoch 40, Loss: 0.6085\n",
      "Epoch 60, Loss: 0.5910\n",
      "Epoch 80, Loss: 0.5851\n"
     ]
    }
   ],
   "source": [
    "model = QSVMClassifier(input_dim=K_train.shape[1]).to(device)\n",
    "optimizer = torch.optim.Adam(model.parameters(), lr=0.01)\n",
    "loss_fn = nn.BCEWithLogitsLoss()\n",
    "\n",
    "# 將標籤也轉成 tensor\n",
    "y_train_tensor = torch.tensor(y_train_01, dtype=torch.float32).to(device).view(-1, 1)\n",
    "y_val_tensor   = torch.tensor(y_val_01, dtype=torch.float32).to(device).view(-1, 1)\n",
    "\n",
    "# 開始訓練\n",
    "n_epochs = 100\n",
    "for epoch in range(n_epochs):\n",
    "    model.train()\n",
    "    preds = model(K_train)  # 輸入 kernel matrix 的每一列\n",
    "    loss = loss_fn(preds, y_train_tensor)\n",
    "\n",
    "    optimizer.zero_grad()\n",
    "    loss.backward()\n",
    "    optimizer.step()\n",
    "\n",
    "    if epoch % 20 == 0:\n",
    "        print(f\"Epoch {epoch}, Loss: {loss.item():.4f}\")\n"
   ]
  },
  {
   "cell_type": "code",
   "execution_count": 128,
   "metadata": {},
   "outputs": [
    {
     "name": "stdout",
     "output_type": "stream",
     "text": [
      "torch.Size([679, 1])\n"
     ]
    }
   ],
   "source": [
    "print(y_train_tensor.shape)"
   ]
  },
  {
   "cell_type": "code",
   "execution_count": 134,
   "metadata": {},
   "outputs": [
    {
     "name": "stdout",
     "output_type": "stream",
     "text": [
      "6.351719150643476e-11 171.16448974609375\n"
     ]
    }
   ],
   "source": [
    "print(K_train.min().item(), K_train.max().item())"
   ]
  },
  {
   "cell_type": "code",
   "execution_count": 142,
   "metadata": {},
   "outputs": [
    {
     "name": "stderr",
     "output_type": "stream",
     "text": [
      "C:\\Users\\wenwe\\AppData\\Local\\Temp\\ipykernel_34424\\4178857608.py:1: UserWarning: To copy construct from a tensor, it is recommended to use sourceTensor.clone().detach() or sourceTensor.clone().detach().requires_grad_(True), rather than torch.tensor(sourceTensor).\n",
      "  y_val_tensor   = torch.tensor(y_test_01, dtype=torch.float32).to(device).view(-1, 1)\n"
     ]
    }
   ],
   "source": [
    "y_val_tensor   = torch.tensor(y_test_01, dtype=torch.float32).to(device).view(-1, 1)"
   ]
  },
  {
   "cell_type": "code",
   "execution_count": 198,
   "metadata": {
    "id": "L0Leao8h8Wg5"
   },
   "outputs": [
    {
     "name": "stdout",
     "output_type": "stream",
     "text": [
      "Validation Accuracy:  0.4852\n",
      "Test Accuracy:  0.5130\n"
     ]
    }
   ],
   "source": [
    "from sklearn.metrics import accuracy_score\n",
    "\n",
    "model.eval()\n",
    "with torch.no_grad():\n",
    "    val_logits = model(K_val)\n",
    "    test_logits = model(K_test)\n",
    "\n",
    "    val_probs = torch.sigmoid(val_logits)\n",
    "    test_probs = torch.sigmoid(test_logits)\n",
    "\n",
    "    val_preds = (val_probs > 0.5).int().cpu().numpy()\n",
    "    test_preds = (test_probs > 0.5).int().cpu().numpy()\n",
    "\n",
    "    y_val_true = y_val_01.cpu().numpy()\n",
    "    y_test_true = y_test_01.cpu().numpy()\n",
    "    \n",
    "    val_acc = accuracy_score(y_val_true, val_preds)\n",
    "    test_acc = accuracy_score(y_test_true, test_preds)\n",
    "\n",
    "print(f\"Validation Accuracy: {val_acc: .4f}\" )\n",
    "print(f\"Test Accuracy: {test_acc : .4f}\")"
   ]
  }
 ],
 "metadata": {
  "colab": {
   "provenance": []
  },
  "kernelspec": {
   "display_name": "QSVM(conda)",
   "language": "python",
   "name": "qsvm_env"
  },
  "language_info": {
   "codemirror_mode": {
    "name": "ipython",
    "version": 3
   },
   "file_extension": ".py",
   "mimetype": "text/x-python",
   "name": "python",
   "nbconvert_exporter": "python",
   "pygments_lexer": "ipython3",
   "version": "3.10.16"
  }
 },
 "nbformat": 4,
 "nbformat_minor": 4
}
